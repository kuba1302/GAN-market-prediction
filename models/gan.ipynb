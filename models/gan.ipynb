{
 "cells": [
  {
   "cell_type": "code",
   "execution_count": 3,
   "metadata": {},
   "outputs": [
    {
     "name": "stderr",
     "output_type": "stream",
     "text": [
      "2022-02-02 20:00:47.706177: W tensorflow/stream_executor/platform/default/dso_loader.cc:64] Could not load dynamic library 'libcudart.so.11.0'; dlerror: libcudart.so.11.0: cannot open shared object file: No such file or directory\n",
      "2022-02-02 20:00:47.706207: I tensorflow/stream_executor/cuda/cudart_stub.cc:29] Ignore above cudart dlerror if you do not have a GPU set up on your machine.\n"
     ]
    }
   ],
   "source": [
    "import pandas as pd\n",
    "import tensorflow as tf\n",
    "import matplotlib.pyplot as plt\n",
    "import numpy as np\n",
    "from tensorflow.keras.layers import GRU, Flatten, Dense, Conv1D, Dropout, LeakyReLU\n",
    "from tensorflow.keras import Sequential\n",
    "from sklearn.metrics import mean_squared_error\n",
    "from pathlib import Path\n",
    "import os\n",
    "\n",
    "%load_ext blackcellmagic\n",
    "\n",
    "# %%black for formatting"
   ]
  },
  {
   "cell_type": "code",
   "execution_count": 4,
   "metadata": {},
   "outputs": [],
   "source": [
    "def generator(input_dim, feature_size, output_dim=1):\n",
    "    model = Sequential()\n",
    "    model.add(\n",
    "        GRU(\n",
    "            units=1024,\n",
    "            return_sequences=True,\n",
    "            input_shape=(input_dim, feature_size),\n",
    "            recurrent_dropout=0.2,\n",
    "        )\n",
    "    )\n",
    "    model.add(GRU(units=512, return_sequences=True, recurrent_dropout=0.2))\n",
    "    model.add(GRU(units=256, return_sequences=False, recurrent_dropout=0.2))\n",
    "    model.add(Dense(128))\n",
    "    model.add(Dense(64))\n",
    "    model.add(Dense(units=output_dim))\n",
    "    return model\n",
    "\n",
    "\n",
    "def discriminator(input_shape):\n",
    "    model = tf.keras.Sequential()\n",
    "    model.add(\n",
    "        Conv1D(\n",
    "            32,\n",
    "            input_shape=input_shape,\n",
    "            kernel_size=3,\n",
    "            strides=2,\n",
    "            padding=\"same\",\n",
    "            activation=LeakyReLU(alpha=0.01),\n",
    "        )\n",
    "    )\n",
    "    model.add(\n",
    "        Conv1D(\n",
    "            64,\n",
    "            kernel_size=5,\n",
    "            strides=2,\n",
    "            padding=\"same\",\n",
    "            activation=LeakyReLU(alpha=0.01),\n",
    "        )\n",
    "    )\n",
    "    model.add(\n",
    "        Conv1D(\n",
    "            128,\n",
    "            kernel_size=5,\n",
    "            strides=2,\n",
    "            padding=\"same\",\n",
    "            activation=LeakyReLU(alpha=0.01),\n",
    "        )\n",
    "    )\n",
    "    model.add(Flatten())\n",
    "    model.add(Dense(220, use_bias=False))\n",
    "    model.add(LeakyReLU(alpha=0.1))\n",
    "    model.add(Dense(220, use_bias=False, activation=\"relu\"))\n",
    "    model.add(Dense(1, activation=\"sigmoid\"))\n",
    "    return model"
   ]
  },
  {
   "cell_type": "code",
   "execution_count": 5,
   "metadata": {},
   "outputs": [],
   "source": [
    "class Gan:\n",
    "    def __init__(self, batch_size, learning_rate, generator, discriminator):\n",
    "        self.batch_size = batch_size\n",
    "        self.learning_rate = learning_rate\n",
    "        self.generator = generator\n",
    "        self.generator_optimizer = tf.keras.optimizers.Adam(lr=self.learning_rate)\n",
    "        self.discriminator = discriminator\n",
    "        self.discriminator_optimizer = tf.keras.optimizers.Adam(lr=self.learning_rate)\n",
    "        self.loss = tf.keras.losses.BinaryCrossentropy(from_logits=True)\n",
    "        self.checkpoint_directory = str(\n",
    "            Path(os.path.abspath(\"\").parents[0]) / \"/checkpoints/\"\n",
    "        )\n",
    "        self.checkpoint_prefix = str(Path(self.checkpoint_directory) / \"ckpt\")\n",
    "        self.checkpoint = tf.train.Checkpoint(\n",
    "            generator_optimizer=self.generator_optimizer,\n",
    "            discriminator_optimizer=self.discriminator_optimizer,\n",
    "            generator=self.generator,\n",
    "            discriminator=self.discriminator,\n",
    "        )\n",
    "\n",
    "    def discriminator_loss(self, real_output, fake_output):\n",
    "        real_loss = self.cross_entropy(tf.ones_like(real_output), real_output)\n",
    "        fake_loss = self.cross_entropy(tf.zeros_like(fake_output), fake_output)\n",
    "        total_loss = real_loss + fake_loss\n",
    "        return total_loss\n",
    "\n",
    "    def generator_loss(self, fake_output):\n",
    "        return self.cross_entropy(tf.ones_like(fake_output), fake_output)\n",
    "\n",
    "    @tf.function\n",
    "    def train_step(self, real_x, real_y): \n",
    "        with tf.GradientTape() as gen_tape, tf.GradientTape() as disc_tape:\n",
    "            pass "
   ]
  },
  {
   "cell_type": "markdown",
   "metadata": {},
   "source": []
  },
  {
   "cell_type": "code",
   "execution_count": 26,
   "metadata": {},
   "outputs": [
    {
     "name": "stdout",
     "output_type": "stream",
     "text": [
      "Model: \"sequential_4\"\n",
      "_________________________________________________________________\n",
      " Layer (type)                Output Shape              Param #   \n",
      "=================================================================\n",
      " conv1d_6 (Conv1D)           (None, 2, 32)             128       \n",
      "                                                                 \n",
      " conv1d_7 (Conv1D)           (None, 1, 64)             10304     \n",
      "                                                                 \n",
      " conv1d_8 (Conv1D)           (None, 1, 128)            41088     \n",
      "                                                                 \n",
      " flatten_1 (Flatten)         (None, 128)               0         \n",
      "                                                                 \n",
      " dense_3 (Dense)             (None, 220)               28160     \n",
      "                                                                 \n",
      " leaky_re_lu_10 (LeakyReLU)  (None, 220)               0         \n",
      "                                                                 \n",
      " dense_4 (Dense)             (None, 220)               48400     \n",
      "                                                                 \n",
      " dense_5 (Dense)             (None, 1)                 221       \n",
      "                                                                 \n",
      "=================================================================\n",
      "Total params: 128,301\n",
      "Trainable params: 128,301\n",
      "Non-trainable params: 0\n",
      "_________________________________________________________________\n"
     ]
    }
   ],
   "source": [
    "discriminator.summary()"
   ]
  },
  {
   "cell_type": "code",
   "execution_count": null,
   "metadata": {},
   "outputs": [],
   "source": []
  }
 ],
 "metadata": {
  "interpreter": {
   "hash": "f5dab0bdbf1d3423670239750a4b7a68e20fb6d5be16f47fcb78a883b4124903"
  },
  "kernelspec": {
   "display_name": "Python 3.9.7 64-bit ('venv': venv)",
   "language": "python",
   "name": "python3"
  },
  "language_info": {
   "codemirror_mode": {
    "name": "ipython",
    "version": 3
   },
   "file_extension": ".py",
   "mimetype": "text/x-python",
   "name": "python",
   "nbconvert_exporter": "python",
   "pygments_lexer": "ipython3",
   "version": "3.9.7"
  },
  "orig_nbformat": 4
 },
 "nbformat": 4,
 "nbformat_minor": 2
}
