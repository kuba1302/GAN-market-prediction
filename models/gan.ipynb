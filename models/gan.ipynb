{
 "cells": [
  {
   "cell_type": "code",
   "execution_count": 1,
   "metadata": {},
   "outputs": [
    {
     "name": "stderr",
     "output_type": "stream",
     "text": [
      "2022-03-04 01:38:30.427809: W tensorflow/stream_executor/platform/default/dso_loader.cc:64] Could not load dynamic library 'libcudart.so.11.0'; dlerror: libcudart.so.11.0: cannot open shared object file: No such file or directory\n",
      "2022-03-04 01:38:30.427825: I tensorflow/stream_executor/cuda/cudart_stub.cc:29] Ignore above cudart dlerror if you do not have a GPU set up on your machine.\n"
     ]
    }
   ],
   "source": [
    "import pandas as pd\n",
    "import tensorflow as tf\n",
    "import matplotlib.pyplot as plt\n",
    "import numpy as np\n",
    "import pickle\n",
    "import logging\n",
    "import time\n",
    "from tensorflow.keras.layers import GRU, Flatten, Dense, Conv1D, Dropout, LeakyReLU\n",
    "from tensorflow.keras import Sequential\n",
    "from sklearn.metrics import mean_squared_error\n",
    "from pathlib import Path\n",
    "import os\n",
    "\n",
    "%load_ext blackcellmagic\n",
    "\n",
    "# %%black for formatting"
   ]
  },
  {
   "cell_type": "code",
   "execution_count": 2,
   "metadata": {},
   "outputs": [],
   "source": [
    "logging.basicConfig(format='%(asctime)s %(message)s', datefmt='%m/%d/%Y %I:%M:%S %p')"
   ]
  },
  {
   "cell_type": "code",
   "execution_count": 3,
   "metadata": {},
   "outputs": [
    {
     "data": {
      "text/plain": [
       "PosixPath('/home/kuba1302/Gan/gan/data/scaled_data')"
      ]
     },
     "execution_count": 3,
     "metadata": {},
     "output_type": "execute_result"
    }
   ],
   "source": [
    "load_path = Path(os.path.abspath('')).parents[0] / 'data' / 'scaled_data' \n",
    "load_path"
   ]
  },
  {
   "cell_type": "code",
   "execution_count": 4,
   "metadata": {},
   "outputs": [],
   "source": [
    "names = ['X_list', 'Y_preds_real_list', 'Y_whole_real_list']\n",
    "def load_df_lists(names):\n",
    "    data_dict = {}\n",
    "    for name in names:\n",
    "        with open(load_path / f'{name}.pickle', 'rb') as handle:\n",
    "            data_dict[name] = pickle.load(handle)\n",
    "\n",
    "data_dict = load_df_lists(names)"
   ]
  },
  {
   "cell_type": "code",
   "execution_count": 5,
   "metadata": {},
   "outputs": [],
   "source": [
    "with open(load_path / 'X_list.pickle', 'rb') as test:\n",
    "    X_list = pickle.load(test) \n",
    "with open(load_path / 'Y_preds_real_list.pickle', 'rb') as test:\n",
    "    Y_preds_real_list = pickle.load(test) \n",
    "with open(load_path / 'Y_whole_real_list.pickle', 'rb') as test:\n",
    "    Y_whole_real_list = pickle.load(test) "
   ]
  },
  {
   "cell_type": "code",
   "execution_count": 6,
   "metadata": {},
   "outputs": [],
   "source": [
    "data_dict"
   ]
  },
  {
   "cell_type": "code",
   "execution_count": 7,
   "metadata": {},
   "outputs": [],
   "source": [
    "def generator(input_dim, feature_size, output_dim=1):\n",
    "    model = Sequential()\n",
    "    model.add(\n",
    "        GRU(\n",
    "            units=1024,\n",
    "            return_sequences=True,\n",
    "            input_shape=(input_dim, feature_size),\n",
    "            recurrent_dropout=0.2,\n",
    "        )\n",
    "    )\n",
    "    model.add(GRU(units=512, return_sequences=True, recurrent_dropout=0.2))\n",
    "    model.add(GRU(units=256, return_sequences=False, recurrent_dropout=0.2))\n",
    "    model.add(Dense(128))\n",
    "    model.add(Dense(64))\n",
    "    model.add(Dense(units=output_dim))\n",
    "    return model\n",
    "\n",
    "\n",
    "def discriminator(input_shape):\n",
    "    model = tf.keras.Sequential()\n",
    "    model.add(\n",
    "        Conv1D(\n",
    "            32,\n",
    "            input_shape=input_shape,\n",
    "            kernel_size=3,\n",
    "            strides=2,\n",
    "            padding=\"same\",\n",
    "            activation=LeakyReLU(alpha=0.01),\n",
    "        )\n",
    "    )\n",
    "    model.add(\n",
    "        Conv1D(\n",
    "            64,\n",
    "            kernel_size=5,\n",
    "            strides=2,\n",
    "            padding=\"same\",\n",
    "            activation=LeakyReLU(alpha=0.01),\n",
    "        )\n",
    "    )\n",
    "    model.add(\n",
    "        Conv1D(\n",
    "            128,\n",
    "            kernel_size=5,\n",
    "            strides=2,\n",
    "            padding=\"same\",\n",
    "            activation=LeakyReLU(alpha=0.01),\n",
    "        )\n",
    "    )\n",
    "    model.add(Flatten())\n",
    "    model.add(Dense(220, use_bias=False))\n",
    "    model.add(LeakyReLU(alpha=0.1))\n",
    "    model.add(Dense(220, use_bias=False, activation=\"relu\"))\n",
    "    model.add(Dense(1, activation=\"sigmoid\"))\n",
    "    return model"
   ]
  },
  {
   "cell_type": "code",
   "execution_count": 15,
   "metadata": {},
   "outputs": [],
   "source": [
    "class StockTimeGan:\n",
    "    def __init__(self, generator, discriminator, learning_rate=0.00016):\n",
    "        self.learning_rate = learning_rate\n",
    "        self.generator = generator\n",
    "        self.generator_optimizer = tf.keras.optimizers.Adam(learning_rate=self.learning_rate)\n",
    "        self.discriminator = discriminator\n",
    "        self.discriminator_optimizer = tf.keras.optimizers.Adam(learning_rate=self.learning_rate)\n",
    "        self.loss = tf.keras.losses.BinaryCrossentropy(from_logits=True)\n",
    "        self.checkpoint_directory = str(\n",
    "            Path(os.path.abspath(\"\")).parents[0] / \"/checkpoints/\"\n",
    "        )\n",
    "        self.checkpoint_prefix = str(Path(self.checkpoint_directory) / \"ckpt\")\n",
    "        self.checkpoint = tf.train.Checkpoint(\n",
    "            generator_optimizer=self.generator_optimizer,\n",
    "            discriminator_optimizer=self.discriminator_optimizer,\n",
    "            generator=self.generator,\n",
    "            discriminator=self.discriminator,\n",
    "        )\n",
    "\n",
    "    def discriminator_loss(self, real_output, fake_output):\n",
    "        real_loss = self.loss(tf.ones_like(real_output), real_output)\n",
    "        fake_loss = self.loss(tf.zeros_like(fake_output), fake_output)\n",
    "        total_loss = real_loss + fake_loss\n",
    "        return total_loss\n",
    "\n",
    "    def generator_loss(self, fake_output):\n",
    "        return self.loss(tf.ones_like(fake_output), fake_output)\n",
    "\n",
    "    @tf.function\n",
    "    def train_step(self, real_x, real_to_pred_y, real_whole_y): \n",
    "        with tf.GradientTape() as gen_tape, tf.GradientTape() as disc_tape:\n",
    "            generated_data = self.generator(real_x, training=True)\n",
    "            generated_data_reshape = tf.reshape(\n",
    "                generated_data, [generated_data.shape[0], generated_data.shape[1], 1]\n",
    "            )\n",
    "            real_to_pred_y_reshape = tf.reshape(\n",
    "                Y_preds_real_list, [Y_preds_real_list.shape[0], Y_preds_real_list.shape[1], 1]\n",
    "            )\n",
    "            real_whole_y_reshape = tf.reshape(real_whole_y, [real_whole_y.shape[0], real_whole_y.shape[1], 1])\n",
    "            d_fake_input = tf.concat(\n",
    "                [real_whole_y_reshape, tf.cast(generated_data_reshape, tf.float64)], axis=1\n",
    "            )\n",
    "            d_real_input = tf.concat([real_whole_y_reshape, real_to_pred_y_reshape], axis=1)\n",
    "            real_output = self.discriminator(d_real_input, training=True)\n",
    "            fake_output = self.discriminator(d_fake_input, training=True)\n",
    "            gen_loss = self.generator_loss(fake_output)\n",
    "            disc_loss = self.discriminator_loss(real_output, fake_output)\n",
    "\n",
    "        gradients_of_generator = gen_tape.gradient(\n",
    "            gen_loss, self.generator.trainable_variables\n",
    "        )\n",
    "        gradients_of_discriminator = disc_tape.gradient(\n",
    "            disc_loss, self.discriminator.trainable_variables\n",
    "        )\n",
    "\n",
    "        self.generator_optimizer.apply_gradients(\n",
    "            zip(gradients_of_generator, self.generator.trainable_variables)\n",
    "        )\n",
    "        self.discriminator_optimizer.apply_gradients(\n",
    "            zip(gradients_of_discriminator, self.discriminator.trainable_variables)\n",
    "        )\n",
    "        return real_to_pred_y, generated_data, disc_loss, gen_loss\n",
    "\n",
    "    def train(self, real_x, real_to_pred_y, real_whole_y, epochs):\n",
    "        train_history = {}\n",
    "        train_history['gen_loss'] = []\n",
    "        train_history['disc_loss'] = []\n",
    "        train_history['real_y'] = []\n",
    "        train_history['pred_y'] = []\n",
    "\n",
    "        for i in range(epochs): \n",
    "            start_time = time.time()\n",
    "            real_to_pred_y, generated_data, disc_loss, gen_loss = self.train_step(real_x, real_to_pred_y, real_whole_y)\n",
    "            train_history['gen_loss'].append(gen_loss)\n",
    "            train_history['disc_loss'].append(disc_loss)\n",
    "            train_history['real_y'].append(real_whole_y)\n",
    "            train_history['pred_y'].append(generated_data)\n",
    "            end_time = time.time()\n",
    "            epoch_time = end_time - start_time\n",
    "            rmse = np.sqrt(mean_squared_error(real_whole_y, generated_data))\n",
    "            logging.info(f'Epoch: {i} - RMSE: {rmse} - Epoch time: {epoch_time}')\n",
    "\n",
    "        return train_history\n"
   ]
  },
  {
   "cell_type": "markdown",
   "metadata": {},
   "source": []
  },
  {
   "cell_type": "code",
   "execution_count": 9,
   "metadata": {},
   "outputs": [
    {
     "name": "stderr",
     "output_type": "stream",
     "text": [
      "2022-03-04 01:38:32.040308: W tensorflow/stream_executor/platform/default/dso_loader.cc:64] Could not load dynamic library 'libcuda.so.1'; dlerror: libcuda.so.1: cannot open shared object file: No such file or directory\n",
      "2022-03-04 01:38:32.040329: W tensorflow/stream_executor/cuda/cuda_driver.cc:269] failed call to cuInit: UNKNOWN ERROR (303)\n",
      "2022-03-04 01:38:32.040344: I tensorflow/stream_executor/cuda/cuda_diagnostics.cc:156] kernel driver does not appear to be running on this host (kuba1302-Inspiron-5502): /proc/driver/nvidia/version does not exist\n",
      "2022-03-04 01:38:32.040503: I tensorflow/core/platform/cpu_feature_guard.cc:151] This TensorFlow binary is optimized with oneAPI Deep Neural Network Library (oneDNN) to use the following CPU instructions in performance-critical operations:  AVX2 AVX512F FMA\n",
      "To enable them in other operations, rebuild TensorFlow with the appropriate compiler flags.\n"
     ]
    }
   ],
   "source": [
    "generator = generator(X_list.shape[1], X_list.shape[2])\n",
    "discriminator = discriminator((31, Y_preds_real_list.shape[1]))"
   ]
  },
  {
   "cell_type": "code",
   "execution_count": 16,
   "metadata": {},
   "outputs": [],
   "source": [
    "gan = StockTimeGan(generator, discriminator)"
   ]
  },
  {
   "cell_type": "markdown",
   "metadata": {},
   "source": []
  },
  {
   "cell_type": "code",
   "execution_count": 17,
   "metadata": {},
   "outputs": [
    {
     "name": "stderr",
     "output_type": "stream",
     "text": [
      "/home/kuba1302/.local/lib/python3.9/site-packages/tensorflow/python/util/dispatch.py:1096: UserWarning: \"`binary_crossentropy` received `from_logits=True`, but the `output` argument was produced by a sigmoid or softmax activation and thus does not represent logits. Was this intended?\"\n",
      "  return dispatch_target(*args, **kwargs)\n"
     ]
    }
   ],
   "source": [
    "train_history = gan.train(X_list, Y_preds_real_list, Y_whole_real_list, epochs=10)"
   ]
  },
  {
   "cell_type": "code",
   "execution_count": null,
   "metadata": {},
   "outputs": [],
   "source": [
    "train_history"
   ]
  },
  {
   "cell_type": "code",
   "execution_count": null,
   "metadata": {},
   "outputs": [],
   "source": [
    "generated_data = generator(X_list, training=True)\n",
    "generated_data_reshape = tf.reshape(\n",
    "                generated_data, [generated_data.shape[0], generated_data.shape[1], 1]\n",
    "            )\n",
    "d_fake_input = tf.concat(\n",
    "    [tf.cast(generated_data_reshape, tf.float64), Y_whole_reshape], axis=1\n",
    ")"
   ]
  },
  {
   "cell_type": "code",
   "execution_count": null,
   "metadata": {},
   "outputs": [
    {
     "data": {
      "text/plain": [
       "<tf.Tensor: shape=(713, 31, 1), dtype=float64, numpy=\n",
       "array([[[0.06576961],\n",
       "        [0.10609893],\n",
       "        [0.0804942 ],\n",
       "        ...,\n",
       "        [0.        ],\n",
       "        [0.0239182 ],\n",
       "        [0.06838172]],\n",
       "\n",
       "       [[0.07370403],\n",
       "        [0.0804942 ],\n",
       "        [0.10824547],\n",
       "        ...,\n",
       "        [0.0239182 ],\n",
       "        [0.06838172],\n",
       "        [0.08156741]],\n",
       "\n",
       "       [[0.06238767],\n",
       "        [0.10824547],\n",
       "        [0.12863735],\n",
       "        ...,\n",
       "        [0.06838172],\n",
       "        [0.08156741],\n",
       "        [0.06884167]],\n",
       "\n",
       "       ...,\n",
       "\n",
       "       [[0.03155224],\n",
       "        [0.64749378],\n",
       "        [0.6145095 ],\n",
       "        ...,\n",
       "        [0.28169662],\n",
       "        [0.29310823],\n",
       "        [0.30373824]],\n",
       "\n",
       "       [[0.04913937],\n",
       "        [0.6145095 ],\n",
       "        [0.61810487],\n",
       "        ...,\n",
       "        [0.29310823],\n",
       "        [0.30373824],\n",
       "        [0.31155442]],\n",
       "\n",
       "       [[0.01583656],\n",
       "        [0.61810487],\n",
       "        [0.60731863],\n",
       "        ...,\n",
       "        [0.30373824],\n",
       "        [0.31155442],\n",
       "        [0.30842793]]])>"
      ]
     },
     "execution_count": 26,
     "metadata": {},
     "output_type": "execute_result"
    }
   ],
   "source": [
    "d_fake_input"
   ]
  },
  {
   "cell_type": "code",
   "execution_count": null,
   "metadata": {},
   "outputs": [
    {
     "data": {
      "text/plain": [
       "TensorShape([713, 1, 1])"
      ]
     },
     "execution_count": 18,
     "metadata": {},
     "output_type": "execute_result"
    }
   ],
   "source": [
    "Y_preds_real_list_reshape.shape\n"
   ]
  },
  {
   "cell_type": "code",
   "execution_count": null,
   "metadata": {},
   "outputs": [],
   "source": [
    "Y_preds_real_list_reshape = tf.reshape(\n",
    "                Y_preds_real_list, [Y_preds_real_list.shape[0], Y_preds_real_list.shape[1], 1]\n",
    "            )\n",
    "Y_whole_reshape = tf.reshape(\n",
    "                Y_whole_real_list, [Y_whole_real_list.shape[0], Y_whole_real_list.shape[1], 1]\n",
    "            )\n",
    "real_y_reshape = tf.reshape(Y_whole_real_list, [Y_whole_real_list.shape[0], Y_whole_real_list.shape[1], 1])\n",
    "d_real_input = tf.concat([real_y_reshape, Y_preds_real_list_reshape], axis=1)"
   ]
  },
  {
   "cell_type": "code",
   "execution_count": null,
   "metadata": {},
   "outputs": [
    {
     "data": {
      "text/plain": [
       "TensorShape([713, 31, 1])"
      ]
     },
     "execution_count": 19,
     "metadata": {},
     "output_type": "execute_result"
    }
   ],
   "source": [
    "d_real_input.shape"
   ]
  },
  {
   "cell_type": "code",
   "execution_count": null,
   "metadata": {},
   "outputs": [
    {
     "data": {
      "text/plain": [
       "<tf.Tensor: shape=(713, 30, 1), dtype=float64, numpy=\n",
       "array([[[0.10609893],\n",
       "        [0.0804942 ],\n",
       "        [0.10824547],\n",
       "        ...,\n",
       "        [0.        ],\n",
       "        [0.0239182 ],\n",
       "        [0.06838172]],\n",
       "\n",
       "       [[0.0804942 ],\n",
       "        [0.10824547],\n",
       "        [0.12863735],\n",
       "        ...,\n",
       "        [0.0239182 ],\n",
       "        [0.06838172],\n",
       "        [0.08156741]],\n",
       "\n",
       "       [[0.10824547],\n",
       "        [0.12863735],\n",
       "        [0.15117571],\n",
       "        ...,\n",
       "        [0.06838172],\n",
       "        [0.08156741],\n",
       "        [0.06884167]],\n",
       "\n",
       "       ...,\n",
       "\n",
       "       [[0.64749378],\n",
       "        [0.6145095 ],\n",
       "        [0.61810487],\n",
       "        ...,\n",
       "        [0.28169662],\n",
       "        [0.29310823],\n",
       "        [0.30373824]],\n",
       "\n",
       "       [[0.6145095 ],\n",
       "        [0.61810487],\n",
       "        [0.60731863],\n",
       "        ...,\n",
       "        [0.29310823],\n",
       "        [0.30373824],\n",
       "        [0.31155442]],\n",
       "\n",
       "       [[0.61810487],\n",
       "        [0.60731863],\n",
       "        [0.6254521 ],\n",
       "        ...,\n",
       "        [0.30373824],\n",
       "        [0.31155442],\n",
       "        [0.30842793]]])>"
      ]
     },
     "execution_count": 20,
     "metadata": {},
     "output_type": "execute_result"
    }
   ],
   "source": [
    "real_y_reshape"
   ]
  },
  {
   "cell_type": "code",
   "execution_count": null,
   "metadata": {},
   "outputs": [],
   "source": []
  }
 ],
 "metadata": {
  "interpreter": {
   "hash": "f5dab0bdbf1d3423670239750a4b7a68e20fb6d5be16f47fcb78a883b4124903"
  },
  "kernelspec": {
   "display_name": "Python 3.9.7 64-bit ('venv': venv)",
   "language": "python",
   "name": "python3"
  },
  "language_info": {
   "codemirror_mode": {
    "name": "ipython",
    "version": 3
   },
   "file_extension": ".py",
   "mimetype": "text/x-python",
   "name": "python",
   "nbconvert_exporter": "python",
   "pygments_lexer": "ipython3",
   "version": "3.9.7"
  },
  "orig_nbformat": 4
 },
 "nbformat": 4,
 "nbformat_minor": 2
}
