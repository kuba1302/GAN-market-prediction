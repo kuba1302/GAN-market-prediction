{
 "cells": [
  {
   "cell_type": "code",
   "execution_count": 11,
   "metadata": {},
   "outputs": [
    {
     "name": "stdout",
     "output_type": "stream",
     "text": [
      "The blackcellmagic extension is already loaded. To reload it, use:\n",
      "  %reload_ext blackcellmagic\n"
     ]
    }
   ],
   "source": [
    "import pandas as pd\n",
    "import tensorflow as tf\n",
    "import matplotlib.pyplot as plt\n",
    "import numpy as np\n",
    "from tensorflow.keras.layers import GRU, Flatten, Dense, Conv1D, Dropout, LeakyReLU\n",
    "from tensorflow.keras import Sequential\n",
    "from sklearn.metrics import mean_squared_error\n",
    "from pathlib import Path\n",
    "import os\n",
    "\n",
    "%load_ext blackcellmagic\n",
    "\n",
    "# %%black for formatting"
   ]
  },
  {
   "cell_type": "code",
   "execution_count": 2,
   "metadata": {},
   "outputs": [],
   "source": [
    "def generator(input_dim, feature_size, output_dim=1):\n",
    "    model = Sequential()\n",
    "    model.add(\n",
    "        GRU(\n",
    "            units=1024,\n",
    "            return_sequences=True,\n",
    "            input_shape=(input_dim, feature_size),\n",
    "            recurrent_dropout=0.2,\n",
    "        )\n",
    "    )\n",
    "    model.add(GRU(units=512, return_sequences=True, recurrent_dropout=0.2))\n",
    "    model.add(GRU(units=256, return_sequences=False, recurrent_dropout=0.2))\n",
    "    model.add(Dense(128))\n",
    "    model.add(Dense(64))\n",
    "    model.add(Dense(units=output_dim))\n",
    "    return model\n",
    "\n",
    "\n",
    "def discriminator(input_shape):\n",
    "    model = tf.keras.Sequential()\n",
    "    model.add(\n",
    "        Conv1D(\n",
    "            32,\n",
    "            input_shape=input_shape,\n",
    "            kernel_size=3,\n",
    "            strides=2,\n",
    "            padding=\"same\",\n",
    "            activation=LeakyReLU(alpha=0.01),\n",
    "        )\n",
    "    )\n",
    "    model.add(\n",
    "        Conv1D(\n",
    "            64,\n",
    "            kernel_size=5,\n",
    "            strides=2,\n",
    "            padding=\"same\",\n",
    "            activation=LeakyReLU(alpha=0.01),\n",
    "        )\n",
    "    )\n",
    "    model.add(\n",
    "        Conv1D(\n",
    "            128,\n",
    "            kernel_size=5,\n",
    "            strides=2,\n",
    "            padding=\"same\",\n",
    "            activation=LeakyReLU(alpha=0.01),\n",
    "        )\n",
    "    )\n",
    "    model.add(Flatten())\n",
    "    model.add(Dense(220, use_bias=False))\n",
    "    model.add(LeakyReLU(alpha=0.1))\n",
    "    model.add(Dense(220, use_bias=False, activation=\"relu\"))\n",
    "    model.add(Dense(1, activation=\"sigmoid\"))\n",
    "    return model"
   ]
  },
  {
   "cell_type": "code",
   "execution_count": 6,
   "metadata": {},
   "outputs": [],
   "source": [
    "class Gan:\n",
    "    def __init__(self, batch_size, learning_rate, generator, discriminator):\n",
    "        self.batch_size = batch_size\n",
    "        self.learning_rate = learning_rate\n",
    "        self.generator = generator\n",
    "        self.generator_optimizer = tf.keras.optimizers.Adam(lr=self.learning_rate)\n",
    "        self.discriminator = discriminator\n",
    "        self.discriminator_optimizer = tf.keras.optimizers.Adam(lr=self.learning_rate)\n",
    "        self.loss = tf.keras.losses.BinaryCrossentropy()\n",
    "        self.checkpoint_directory = str(Path(os.path.abspath('').parents[0]) / '/checkpoints/')"
   ]
  },
  {
   "cell_type": "code",
   "execution_count": null,
   "metadata": {},
   "outputs": [],
   "source": []
  },
  {
   "cell_type": "code",
   "execution_count": null,
   "metadata": {},
   "outputs": [],
   "source": []
  }
 ],
 "metadata": {
  "interpreter": {
   "hash": "f5dab0bdbf1d3423670239750a4b7a68e20fb6d5be16f47fcb78a883b4124903"
  },
  "kernelspec": {
   "display_name": "Python 3.9.7 64-bit ('venv': venv)",
   "language": "python",
   "name": "python3"
  },
  "language_info": {
   "codemirror_mode": {
    "name": "ipython",
    "version": 3
   },
   "file_extension": ".py",
   "mimetype": "text/x-python",
   "name": "python",
   "nbconvert_exporter": "python",
   "pygments_lexer": "ipython3",
   "version": "3.9.7"
  },
  "orig_nbformat": 4
 },
 "nbformat": 4,
 "nbformat_minor": 2
}
