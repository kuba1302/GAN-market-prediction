{
 "cells": [
  {
   "cell_type": "code",
   "execution_count": 1,
   "metadata": {},
   "outputs": [],
   "source": [
    "import pandas as pd\n",
    "import tensorflow as tf\n",
    "import matplotlib as mpl\n",
    "import matplotlib.pyplot as plt\n",
    "mpl.use('pgf')\n",
    "'pgf'\n",
    "import numpy as np\n",
    "from sklearn.metrics import mean_squared_error\n",
    "from pathlib import Path\n",
    "import os\n",
    "import pickle\n",
    "from models.gan.gan import generator, discriminator, StockTimeGan\n",
    "from utils.log import prepare_logger\n",
    "from pathlib import Path\n",
    "import os\n",
    "from sklearn.metrics import mean_squared_error, mean_absolute_error\n",
    "import datetime\n",
    "\n",
    "plt.rcParams.update({\n",
    "    \"pgf.texsystem\": \"pdflatex\",\n",
    "    'font.family': 'serif',\n",
    "    'text.usetex': True,\n",
    "    'pgf.rcfonts': False,\n",
    "    \"figure.figsize\": (30, 10), \n",
    "    \"figure.dpi\": 600\n",
    "})\n",
    "\n",
    "\n",
    "logger = prepare_logger(\"INFO\")\n",
    "# %load_ext blackcellmagic\n",
    "\n",
    "# %%black for formatting\n"
   ]
  },
  {
   "cell_type": "code",
   "execution_count": 2,
   "metadata": {},
   "outputs": [],
   "source": [
    "TICKER = \"EA\"\n",
    "MODEL_VERSION = 0.6"
   ]
  },
  {
   "cell_type": "code",
   "execution_count": 3,
   "metadata": {},
   "outputs": [],
   "source": [
    "load_path = Path(os.path.abspath(\"\")).parents[0] / \"data\" / \"scaled_data\"\n",
    "models_path = Path(os.path.abspath(\"\")).parents[0] / \"models\" / \"gan\" / \"versions\"\n",
    "\n",
    "with open(load_path / f\"data_{TICKER}.pickle\", \"rb\") as handle:\n",
    "    data = pickle.load(handle)\n",
    "\n",
    "with open(load_path / f\"scalers_{TICKER}.pickle\", \"rb\") as handle:\n",
    "    scalers = pickle.load(handle)\n",
    "\n",
    "with open(models_path / f\"model_{MODEL_VERSION}_{TICKER}.pickle\", \"rb\") as handle:\n",
    "    model_data = pickle.load(handle)\n"
   ]
  },
  {
   "cell_type": "code",
   "execution_count": 4,
   "metadata": {},
   "outputs": [],
   "source": [
    "test_preds = scalers[\"y_scaler\"].inverse_transform(model_data[\"test_preds\"])\n",
    "test_true = scalers[\"y_scaler\"].inverse_transform(model_data[\"actual_values\"])\n"
   ]
  },
  {
   "cell_type": "code",
   "execution_count": 5,
   "metadata": {},
   "outputs": [
    {
     "data": {
      "text/plain": [
       "array([[176.69999695],\n",
       "       [180.1499939 ],\n",
       "       [183.38000488],\n",
       "       [184.        ],\n",
       "       [183.6499939 ],\n",
       "       [183.6000061 ],\n",
       "       [184.02000427],\n",
       "       [182.75999451],\n",
       "       [182.66000366],\n",
       "       [181.44000244],\n",
       "       [182.5       ],\n",
       "       [178.80000305],\n",
       "       [177.91000366],\n",
       "       [177.8999939 ],\n",
       "       [176.44999695],\n",
       "       [178.38000488],\n",
       "       [176.19000244],\n",
       "       [176.42999268],\n",
       "       [174.27999878],\n",
       "       [174.38000488],\n",
       "       [176.47000122],\n",
       "       [175.38000488],\n",
       "       [170.30000305],\n",
       "       [167.52999878],\n",
       "       [167.47000122],\n",
       "       [168.63999939],\n",
       "       [170.07000732],\n",
       "       [169.02000427],\n",
       "       [167.99000549],\n",
       "       [164.25999451],\n",
       "       [162.74000549],\n",
       "       [166.99000549],\n",
       "       [168.22000122],\n",
       "       [167.69000244],\n",
       "       [179.3500061 ],\n",
       "       [185.08000183],\n",
       "       [184.36000061],\n",
       "       [185.02000427],\n",
       "       [184.61999512],\n",
       "       [185.66999817],\n",
       "       [186.47999573],\n",
       "       [185.55999756],\n",
       "       [182.75999451],\n",
       "       [176.91000366],\n",
       "       [177.72999573],\n",
       "       [184.44999695],\n",
       "       [184.25999451],\n",
       "       [184.83000183],\n",
       "       [183.58999634],\n",
       "       [184.97000122],\n",
       "       [186.41999817],\n",
       "       [186.75      ],\n",
       "       [178.6000061 ],\n",
       "       [171.6499939 ],\n",
       "       [170.5       ],\n",
       "       [171.27999878],\n",
       "       [173.47000122],\n",
       "       [174.22999573],\n",
       "       [171.88000488],\n",
       "       [175.05999756],\n",
       "       [173.82000732],\n",
       "       [178.08999634],\n",
       "       [178.1000061 ],\n",
       "       [177.02000427],\n",
       "       [178.97000122],\n",
       "       [177.30000305],\n",
       "       [174.07000732],\n",
       "       [173.69000244],\n",
       "       [170.66999817],\n",
       "       [170.36999512],\n",
       "       [172.1000061 ],\n",
       "       [173.55000305],\n",
       "       [171.88000488],\n",
       "       [168.24000549],\n",
       "       [170.52000427],\n",
       "       [168.96000671],\n",
       "       [170.02000427],\n",
       "       [170.8999939 ],\n",
       "       [171.27999878],\n",
       "       [173.28999329],\n",
       "       [172.8999939 ],\n",
       "       [167.5       ],\n",
       "       [171.27999878],\n",
       "       [169.99000549],\n",
       "       [173.41999817],\n",
       "       [173.21000671],\n",
       "       [159.86000061],\n",
       "       [158.75      ],\n",
       "       [156.77999878],\n",
       "       [158.30000305],\n",
       "       [160.57000732],\n",
       "       [159.67999268],\n",
       "       [159.92999268],\n",
       "       [160.36999512],\n",
       "       [160.3500061 ],\n",
       "       [160.3500061 ],\n",
       "       [163.47000122],\n",
       "       [161.61999512],\n",
       "       [162.27000427],\n",
       "       [160.96000671],\n",
       "       [163.36000061],\n",
       "       [163.82000732],\n",
       "       [160.66000366],\n",
       "       [158.88000488],\n",
       "       [160.02999878],\n",
       "       [158.13999939],\n",
       "       [161.22000122],\n",
       "       [161.92999268],\n",
       "       [162.02999878],\n",
       "       [160.55999756],\n",
       "       [159.11000061],\n",
       "       [159.44999695],\n",
       "       [157.02999878],\n",
       "       [153.94000244],\n",
       "       [152.92999268],\n",
       "       [152.1499939 ],\n",
       "       [152.69000244],\n",
       "       [151.88999939],\n",
       "       [151.66000366],\n",
       "       [148.83999634],\n",
       "       [145.72000122],\n",
       "       [145.25      ],\n",
       "       [146.67999268],\n",
       "       [147.36000061],\n",
       "       [148.6499939 ],\n",
       "       [149.11000061],\n",
       "       [151.6000061 ],\n",
       "       [154.07000732],\n",
       "       [158.53999329],\n",
       "       [157.13000488],\n",
       "       [162.02000427],\n",
       "       [165.44000244],\n",
       "       [170.77000427],\n",
       "       [173.69000244],\n",
       "       [170.72000122],\n",
       "       [171.3500061 ],\n",
       "       [170.6000061 ],\n",
       "       [169.38000488],\n",
       "       [170.55999756],\n",
       "       [171.75      ],\n",
       "       [172.03999329],\n",
       "       [173.5       ],\n",
       "       [182.05999756],\n",
       "       [180.75      ],\n",
       "       [182.99000549],\n",
       "       [182.53999329],\n",
       "       [180.91000366],\n",
       "       [181.11000061],\n",
       "       [181.        ],\n",
       "       [183.80000305],\n",
       "       [183.94000244],\n",
       "       [184.16000366],\n",
       "       [192.91000366],\n",
       "       [187.19999695],\n",
       "       [185.13999939],\n",
       "       [186.80999756],\n",
       "       [182.75      ],\n",
       "       [185.71000671],\n",
       "       [187.83000183],\n",
       "       [177.6000061 ],\n",
       "       [179.69000244],\n",
       "       [177.03999329],\n",
       "       [174.        ],\n",
       "       [170.5       ],\n",
       "       [164.91000366],\n",
       "       [165.13000488],\n",
       "       [164.30999756],\n",
       "       [169.66000366],\n",
       "       [169.6000061 ],\n",
       "       [165.88000488],\n",
       "       [160.3500061 ],\n",
       "       [161.38000488],\n",
       "       [165.77999878],\n",
       "       [164.3999939 ],\n",
       "       [167.28999329],\n",
       "       [170.55000305],\n",
       "       [166.38000488],\n",
       "       [165.6000061 ]])"
      ]
     },
     "execution_count": 5,
     "metadata": {},
     "output_type": "execute_result"
    }
   ],
   "source": [
    "test_true"
   ]
  },
  {
   "cell_type": "code",
   "execution_count": 6,
   "metadata": {},
   "outputs": [
    {
     "data": {
      "text/plain": [
       "176.6999969482422"
      ]
     },
     "execution_count": 6,
     "metadata": {},
     "output_type": "execute_result"
    }
   ],
   "source": [
    "test_true[0][0]"
   ]
  },
  {
   "cell_type": "code",
   "execution_count": 7,
   "metadata": {},
   "outputs": [
    {
     "data": {
      "text/plain": [
       "array([165.6000061])"
      ]
     },
     "execution_count": 7,
     "metadata": {},
     "output_type": "execute_result"
    }
   ],
   "source": [
    "test_true[-1]"
   ]
  },
  {
   "cell_type": "code",
   "execution_count": 8,
   "metadata": {},
   "outputs": [
    {
     "data": {
      "text/plain": [
       "6"
      ]
     },
     "execution_count": 8,
     "metadata": {},
     "output_type": "execute_result"
    }
   ],
   "source": [
    "amount = round(1000 / test_true[0][0])\n",
    "rest = 1000 - 67 * test_true[0][0]\n",
    "amount"
   ]
  },
  {
   "cell_type": "code",
   "execution_count": 9,
   "metadata": {},
   "outputs": [
    {
     "data": {
      "text/plain": [
       "256.3006134033203"
      ]
     },
     "execution_count": 9,
     "metadata": {},
     "output_type": "execute_result"
    }
   ],
   "source": [
    "67 * test_true[-1][0] + rest"
   ]
  },
  {
   "cell_type": "code",
   "execution_count": 10,
   "metadata": {},
   "outputs": [],
   "source": [
    "# plt.plot(data[\"Y_preds_real_list_train\"])\n",
    "# plt.show()"
   ]
  },
  {
   "cell_type": "code",
   "execution_count": 11,
   "metadata": {},
   "outputs": [],
   "source": [
    "# plt.plot(data[\"Y_preds_real_list_test\"])\n",
    "# plt.show()"
   ]
  },
  {
   "cell_type": "code",
   "execution_count": 12,
   "metadata": {},
   "outputs": [],
   "source": [
    "# full_y = list(scalers[\"y_scaler\"].inverse_transform(data[\"Y_preds_real_list_train\"]))\n",
    "# full_y.extend((list(scalers[\"y_scaler\"].inverse_transform(data[\"Y_preds_real_list_test\"]))))\n",
    "\n",
    "# plt.plot(full_y)\n",
    "# plt.axvline(535, label='Train/Test boundary')\n",
    "# plt.title('EA Close price')\n",
    "# plt.legend()\n",
    "# plt.show()"
   ]
  },
  {
   "cell_type": "code",
   "execution_count": 13,
   "metadata": {},
   "outputs": [
    {
     "data": {
      "text/plain": [
       "(535, 1)"
      ]
     },
     "execution_count": 13,
     "metadata": {},
     "output_type": "execute_result"
    }
   ],
   "source": [
    "data[\"Y_preds_real_list_train\"].shape"
   ]
  },
  {
   "cell_type": "code",
   "execution_count": 14,
   "metadata": {},
   "outputs": [
    {
     "data": {
      "text/plain": [
       "(535, 30, 19)"
      ]
     },
     "execution_count": 14,
     "metadata": {},
     "output_type": "execute_result"
    }
   ],
   "source": [
    "data[\"X_list_train\"].shape"
   ]
  },
  {
   "cell_type": "code",
   "execution_count": 15,
   "metadata": {},
   "outputs": [
    {
     "data": {
      "text/plain": [
       "(178, 1)"
      ]
     },
     "execution_count": 15,
     "metadata": {},
     "output_type": "execute_result"
    }
   ],
   "source": [
    "data[\"Y_preds_real_list_test\"].shape"
   ]
  },
  {
   "cell_type": "code",
   "execution_count": 16,
   "metadata": {},
   "outputs": [
    {
     "data": {
      "text/plain": [
       "3.5405946367242365"
      ]
     },
     "execution_count": 16,
     "metadata": {},
     "output_type": "execute_result"
    }
   ],
   "source": [
    "mean_absolute_error(y_true=test_true, y_pred=test_preds)\n"
   ]
  },
  {
   "cell_type": "code",
   "execution_count": 17,
   "metadata": {},
   "outputs": [
    {
     "data": {
      "text/plain": [
       "4.506903023931815"
      ]
     },
     "execution_count": 17,
     "metadata": {},
     "output_type": "execute_result"
    }
   ],
   "source": [
    "np.sqrt(mean_squared_error(y_true=test_true, y_pred=test_preds))\n"
   ]
  },
  {
   "cell_type": "code",
   "execution_count": 18,
   "metadata": {},
   "outputs": [],
   "source": [
    "df = pd.DataFrame(\n",
    "    {\n",
    "        \"predictions\": test_preds.reshape(\n",
    "            test_preds.shape[0],\n",
    "        ),\n",
    "        \"actual_values\": test_true.reshape(\n",
    "            test_true.shape[0],\n",
    "        ),\n",
    "    }\n",
    ")\n"
   ]
  },
  {
   "cell_type": "markdown",
   "metadata": {},
   "source": []
  },
  {
   "cell_type": "code",
   "execution_count": 19,
   "metadata": {},
   "outputs": [],
   "source": [
    "stock_path = Path(os.path.abspath(\"\")).parents[0] / \"data\" / \"stock_data\" / f'{TICKER}.csv'\n",
    "stock_df = pd.read_csv(stock_path)"
   ]
  },
  {
   "cell_type": "code",
   "execution_count": 20,
   "metadata": {},
   "outputs": [],
   "source": [
    "stock_df[\"Date\"] = pd.to_datetime(stock_df[\"Date\"])\n",
    "dates = (\n",
    "    stock_df[\n",
    "        stock_df[\"Date\"]\n",
    "        >= datetime.datetime(year=2019, month=1, day=1) + datetime.timedelta(days=30)\n",
    "    ]\n",
    "    .tail(178)[\"Date\"]\n",
    "    .values\n",
    ")\n"
   ]
  },
  {
   "cell_type": "code",
   "execution_count": 21,
   "metadata": {},
   "outputs": [],
   "source": [
    "pd.DataFrame({\"dates\": dates}).to_csv(\n",
    "    Path(os.path.abspath(\"\")).parents[0] / \"data\" / \"test_dates.csv\", index=False\n",
    ")\n"
   ]
  },
  {
   "cell_type": "code",
   "execution_count": 22,
   "metadata": {},
   "outputs": [],
   "source": [
    "fig_save_path = Path(os.path.abspath(\"\")).parents[0] / \"paper\""
   ]
  },
  {
   "cell_type": "code",
   "execution_count": 23,
   "metadata": {},
   "outputs": [
    {
     "name": "stderr",
     "output_type": "stream",
     "text": [
      "C:\\Users\\kuba1\\AppData\\Local\\Temp\\ipykernel_36196\\2075643222.py:24: UserWarning: Matplotlib is currently using pgf, which is a non-GUI backend, so cannot show the figure.\n",
      "  plt.show()\n"
     ]
    }
   ],
   "source": [
    "fig_save_path = Path(os.path.abspath(\"\")).parents[0] / \"paper\"\n",
    "plt.plot(\n",
    "    dates,\n",
    "    test_preds.reshape(\n",
    "        test_preds.shape[0],\n",
    "    ),\n",
    "    color=\"blue\",\n",
    "    label=\"Predicted price\",\n",
    ")\n",
    "plt.plot(\n",
    "    dates,\n",
    "    test_true.reshape(\n",
    "        test_true.shape[0],\n",
    "    ),\n",
    "    color=\"red\",\n",
    "    label=\"Actual price\",\n",
    ")\n",
    "plt.title(f\"{TICKER} actual price vs predicted price\", size=25)\n",
    "plt.xlabel(\"Date\", size=25)\n",
    "plt.ylabel(\"Valuation\", size=25)\n",
    "plt.xticks(fontsize=20)\n",
    "plt.yticks(fontsize=20)\n",
    "plt.legend(fontsize=25)\n",
    "plt.show()\n",
    "plt.savefig(fig_save_path / f'{TICKER}_prices.pgf')\n"
   ]
  },
  {
   "cell_type": "code",
   "execution_count": 24,
   "metadata": {},
   "outputs": [
    {
     "data": {
      "text/plain": [
       "171.27999877929688"
      ]
     },
     "execution_count": 24,
     "metadata": {},
     "output_type": "execute_result"
    }
   ],
   "source": [
    "np.median(test_true)\n"
   ]
  },
  {
   "cell_type": "code",
   "execution_count": null,
   "metadata": {},
   "outputs": [],
   "source": []
  },
  {
   "cell_type": "code",
   "execution_count": 25,
   "metadata": {},
   "outputs": [
    {
     "data": {
      "text/plain": [
       "10.480338265973357"
      ]
     },
     "execution_count": 25,
     "metadata": {},
     "output_type": "execute_result"
    }
   ],
   "source": [
    "np.std(test_true)\n"
   ]
  },
  {
   "cell_type": "code",
   "execution_count": 26,
   "metadata": {},
   "outputs": [],
   "source": [
    "results = {\"1000_epochs_no_sentiment\": {\"mea\": 1.2186, \"rmse\": 1.7288}}\n",
    "plt.clf()"
   ]
  },
  {
   "cell_type": "code",
   "execution_count": 27,
   "metadata": {},
   "outputs": [
    {
     "name": "stderr",
     "output_type": "stream",
     "text": [
      "C:\\Users\\kuba1\\AppData\\Local\\Temp\\ipykernel_36196\\540569605.py:17: UserWarning: Matplotlib is currently using pgf, which is a non-GUI backend, so cannot show the figure.\n",
      "  plt.show()\n"
     ]
    }
   ],
   "source": [
    "plt.plot(\n",
    "    model_data['train_history']['gen_loss'],\n",
    "    color=\"blue\",\n",
    "    label=\"Generator loss\",\n",
    ")\n",
    "plt.plot(\n",
    "    model_data['train_history']['disc_loss'],\n",
    "    color=\"red\",\n",
    "    label=\"Discriminator Loss\",\n",
    ")\n",
    "plt.title(f\"{TICKER} generator and discriminator loss\", size=25)\n",
    "plt.xlabel(\"Epoch\", size=25)\n",
    "plt.ylabel(\"Loss\", size=25)\n",
    "plt.xticks(fontsize=20)\n",
    "plt.yticks(fontsize=20)\n",
    "plt.legend(fontsize=25)\n",
    "plt.show()\n",
    "plt.savefig(fig_save_path / f'{TICKER}_loss.pgf')"
   ]
  },
  {
   "cell_type": "code",
   "execution_count": 28,
   "metadata": {},
   "outputs": [
    {
     "data": {
      "text/plain": [
       "dict_keys(['gen_loss', 'disc_loss', 'real_y', 'pred_y'])"
      ]
     },
     "execution_count": 28,
     "metadata": {},
     "output_type": "execute_result"
    }
   ],
   "source": [
    "model_data['train_history'].keys()"
   ]
  },
  {
   "cell_type": "markdown",
   "metadata": {},
   "source": [
    "O czym napisac: \n",
    "- Spotkanie \n",
    "- Problemy ze stabilizacja modelu \n",
    "- Wywalenie dense, dodawanie i wywalanie sentymentu \n",
    "- Co z innymi modelami \n",
    "- Co jeszcze potrzeba \n",
    "- Wykresy? \n",
    "- Czy inne firmy "
   ]
  },
  {
   "cell_type": "code",
   "execution_count": null,
   "metadata": {},
   "outputs": [],
   "source": []
  },
  {
   "cell_type": "code",
   "execution_count": null,
   "metadata": {},
   "outputs": [],
   "source": []
  }
 ],
 "metadata": {
  "interpreter": {
   "hash": "f5dab0bdbf1d3423670239750a4b7a68e20fb6d5be16f47fcb78a883b4124903"
  },
  "kernelspec": {
   "display_name": "venv_gan",
   "language": "python",
   "name": "venv_gan"
  },
  "language_info": {
   "codemirror_mode": {
    "name": "ipython",
    "version": 3
   },
   "file_extension": ".py",
   "mimetype": "text/x-python",
   "name": "python",
   "nbconvert_exporter": "python",
   "pygments_lexer": "ipython3",
   "version": "3.9.12"
  },
  "orig_nbformat": 4
 },
 "nbformat": 4,
 "nbformat_minor": 2
}
