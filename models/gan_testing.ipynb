{
 "cells": [
  {
   "cell_type": "code",
   "execution_count": 420,
   "metadata": {},
   "outputs": [],
   "source": [
    "import pandas as pd\n",
    "import tensorflow as tf\n",
    "import matplotlib as mpl\n",
    "import matplotlib.pyplot as plt\n",
    "mpl.use('pgf')\n",
    "# 'pgf'\n",
    "import numpy as np\n",
    "from sklearn.metrics import mean_squared_error\n",
    "from pathlib import Path\n",
    "import os\n",
    "import pickle\n",
    "from models.gan.gan import generator, discriminator, StockTimeGan\n",
    "from utils.log import prepare_logger\n",
    "from pathlib import Path\n",
    "import os\n",
    "from sklearn.metrics import mean_squared_error, mean_absolute_error\n",
    "import datetime\n",
    "\n",
    "plt.rcParams.update({\n",
    "    \"pgf.texsystem\": \"pdflatex\",\n",
    "    'font.family': 'serif',\n",
    "    'text.usetex': True,\n",
    "    'pgf.rcfonts': False,\n",
    "    \"figure.figsize\": (30, 10), \n",
    "    \"figure.dpi\": 600\n",
    "})\n",
    "\n",
    "\n",
    "logger = prepare_logger(\"INFO\")\n",
    "# %load_ext blackcellmagic\n",
    "\n",
    "# %%black for formatting\n"
   ]
  },
  {
   "cell_type": "code",
   "execution_count": 421,
   "metadata": {},
   "outputs": [],
   "source": [
    "TICKER = \"EA\"\n",
    "MODEL_VERSION = 0.6"
   ]
  },
  {
   "cell_type": "code",
   "execution_count": 422,
   "metadata": {},
   "outputs": [],
   "source": [
    "load_path = Path(os.path.abspath(\"\")).parents[0] / \"data\" / \"scaled_data\"\n",
    "models_path = Path(os.path.abspath(\"\")).parents[0] / \"models\" / \"gan\" / \"versions\"\n",
    "\n",
    "with open(load_path / f\"data_{TICKER}.pickle\", \"rb\") as handle:\n",
    "    data = pickle.load(handle)\n",
    "\n",
    "with open(load_path / f\"scalers_{TICKER}.pickle\", \"rb\") as handle:\n",
    "    scalers = pickle.load(handle)\n",
    "\n",
    "with open(models_path / f\"model_{MODEL_VERSION}_{TICKER}.pickle\", \"rb\") as handle:\n",
    "    model_data = pickle.load(handle)\n"
   ]
  },
  {
   "cell_type": "code",
   "execution_count": 423,
   "metadata": {},
   "outputs": [],
   "source": [
    "test_preds = scalers[\"y_scaler\"].inverse_transform(model_data[\"test_preds\"])\n",
    "test_true = scalers[\"y_scaler\"].inverse_transform(model_data[\"actual_values\"])\n"
   ]
  },
  {
   "cell_type": "code",
   "execution_count": 424,
   "metadata": {},
   "outputs": [
    {
     "data": {
      "text/plain": [
       "array([[134.86680603],\n",
       "       [137.44718933],\n",
       "       [141.0138855 ],\n",
       "       [140.75485229],\n",
       "       [141.4821167 ],\n",
       "       [141.02384949],\n",
       "       [139.93789673],\n",
       "       [140.92422485],\n",
       "       [141.58175659],\n",
       "       [141.08361816],\n",
       "       [142.23930359],\n",
       "       [140.52571106],\n",
       "       [139.11099243],\n",
       "       [140.33641052],\n",
       "       [140.51573181],\n",
       "       [140.73490906],\n",
       "       [142.60794067],\n",
       "       [143.25550842],\n",
       "       [142.92674255],\n",
       "       [143.45478821],\n",
       "       [145.79602051],\n",
       "       [141.55187988],\n",
       "       [140.6552124 ],\n",
       "       [136.55053711],\n",
       "       [137.34754944],\n",
       "       [140.81460571],\n",
       "       [141.89059448],\n",
       "       [140.12718201],\n",
       "       [140.83456421],\n",
       "       [139.15083313],\n",
       "       [138.612854  ],\n",
       "       [138.10472107],\n",
       "       [137.01878357],\n",
       "       [137.54681396],\n",
       "       [138.36376953],\n",
       "       [141.28288269],\n",
       "       [139.64898682],\n",
       "       [141.56182861],\n",
       "       [142.72747803],\n",
       "       [143.45478821],\n",
       "       [142.39871216],\n",
       "       [142.39871216],\n",
       "       [143.25653076],\n",
       "       [141.04214478],\n",
       "       [141.63067627],\n",
       "       [144.8425293 ],\n",
       "       [145.35122681],\n",
       "       [145.1317749 ],\n",
       "       [145.45097351],\n",
       "       [145.29138184],\n",
       "       [146.01953125],\n",
       "       [148.17405701],\n",
       "       [144.43354797],\n",
       "       [142.23912048],\n",
       "       [141.57080078],\n",
       "       [140.76286316],\n",
       "       [140.60328674],\n",
       "       [140.50352478],\n",
       "       [138.2691803 ],\n",
       "       [138.29911804],\n",
       "       [138.23927307],\n",
       "       [142.61816406],\n",
       "       [143.7353363 ],\n",
       "       [143.46601868],\n",
       "       [141.7802887 ],\n",
       "       [143.04707336],\n",
       "       [142.6381073 ],\n",
       "       [142.58822632],\n",
       "       [140.09455872],\n",
       "       [140.63319397],\n",
       "       [141.03218079],\n",
       "       [142.88748169],\n",
       "       [142.75779724],\n",
       "       [142.29898071],\n",
       "       [142.737854  ],\n",
       "       [140.88256836],\n",
       "       [140.71299744],\n",
       "       [140.36387634],\n",
       "       [141.92990112],\n",
       "       [144.62307739],\n",
       "       [144.88240051],\n",
       "       [141.57080078],\n",
       "       [143.19670105],\n",
       "       [143.01715088],\n",
       "       [143.59568787],\n",
       "       [143.74530029],\n",
       "       [139.44621277],\n",
       "       [139.55593872],\n",
       "       [136.52362061],\n",
       "       [135.99494934],\n",
       "       [135.81541443],\n",
       "       [136.68322754],\n",
       "       [137.95001221],\n",
       "       [138.63827515],\n",
       "       [138.32904053],\n",
       "       [139.64570618],\n",
       "       [140.68305969],\n",
       "       [139.63572693],\n",
       "       [140.24420166],\n",
       "       [139.8152771 ],\n",
       "       [142.45857239],\n",
       "       [142.20921326],\n",
       "       [141.50100708],\n",
       "       [141.11198425],\n",
       "       [142.57826233],\n",
       "       [142.92736816],\n",
       "       [145.01457214],\n",
       "       [146.23291016],\n",
       "       [145.20429993],\n",
       "       [146.4026947 ],\n",
       "       [145.02455139],\n",
       "       [143.90606689],\n",
       "       [142.11846924],\n",
       "       [144.93467712],\n",
       "       [144.48527527],\n",
       "       [145.17434692],\n",
       "       [136.8555603 ],\n",
       "       [135.77702332],\n",
       "       [133.69981384],\n",
       "       [129.91491699],\n",
       "       [126.58940125],\n",
       "       [126.22988129],\n",
       "       [127.71787262],\n",
       "       [129.72515869],\n",
       "       [131.80236816],\n",
       "       [133.58996582],\n",
       "       [137.75434875],\n",
       "       [142.05854797],\n",
       "       [143.39674377],\n",
       "       [142.96733093],\n",
       "       [143.89607239],\n",
       "       [133.88957214],\n",
       "       [137.40481567],\n",
       "       [139.80158997],\n",
       "       [139.2822876 ],\n",
       "       [136.48605347],\n",
       "       [136.25637817],\n",
       "       [135.52735901],\n",
       "       [134.56864929],\n",
       "       [134.52870178],\n",
       "       [136.56594849],\n",
       "       [139.01264954],\n",
       "       [140.44073486],\n",
       "       [140.88014221],\n",
       "       [141.99862671],\n",
       "       [142.20834351],\n",
       "       [140.18107605],\n",
       "       [140.04125977],\n",
       "       [140.06124878],\n",
       "       [141.57919312],\n",
       "       [139.98135376],\n",
       "       [139.31225586],\n",
       "       [142.28823853],\n",
       "       [139.38215637],\n",
       "       [137.97406006],\n",
       "       [139.60185242],\n",
       "       [139.09254456],\n",
       "       [144.25558472],\n",
       "       [145.2442627 ],\n",
       "       [141.08985901],\n",
       "       [139.37216187],\n",
       "       [137.9540863 ],\n",
       "       [137.14517212],\n",
       "       [132.21182251],\n",
       "       [126.11003876],\n",
       "       [128.23718262],\n",
       "       [126.47954559],\n",
       "       [125.80046082],\n",
       "       [124.71192169],\n",
       "       [124.0528183 ],\n",
       "       [120.06819153],\n",
       "       [122.42500305],\n",
       "       [125.10140228],\n",
       "       [126.13999939],\n",
       "       [126.15000153],\n",
       "       [126.37000275],\n",
       "       [125.        ],\n",
       "       [125.63999939]])"
      ]
     },
     "execution_count": 424,
     "metadata": {},
     "output_type": "execute_result"
    }
   ],
   "source": [
    "test_true"
   ]
  },
  {
   "cell_type": "code",
   "execution_count": 425,
   "metadata": {},
   "outputs": [
    {
     "data": {
      "text/plain": [
       "134.86680603027344"
      ]
     },
     "execution_count": 425,
     "metadata": {},
     "output_type": "execute_result"
    }
   ],
   "source": [
    "test_true[0][0]"
   ]
  },
  {
   "cell_type": "code",
   "execution_count": 426,
   "metadata": {},
   "outputs": [
    {
     "data": {
      "text/plain": [
       "array([125.63999939])"
      ]
     },
     "execution_count": 426,
     "metadata": {},
     "output_type": "execute_result"
    }
   ],
   "source": [
    "test_true[-1]"
   ]
  },
  {
   "cell_type": "code",
   "execution_count": 427,
   "metadata": {},
   "outputs": [
    {
     "data": {
      "text/plain": [
       "7"
      ]
     },
     "execution_count": 427,
     "metadata": {},
     "output_type": "execute_result"
    }
   ],
   "source": [
    "amount = round(1000 / test_true[0][0])\n",
    "rest = 1000 - 67 * test_true[0][0]\n",
    "amount"
   ]
  },
  {
   "cell_type": "code",
   "execution_count": 428,
   "metadata": {},
   "outputs": [
    {
     "data": {
      "text/plain": [
       "381.803955078125"
      ]
     },
     "execution_count": 428,
     "metadata": {},
     "output_type": "execute_result"
    }
   ],
   "source": [
    "67 * test_true[-1][0] + rest"
   ]
  },
  {
   "cell_type": "code",
   "execution_count": 429,
   "metadata": {},
   "outputs": [],
   "source": [
    "# plt.plot(data[\"Y_preds_real_list_train\"])\n",
    "# plt.show()"
   ]
  },
  {
   "cell_type": "code",
   "execution_count": 430,
   "metadata": {},
   "outputs": [],
   "source": [
    "# plt.plot(data[\"Y_preds_real_list_test\"])\n",
    "# plt.show()"
   ]
  },
  {
   "cell_type": "code",
   "execution_count": 431,
   "metadata": {},
   "outputs": [],
   "source": [
    "# full_y = list(scalers[\"y_scaler\"].inverse_transform(data[\"Y_preds_real_list_train\"]))\n",
    "# full_y.extend((list(scalers[\"y_scaler\"].inverse_transform(data[\"Y_preds_real_list_test\"]))))\n",
    "\n",
    "# plt.plot(full_y)\n",
    "# plt.axvline(535, label='Train/Test boundary')\n",
    "# plt.title('EA Close price')\n",
    "# plt.legend()\n",
    "# plt.show()"
   ]
  },
  {
   "cell_type": "code",
   "execution_count": 432,
   "metadata": {},
   "outputs": [
    {
     "data": {
      "text/plain": [
       "(535, 1)"
      ]
     },
     "execution_count": 432,
     "metadata": {},
     "output_type": "execute_result"
    }
   ],
   "source": [
    "data[\"Y_preds_real_list_train\"].shape"
   ]
  },
  {
   "cell_type": "code",
   "execution_count": 433,
   "metadata": {},
   "outputs": [
    {
     "data": {
      "text/plain": [
       "(535, 30, 19)"
      ]
     },
     "execution_count": 433,
     "metadata": {},
     "output_type": "execute_result"
    }
   ],
   "source": [
    "data[\"X_list_train\"].shape"
   ]
  },
  {
   "cell_type": "code",
   "execution_count": 434,
   "metadata": {},
   "outputs": [
    {
     "data": {
      "text/plain": [
       "(178, 1)"
      ]
     },
     "execution_count": 434,
     "metadata": {},
     "output_type": "execute_result"
    }
   ],
   "source": [
    "data[\"Y_preds_real_list_test\"].shape"
   ]
  },
  {
   "cell_type": "code",
   "execution_count": 435,
   "metadata": {},
   "outputs": [
    {
     "data": {
      "text/plain": [
       "1.7336166896177148"
      ]
     },
     "execution_count": 435,
     "metadata": {},
     "output_type": "execute_result"
    }
   ],
   "source": [
    "mean_absolute_error(y_true=test_true, y_pred=test_preds)\n"
   ]
  },
  {
   "cell_type": "code",
   "execution_count": 436,
   "metadata": {},
   "outputs": [
    {
     "data": {
      "text/plain": [
       "2.323433961433916"
      ]
     },
     "execution_count": 436,
     "metadata": {},
     "output_type": "execute_result"
    }
   ],
   "source": [
    "np.sqrt(mean_squared_error(y_true=test_true, y_pred=test_preds))\n"
   ]
  },
  {
   "cell_type": "code",
   "execution_count": 437,
   "metadata": {},
   "outputs": [],
   "source": [
    "df = pd.DataFrame(\n",
    "    {\n",
    "        \"predictions\": test_preds.reshape(\n",
    "            test_preds.shape[0],\n",
    "        ),\n",
    "        \"actual_values\": test_true.reshape(\n",
    "            test_true.shape[0],\n",
    "        ),\n",
    "    }\n",
    ")\n"
   ]
  },
  {
   "cell_type": "markdown",
   "metadata": {},
   "source": []
  },
  {
   "cell_type": "code",
   "execution_count": 438,
   "metadata": {},
   "outputs": [],
   "source": [
    "stock_path = Path(os.path.abspath(\"\")).parents[0] / \"data\" / \"stock_data\" / f'{TICKER}.csv'\n",
    "stock_df = pd.read_csv(stock_path)"
   ]
  },
  {
   "cell_type": "code",
   "execution_count": 439,
   "metadata": {},
   "outputs": [],
   "source": [
    "stock_df[\"Date\"] = pd.to_datetime(stock_df[\"Date\"])\n",
    "dates = (\n",
    "    stock_df[\n",
    "        stock_df[\"Date\"]\n",
    "        >= datetime.datetime(year=2019, month=1, day=1) + datetime.timedelta(days=30)\n",
    "    ]\n",
    "    .tail(178)[\"Date\"]\n",
    "    .values\n",
    ")\n"
   ]
  },
  {
   "cell_type": "code",
   "execution_count": 440,
   "metadata": {},
   "outputs": [],
   "source": [
    "pd.DataFrame({\"dates\": dates}).to_csv(\n",
    "    Path(os.path.abspath(\"\")).parents[0] / \"data\" / \"test_dates.csv\", index=False\n",
    ")\n"
   ]
  },
  {
   "cell_type": "code",
   "execution_count": 441,
   "metadata": {},
   "outputs": [],
   "source": [
    "fig_save_path = Path(os.path.abspath(\"\")).parents[0] / \"paper\""
   ]
  },
  {
   "cell_type": "code",
   "execution_count": 442,
   "metadata": {},
   "outputs": [
    {
     "name": "stderr",
     "output_type": "stream",
     "text": [
      "C:\\Users\\kuba1\\AppData\\Local\\Temp\\ipykernel_19208\\3207918460.py:24: UserWarning: Matplotlib is currently using pgf, which is a non-GUI backend, so cannot show the figure.\n",
      "  plt.show()\n"
     ]
    },
    {
     "data": {
      "text/plain": [
       "<Figure size 18000x6000 with 0 Axes>"
      ]
     },
     "metadata": {},
     "output_type": "display_data"
    }
   ],
   "source": [
    "fig_save_path = Path(os.path.abspath(\"\")).parents[0] / \"paper\"\n",
    "plt.plot(\n",
    "    dates,\n",
    "    test_preds.reshape(\n",
    "        test_preds.shape[0],\n",
    "    ),\n",
    "    color=\"blue\",\n",
    "    label=\"Predicted price\",\n",
    ")\n",
    "plt.plot(\n",
    "    dates,\n",
    "    test_true.reshape(\n",
    "        test_true.shape[0],\n",
    "    ),\n",
    "    color=\"red\",\n",
    "    label=\"Actual price\",\n",
    ")\n",
    "plt.title(f\"{TICKER} actual price vs predicted price\", size=25)\n",
    "plt.xlabel(\"Date\", size=25)\n",
    "plt.ylabel(\"Valuation\", size=25)\n",
    "plt.xticks(fontsize=20)\n",
    "plt.yticks(fontsize=20)\n",
    "plt.legend(fontsize=25)\n",
    "plt.show()\n",
    "plt.savefig(fig_save_path / f'{TICKER}_prices.pgf')\n",
    "plt.clf()\n"
   ]
  },
  {
   "cell_type": "code",
   "execution_count": 443,
   "metadata": {},
   "outputs": [
    {
     "data": {
      "text/plain": [
       "140.66913604736328"
      ]
     },
     "execution_count": 443,
     "metadata": {},
     "output_type": "execute_result"
    }
   ],
   "source": [
    "np.median(test_true)\n"
   ]
  },
  {
   "cell_type": "code",
   "execution_count": null,
   "metadata": {},
   "outputs": [],
   "source": []
  },
  {
   "cell_type": "code",
   "execution_count": 444,
   "metadata": {},
   "outputs": [
    {
     "data": {
      "text/plain": [
       "5.457249515119892"
      ]
     },
     "execution_count": 444,
     "metadata": {},
     "output_type": "execute_result"
    }
   ],
   "source": [
    "np.std(test_true)\n"
   ]
  },
  {
   "cell_type": "code",
   "execution_count": 445,
   "metadata": {},
   "outputs": [],
   "source": [
    "results = {\"1000_epochs_no_sentiment\": {\"mea\": 1.2186, \"rmse\": 1.7288}}"
   ]
  },
  {
   "cell_type": "code",
   "execution_count": 446,
   "metadata": {},
   "outputs": [
    {
     "name": "stderr",
     "output_type": "stream",
     "text": [
      "C:\\Users\\kuba1\\AppData\\Local\\Temp\\ipykernel_19208\\3519179210.py:17: UserWarning: Matplotlib is currently using pgf, which is a non-GUI backend, so cannot show the figure.\n",
      "  plt.show()\n"
     ]
    },
    {
     "data": {
      "text/plain": [
       "<Figure size 18000x6000 with 0 Axes>"
      ]
     },
     "metadata": {},
     "output_type": "display_data"
    }
   ],
   "source": [
    "plt.plot(\n",
    "    model_data['train_history']['gen_loss'],\n",
    "    color=\"blue\",\n",
    "    label=\"Generator loss\",\n",
    ")\n",
    "plt.plot(\n",
    "    model_data['train_history']['disc_loss'],\n",
    "    color=\"red\",\n",
    "    label=\"Discriminator Loss\",\n",
    ")\n",
    "plt.title(f\"{TICKER} generator and discriminator loss\", size=25)\n",
    "plt.xlabel(\"Epoch\", size=25)\n",
    "plt.ylabel(\"Loss\", size=25)\n",
    "plt.xticks(fontsize=20)\n",
    "plt.yticks(fontsize=20)\n",
    "plt.legend(fontsize=25)\n",
    "plt.show()\n",
    "plt.savefig(fig_save_path / f'{TICKER}_loss.pgf')\n",
    "plt.clf()"
   ]
  },
  {
   "cell_type": "code",
   "execution_count": 447,
   "metadata": {},
   "outputs": [
    {
     "data": {
      "text/plain": [
       "dict_keys(['gen_loss', 'disc_loss', 'real_y', 'pred_y'])"
      ]
     },
     "execution_count": 447,
     "metadata": {},
     "output_type": "execute_result"
    }
   ],
   "source": [
    "model_data['train_history'].keys()"
   ]
  },
  {
   "cell_type": "markdown",
   "metadata": {},
   "source": [
    "O czym napisac: \n",
    "- Spotkanie \n",
    "- Problemy ze stabilizacja modelu \n",
    "- Wywalenie dense, dodawanie i wywalanie sentymentu \n",
    "- Co z innymi modelami \n",
    "- Co jeszcze potrzeba \n",
    "- Wykresy? \n",
    "- Czy inne firmy "
   ]
  },
  {
   "cell_type": "code",
   "execution_count": null,
   "metadata": {},
   "outputs": [],
   "source": []
  },
  {
   "cell_type": "code",
   "execution_count": null,
   "metadata": {},
   "outputs": [],
   "source": []
  }
 ],
 "metadata": {
  "interpreter": {
   "hash": "c5e48de25f26e852a66d75c4847f552c71660e44b4d334485168ec3125e5a081"
  },
  "kernelspec": {
   "display_name": "Python 3.9.12 64-bit (windows store)",
   "language": "python",
   "name": "python3"
  },
  "language_info": {
   "codemirror_mode": {
    "name": "ipython",
    "version": 3
   },
   "file_extension": ".py",
   "mimetype": "text/x-python",
   "name": "python",
   "nbconvert_exporter": "python",
   "pygments_lexer": "ipython3",
   "version": "3.9.13"
  },
  "orig_nbformat": 4
 },
 "nbformat": 4,
 "nbformat_minor": 2
}
