{
 "cells": [
  {
   "cell_type": "code",
   "execution_count": 1,
   "metadata": {},
   "outputs": [],
   "source": [
    "import pandas as pd\n",
    "import tensorflow as tf\n",
    "import matplotlib as mpl\n",
    "import matplotlib.pyplot as plt\n",
    "mpl.use('pgf')\n",
    "'pgf'\n",
    "import numpy as np\n",
    "from sklearn.metrics import mean_squared_error\n",
    "from pathlib import Path\n",
    "import os\n",
    "import pickle\n",
    "from models.gan.gan import generator, discriminator, StockTimeGan\n",
    "from utils.log import prepare_logger\n",
    "from pathlib import Path\n",
    "import os\n",
    "from sklearn.metrics import mean_squared_error, mean_absolute_error\n",
    "import datetime\n",
    "\n",
    "plt.rcParams.update({\n",
    "    \"pgf.texsystem\": \"pdflatex\",\n",
    "    'font.family': 'serif',\n",
    "    'text.usetex': True,\n",
    "    'pgf.rcfonts': False,\n",
    "    \"figure.figsize\": (30, 10), \n",
    "    \"figure.dpi\": 600\n",
    "})\n",
    "\n",
    "\n",
    "logger = prepare_logger(\"INFO\")\n",
    "# %load_ext blackcellmagic\n",
    "\n",
    "# %%black for formatting\n"
   ]
  },
  {
   "cell_type": "code",
   "execution_count": 2,
   "metadata": {},
   "outputs": [],
   "source": [
    "TICKER = \"EA\"\n",
    "MODEL_VERSION = 0.6"
   ]
  },
  {
   "cell_type": "code",
   "execution_count": 3,
   "metadata": {},
   "outputs": [],
   "source": [
    "load_path = Path(os.path.abspath(\"\")).parents[0] / \"data\" / \"scaled_data\"\n",
    "models_path = Path(os.path.abspath(\"\")).parents[0] / \"models\" / \"gan\" / \"versions\"\n",
    "\n",
    "with open(load_path / f\"data_{TICKER}.pickle\", \"rb\") as handle:\n",
    "    data = pickle.load(handle)\n",
    "\n",
    "with open(load_path / f\"scalers_{TICKER}.pickle\", \"rb\") as handle:\n",
    "    scalers = pickle.load(handle)\n",
    "\n",
    "with open(models_path / f\"model_{MODEL_VERSION}_{TICKER}.pickle\", \"rb\") as handle:\n",
    "    model_data = pickle.load(handle)\n"
   ]
  },
  {
   "cell_type": "code",
   "execution_count": 4,
   "metadata": {},
   "outputs": [],
   "source": [
    "test_preds = scalers[\"y_scaler\"].inverse_transform(model_data[\"test_preds\"])\n",
    "test_true = scalers[\"y_scaler\"].inverse_transform(model_data[\"actual_values\"])\n"
   ]
  },
  {
   "cell_type": "code",
   "execution_count": 5,
   "metadata": {},
   "outputs": [
    {
     "data": {
      "text/plain": [
       "array([[136.45770739],\n",
       "       [139.22439748],\n",
       "       [141.76234143],\n",
       "       [141.16325753],\n",
       "       [140.64041399],\n",
       "       [140.22650314],\n",
       "       [139.4858109 ],\n",
       "       [139.87794356],\n",
       "       [141.40289276],\n",
       "       [140.98697779],\n",
       "       [142.18000167],\n",
       "       [140.75712938],\n",
       "       [140.23175562],\n",
       "       [138.55713983],\n",
       "       [137.14520674],\n",
       "       [137.71435398],\n",
       "       [136.97007937],\n",
       "       [138.30539633],\n",
       "       [135.41586155],\n",
       "       [135.03278087],\n",
       "       [135.9521745 ],\n",
       "       [134.96711228],\n",
       "       [134.92333044],\n",
       "       [132.23080978],\n",
       "       [133.7521933 ],\n",
       "       [136.98102692],\n",
       "       [138.91833376],\n",
       "       [137.13425919],\n",
       "       [139.50936776],\n",
       "       [136.57605949],\n",
       "       [137.40788944],\n",
       "       [137.3312733 ],\n",
       "       [136.18203126],\n",
       "       [137.67058049],\n",
       "       [138.32729142],\n",
       "       [140.85563226],\n",
       "       [139.5422104 ],\n",
       "       [140.77901612],\n",
       "       [140.85563226],\n",
       "       [141.65463627],\n",
       "       [141.59990687],\n",
       "       [141.59990687],\n",
       "       [140.72428673],\n",
       "       [139.56409715],\n",
       "       [139.11534788],\n",
       "       [141.15114926],\n",
       "       [141.45762215],\n",
       "       [141.10737576],\n",
       "       [140.81185042],\n",
       "       [142.08149879],\n",
       "       [142.58497745],\n",
       "       [143.71233274],\n",
       "       [140.19892133],\n",
       "       [138.10838221],\n",
       "       [137.15615428],\n",
       "       [135.29546357],\n",
       "       [135.65665751],\n",
       "       [135.7223261 ],\n",
       "       [134.52930221],\n",
       "       [136.41187967],\n",
       "       [136.13824942],\n",
       "       [139.57504469],\n",
       "       [139.8048931 ],\n",
       "       [139.61882654],\n",
       "       [137.93326319],\n",
       "       [138.33823062],\n",
       "       [138.48052369],\n",
       "       [137.28749146],\n",
       "       [136.05068574],\n",
       "       [136.2695866 ],\n",
       "       [136.84968974],\n",
       "       [137.22182287],\n",
       "       [136.20391801],\n",
       "       [134.40890424],\n",
       "       [135.63477076],\n",
       "       [133.99298926],\n",
       "       [135.31735867],\n",
       "       [134.94521719],\n",
       "       [134.17905583],\n",
       "       [135.30641112],\n",
       "       [133.81786189],\n",
       "       [127.15223301],\n",
       "       [127.9950105 ],\n",
       "       [126.62685925],\n",
       "       [126.68158864],\n",
       "       [125.74029991],\n",
       "       [122.53335305],\n",
       "       [124.38308786],\n",
       "       [123.069666  ],\n",
       "       [125.37910598],\n",
       "       [124.26269823],\n",
       "       [125.99203507],\n",
       "       [128.19202462],\n",
       "       [128.37809118],\n",
       "       [126.9333238 ],\n",
       "       [126.9333238 ],\n",
       "       [126.40795839],\n",
       "       [125.81691605],\n",
       "       [126.18904918],\n",
       "       [125.59800684],\n",
       "       [125.14925757],\n",
       "       [124.67861321],\n",
       "       [123.60597895],\n",
       "       [124.08757087],\n",
       "       [125.37910598],\n",
       "       [123.94528614],\n",
       "       [125.31343739],\n",
       "       [125.23682126],\n",
       "       [124.15323945],\n",
       "       [124.01095473],\n",
       "       [121.04480382],\n",
       "       [123.03683171],\n",
       "       [120.585107  ],\n",
       "       [122.32539139],\n",
       "       [121.11047241],\n",
       "       [120.35525025],\n",
       "       [120.80400786],\n",
       "       [121.93136316],\n",
       "       [122.2378277 ],\n",
       "       [118.53834973],\n",
       "       [115.0906069 ],\n",
       "       [114.84981095],\n",
       "       [116.88562068],\n",
       "       [117.53139241],\n",
       "       [117.3343783 ],\n",
       "       [118.70252955],\n",
       "       [119.85177159],\n",
       "       [119.86271914],\n",
       "       [121.11047241],\n",
       "       [119.63287073],\n",
       "       [119.21695575],\n",
       "       [119.75326871],\n",
       "       [119.82988484],\n",
       "       [120.10351509],\n",
       "       [118.691582  ],\n",
       "       [117.15925093],\n",
       "       [117.52044486],\n",
       "       [118.46173359],\n",
       "       [118.77914568],\n",
       "       [118.77914568],\n",
       "       [119.63287073],\n",
       "       [120.6179413 ],\n",
       "       [121.29653897],\n",
       "       [121.92041561],\n",
       "       [124.02190228],\n",
       "       [123.55125791],\n",
       "       [121.24181793],\n",
       "       [121.49355309],\n",
       "       [120.73833928],\n",
       "       [122.00797929],\n",
       "       [120.16918368],\n",
       "       [108.21701636],\n",
       "       [109.83691111],\n",
       "       [109.39910104],\n",
       "       [108.29363249],\n",
       "       [108.60009704],\n",
       "       [108.11851348],\n",
       "       [109.03790711],\n",
       "       [111.43491077],\n",
       "       [112.24485397],\n",
       "       [107.54935788],\n",
       "       [105.42598447],\n",
       "       [103.75136867],\n",
       "       [103.43396075],\n",
       "       [103.23694664],\n",
       "       [102.76630228],\n",
       "       [101.82501355],\n",
       "       [101.50760145],\n",
       "       [101.16830262],\n",
       "       [ 99.29666853],\n",
       "       [ 97.85190115],\n",
       "       [ 97.86284869],\n",
       "       [ 97.93946483],\n",
       "       [ 98.73846466],\n",
       "       [ 99.48273927],\n",
       "       [100.02999977],\n",
       "       [ 99.81109474],\n",
       "       [ 99.29666853]])"
      ]
     },
     "execution_count": 5,
     "metadata": {},
     "output_type": "execute_result"
    }
   ],
   "source": [
    "test_true"
   ]
  },
  {
   "cell_type": "code",
   "execution_count": 6,
   "metadata": {},
   "outputs": [
    {
     "data": {
      "text/plain": [
       "136.45770739287113"
      ]
     },
     "execution_count": 6,
     "metadata": {},
     "output_type": "execute_result"
    }
   ],
   "source": [
    "test_true[0][0]"
   ]
  },
  {
   "cell_type": "code",
   "execution_count": 7,
   "metadata": {},
   "outputs": [
    {
     "data": {
      "text/plain": [
       "array([99.29666853])"
      ]
     },
     "execution_count": 7,
     "metadata": {},
     "output_type": "execute_result"
    }
   ],
   "source": [
    "test_true[-1]"
   ]
  },
  {
   "cell_type": "code",
   "execution_count": 8,
   "metadata": {},
   "outputs": [
    {
     "data": {
      "text/plain": [
       "7"
      ]
     },
     "execution_count": 8,
     "metadata": {},
     "output_type": "execute_result"
    }
   ],
   "source": [
    "amount = round(1000 / test_true[0][0])\n",
    "rest = 1000 - 67 * test_true[0][0]\n",
    "amount"
   ]
  },
  {
   "cell_type": "code",
   "execution_count": 9,
   "metadata": {},
   "outputs": [
    {
     "data": {
      "text/plain": [
       "-1489.7896036567327"
      ]
     },
     "execution_count": 9,
     "metadata": {},
     "output_type": "execute_result"
    }
   ],
   "source": [
    "67 * test_true[-1][0] + rest"
   ]
  },
  {
   "cell_type": "code",
   "execution_count": 10,
   "metadata": {},
   "outputs": [],
   "source": [
    "# plt.plot(data[\"Y_preds_real_list_train\"])\n",
    "# plt.show()"
   ]
  },
  {
   "cell_type": "code",
   "execution_count": 11,
   "metadata": {},
   "outputs": [],
   "source": [
    "# plt.plot(data[\"Y_preds_real_list_test\"])\n",
    "# plt.show()"
   ]
  },
  {
   "cell_type": "code",
   "execution_count": 12,
   "metadata": {},
   "outputs": [],
   "source": [
    "# full_y = list(scalers[\"y_scaler\"].inverse_transform(data[\"Y_preds_real_list_train\"]))\n",
    "# full_y.extend((list(scalers[\"y_scaler\"].inverse_transform(data[\"Y_preds_real_list_test\"]))))\n",
    "\n",
    "# plt.plot(full_y)\n",
    "# plt.axvline(535, label='Train/Test boundary')\n",
    "# plt.title('EA Close price')\n",
    "# plt.legend()\n",
    "# plt.show()"
   ]
  },
  {
   "cell_type": "code",
   "execution_count": 13,
   "metadata": {},
   "outputs": [
    {
     "data": {
      "text/plain": [
       "(535, 1)"
      ]
     },
     "execution_count": 13,
     "metadata": {},
     "output_type": "execute_result"
    }
   ],
   "source": [
    "data[\"Y_preds_real_list_train\"].shape"
   ]
  },
  {
   "cell_type": "code",
   "execution_count": 14,
   "metadata": {},
   "outputs": [
    {
     "data": {
      "text/plain": [
       "(535, 30, 19)"
      ]
     },
     "execution_count": 14,
     "metadata": {},
     "output_type": "execute_result"
    }
   ],
   "source": [
    "data[\"X_list_train\"].shape"
   ]
  },
  {
   "cell_type": "code",
   "execution_count": 15,
   "metadata": {},
   "outputs": [
    {
     "data": {
      "text/plain": [
       "(178, 1)"
      ]
     },
     "execution_count": 15,
     "metadata": {},
     "output_type": "execute_result"
    }
   ],
   "source": [
    "data[\"Y_preds_real_list_test\"].shape"
   ]
  },
  {
   "cell_type": "code",
   "execution_count": 16,
   "metadata": {},
   "outputs": [
    {
     "data": {
      "text/plain": [
       "1.342706735507938"
      ]
     },
     "execution_count": 16,
     "metadata": {},
     "output_type": "execute_result"
    }
   ],
   "source": [
    "mean_absolute_error(y_true=test_true, y_pred=test_preds)\n"
   ]
  },
  {
   "cell_type": "code",
   "execution_count": 17,
   "metadata": {},
   "outputs": [
    {
     "data": {
      "text/plain": [
       "1.8956227589829537"
      ]
     },
     "execution_count": 17,
     "metadata": {},
     "output_type": "execute_result"
    }
   ],
   "source": [
    "np.sqrt(mean_squared_error(y_true=test_true, y_pred=test_preds))\n"
   ]
  },
  {
   "cell_type": "code",
   "execution_count": 18,
   "metadata": {},
   "outputs": [],
   "source": [
    "df = pd.DataFrame(\n",
    "    {\n",
    "        \"predictions\": test_preds.reshape(\n",
    "            test_preds.shape[0],\n",
    "        ),\n",
    "        \"actual_values\": test_true.reshape(\n",
    "            test_true.shape[0],\n",
    "        ),\n",
    "    }\n",
    ")\n"
   ]
  },
  {
   "cell_type": "markdown",
   "metadata": {},
   "source": []
  },
  {
   "cell_type": "code",
   "execution_count": 19,
   "metadata": {},
   "outputs": [],
   "source": [
    "stock_path = Path(os.path.abspath(\"\")).parents[0] / \"data\" / \"stock_data\" / f'{TICKER}.csv'\n",
    "stock_df = pd.read_csv(stock_path)"
   ]
  },
  {
   "cell_type": "code",
   "execution_count": 20,
   "metadata": {},
   "outputs": [],
   "source": [
    "stock_df[\"Date\"] = pd.to_datetime(stock_df[\"Date\"])\n",
    "dates = (\n",
    "    stock_df[\n",
    "        stock_df[\"Date\"]\n",
    "        >= datetime.datetime(year=2019, month=1, day=1) + datetime.timedelta(days=30)\n",
    "    ]\n",
    "    .tail(178)[\"Date\"]\n",
    "    .values\n",
    ")\n"
   ]
  },
  {
   "cell_type": "code",
   "execution_count": 21,
   "metadata": {},
   "outputs": [],
   "source": [
    "pd.DataFrame({\"dates\": dates}).to_csv(\n",
    "    Path(os.path.abspath(\"\")).parents[0] / \"data\" / \"test_dates.csv\", index=False\n",
    ")\n"
   ]
  },
  {
   "cell_type": "code",
   "execution_count": 22,
   "metadata": {},
   "outputs": [],
   "source": [
    "fig_save_path = Path(os.path.abspath(\"\")).parents[0] / \"paper\""
   ]
  },
  {
   "cell_type": "code",
   "execution_count": 23,
   "metadata": {},
   "outputs": [
    {
     "name": "stderr",
     "output_type": "stream",
     "text": [
      "C:\\Users\\kuba1\\AppData\\Local\\Temp\\ipykernel_41624\\2075643222.py:24: UserWarning: Matplotlib is currently using pgf, which is a non-GUI backend, so cannot show the figure.\n",
      "  plt.show()\n"
     ]
    }
   ],
   "source": [
    "fig_save_path = Path(os.path.abspath(\"\")).parents[0] / \"paper\"\n",
    "plt.plot(\n",
    "    dates,\n",
    "    test_preds.reshape(\n",
    "        test_preds.shape[0],\n",
    "    ),\n",
    "    color=\"blue\",\n",
    "    label=\"Predicted price\",\n",
    ")\n",
    "plt.plot(\n",
    "    dates,\n",
    "    test_true.reshape(\n",
    "        test_true.shape[0],\n",
    "    ),\n",
    "    color=\"red\",\n",
    "    label=\"Actual price\",\n",
    ")\n",
    "plt.title(f\"{TICKER} actual price vs predicted price\", size=25)\n",
    "plt.xlabel(\"Date\", size=25)\n",
    "plt.ylabel(\"Valuation\", size=25)\n",
    "plt.xticks(fontsize=20)\n",
    "plt.yticks(fontsize=20)\n",
    "plt.legend(fontsize=25)\n",
    "plt.show()\n",
    "plt.savefig(fig_save_path / f'{TICKER}_prices.pgf')\n"
   ]
  },
  {
   "cell_type": "code",
   "execution_count": 24,
   "metadata": {},
   "outputs": [
    {
     "data": {
      "text/plain": [
       "126.51740882298782"
      ]
     },
     "execution_count": 24,
     "metadata": {},
     "output_type": "execute_result"
    }
   ],
   "source": [
    "np.median(test_true)\n"
   ]
  },
  {
   "cell_type": "code",
   "execution_count": null,
   "metadata": {},
   "outputs": [],
   "source": []
  },
  {
   "cell_type": "code",
   "execution_count": 25,
   "metadata": {},
   "outputs": [
    {
     "data": {
      "text/plain": [
       "12.51482057626007"
      ]
     },
     "execution_count": 25,
     "metadata": {},
     "output_type": "execute_result"
    }
   ],
   "source": [
    "np.std(test_true)\n"
   ]
  },
  {
   "cell_type": "code",
   "execution_count": 26,
   "metadata": {},
   "outputs": [],
   "source": [
    "results = {\"1000_epochs_no_sentiment\": {\"mea\": 1.2186, \"rmse\": 1.7288}}\n",
    "plt.clf()"
   ]
  },
  {
   "cell_type": "code",
   "execution_count": 27,
   "metadata": {},
   "outputs": [
    {
     "name": "stderr",
     "output_type": "stream",
     "text": [
      "C:\\Users\\kuba1\\AppData\\Local\\Temp\\ipykernel_41624\\540569605.py:17: UserWarning: Matplotlib is currently using pgf, which is a non-GUI backend, so cannot show the figure.\n",
      "  plt.show()\n"
     ]
    }
   ],
   "source": [
    "plt.plot(\n",
    "    model_data['train_history']['gen_loss'],\n",
    "    color=\"blue\",\n",
    "    label=\"Generator loss\",\n",
    ")\n",
    "plt.plot(\n",
    "    model_data['train_history']['disc_loss'],\n",
    "    color=\"red\",\n",
    "    label=\"Discriminator Loss\",\n",
    ")\n",
    "plt.title(f\"{TICKER} generator and discriminator loss\", size=25)\n",
    "plt.xlabel(\"Epoch\", size=25)\n",
    "plt.ylabel(\"Loss\", size=25)\n",
    "plt.xticks(fontsize=20)\n",
    "plt.yticks(fontsize=20)\n",
    "plt.legend(fontsize=25)\n",
    "plt.show()\n",
    "plt.savefig(fig_save_path / f'{TICKER}_loss.pgf')"
   ]
  },
  {
   "cell_type": "code",
   "execution_count": 28,
   "metadata": {},
   "outputs": [
    {
     "data": {
      "text/plain": [
       "dict_keys(['gen_loss', 'disc_loss', 'real_y', 'pred_y'])"
      ]
     },
     "execution_count": 28,
     "metadata": {},
     "output_type": "execute_result"
    }
   ],
   "source": [
    "model_data['train_history'].keys()"
   ]
  },
  {
   "cell_type": "markdown",
   "metadata": {},
   "source": [
    "O czym napisac: \n",
    "- Spotkanie \n",
    "- Problemy ze stabilizacja modelu \n",
    "- Wywalenie dense, dodawanie i wywalanie sentymentu \n",
    "- Co z innymi modelami \n",
    "- Co jeszcze potrzeba \n",
    "- Wykresy? \n",
    "- Czy inne firmy "
   ]
  },
  {
   "cell_type": "code",
   "execution_count": null,
   "metadata": {},
   "outputs": [],
   "source": []
  },
  {
   "cell_type": "code",
   "execution_count": null,
   "metadata": {},
   "outputs": [],
   "source": []
  }
 ],
 "metadata": {
  "interpreter": {
   "hash": "f5dab0bdbf1d3423670239750a4b7a68e20fb6d5be16f47fcb78a883b4124903"
  },
  "kernelspec": {
   "display_name": "venv_gan",
   "language": "python",
   "name": "venv_gan"
  },
  "language_info": {
   "codemirror_mode": {
    "name": "ipython",
    "version": 3
   },
   "file_extension": ".py",
   "mimetype": "text/x-python",
   "name": "python",
   "nbconvert_exporter": "python",
   "pygments_lexer": "ipython3",
   "version": "3.9.12"
  },
  "orig_nbformat": 4
 },
 "nbformat": 4,
 "nbformat_minor": 2
}
