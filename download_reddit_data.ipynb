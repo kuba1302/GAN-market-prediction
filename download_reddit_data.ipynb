{
 "cells": [
  {
   "cell_type": "code",
   "execution_count": 148,
   "metadata": {},
   "outputs": [
    {
     "name": "stdout",
     "output_type": "stream",
     "text": [
      "The autoreload extension is already loaded. To reload it, use:\n",
      "  %reload_ext autoreload\n"
     ]
    }
   ],
   "source": [
    "import os\n",
    "import json \n",
    "import pandas as pd\n",
    "from datetime import datetime \n",
    "from pathlib import Path \n",
    "\n",
    "%load_ext autoreload\n",
    "%autoreload 2\n",
    "\n",
    "from utils.connectors.reddit_connector import RedditPsawConnector"
   ]
  },
  {
   "cell_type": "code",
   "execution_count": 136,
   "metadata": {},
   "outputs": [],
   "source": [
    "start_time = int(datetime(201, 12, 12).timestamp())\n",
    "end_time = int(datetime(2021, 12, 10).timestamp())\n",
    "\n",
    "stock_dir_path = str(Path(os.path.abspath('')) / 'data/stock_data/')\n",
    "game_names_path = str(Path(os.path.abspath('')) / 'data/game_names.json')\n",
    "\n",
    "with open(game_names_path) as game_names_file:\n",
    "    game_names = json.load(game_names_file)"
   ]
  },
  {
   "cell_type": "code",
   "execution_count": 140,
   "metadata": {},
   "outputs": [],
   "source": [
    "atv_reddit_path = str(Path(os.path.abspath('')) / 'data/reddit_data/atvi.csv')"
   ]
  },
  {
   "cell_type": "code",
   "execution_count": 141,
   "metadata": {},
   "outputs": [
    {
     "data": {
      "text/plain": [
       "'/home/kuba1302/Gan/gan/data/reddit_data/atvi.csv'"
      ]
     },
     "execution_count": 141,
     "metadata": {},
     "output_type": "execute_result"
    }
   ],
   "source": [
    "atv_reddit_path"
   ]
  },
  {
   "cell_type": "code",
   "execution_count": 150,
   "metadata": {},
   "outputs": [],
   "source": [
    "reddit = RedditPsawConnector(\n",
    "    game_names=game_names['ATVI'], \n",
    "    ticker='ATVI', \n",
    "    save_path=atv_reddit_path\n",
    ")\n",
    "\n",
    "reddit.batch_comment_search()"
   ]
  },
  {
   "cell_type": "code",
   "execution_count": 51,
   "metadata": {},
   "outputs": [
    {
     "name": "stderr",
     "output_type": "stream",
     "text": [
      "/home/kuba1302/.local/lib/python3.9/site-packages/psaw/PushshiftAPI.py:252: UserWarning: Not all PushShift shards are active. Query results may be incomplete\n",
      "  warnings.warn(shards_down_message)\n"
     ]
    }
   ],
   "source": [
    "starctaft = reddit.search_comments(name='GTA|Cyberpunk',\n",
    "                       after=start_time, \n",
    "                       before=end_time, \n",
    "                       limit=1000)"
   ]
  },
  {
   "cell_type": "code",
   "execution_count": 151,
   "metadata": {},
   "outputs": [],
   "source": [
    "data = pd.read_csv(atv_reddit_path)"
   ]
  },
  {
   "cell_type": "code",
   "execution_count": 152,
   "metadata": {},
   "outputs": [
    {
     "data": {
      "text/html": [
       "<div>\n",
       "<style scoped>\n",
       "    .dataframe tbody tr th:only-of-type {\n",
       "        vertical-align: middle;\n",
       "    }\n",
       "\n",
       "    .dataframe tbody tr th {\n",
       "        vertical-align: top;\n",
       "    }\n",
       "\n",
       "    .dataframe thead th {\n",
       "        text-align: right;\n",
       "    }\n",
       "</style>\n",
       "<table border=\"1\" class=\"dataframe\">\n",
       "  <thead>\n",
       "    <tr style=\"text-align: right;\">\n",
       "      <th></th>\n",
       "      <th>Unnamed: 0</th>\n",
       "      <th>author</th>\n",
       "      <th>body</th>\n",
       "      <th>created_utc</th>\n",
       "      <th>score</th>\n",
       "      <th>created</th>\n",
       "    </tr>\n",
       "  </thead>\n",
       "  <tbody>\n",
       "    <tr>\n",
       "      <th>0</th>\n",
       "      <td>0</td>\n",
       "      <td>EricFarmer7</td>\n",
       "      <td>&amp;gt;YouTube content creator Kala, who has coac...</td>\n",
       "      <td>1544839897</td>\n",
       "      <td>267</td>\n",
       "      <td>1.544836e+09</td>\n",
       "    </tr>\n",
       "    <tr>\n",
       "      <th>1</th>\n",
       "      <td>1</td>\n",
       "      <td>Blenderhead36</td>\n",
       "      <td>This year, Blizzard:\\n\\n* Unceremoniously kill...</td>\n",
       "      <td>1545146647</td>\n",
       "      <td>100</td>\n",
       "      <td>1.545143e+09</td>\n",
       "    </tr>\n",
       "    <tr>\n",
       "      <th>2</th>\n",
       "      <td>2</td>\n",
       "      <td>ZGiSH</td>\n",
       "      <td>A lot of people don't quite know about the his...</td>\n",
       "      <td>1544750980</td>\n",
       "      <td>81</td>\n",
       "      <td>1.544747e+09</td>\n",
       "    </tr>\n",
       "    <tr>\n",
       "      <th>3</th>\n",
       "      <td>3</td>\n",
       "      <td>KrushRock</td>\n",
       "      <td>I'm not sure I buy finances not having a say u...</td>\n",
       "      <td>1545424102</td>\n",
       "      <td>64</td>\n",
       "      <td>1.545421e+09</td>\n",
       "    </tr>\n",
       "    <tr>\n",
       "      <th>4</th>\n",
       "      <td>4</td>\n",
       "      <td>tehsax</td>\n",
       "      <td>&amp;gt; Blizzard has been going down this path fo...</td>\n",
       "      <td>1544867727</td>\n",
       "      <td>54</td>\n",
       "      <td>1.544864e+09</td>\n",
       "    </tr>\n",
       "    <tr>\n",
       "      <th>...</th>\n",
       "      <td>...</td>\n",
       "      <td>...</td>\n",
       "      <td>...</td>\n",
       "      <td>...</td>\n",
       "      <td>...</td>\n",
       "      <td>...</td>\n",
       "    </tr>\n",
       "    <tr>\n",
       "      <th>2071</th>\n",
       "      <td>61</td>\n",
       "      <td>Sarasin</td>\n",
       "      <td>It is also easier to remember the misses becau...</td>\n",
       "      <td>1637379275</td>\n",
       "      <td>4</td>\n",
       "      <td>1.637376e+09</td>\n",
       "    </tr>\n",
       "    <tr>\n",
       "      <th>2072</th>\n",
       "      <td>62</td>\n",
       "      <td>Jakfolisto</td>\n",
       "      <td>The usage of the terms microtransactions and p...</td>\n",
       "      <td>1637461968</td>\n",
       "      <td>4</td>\n",
       "      <td>1.637458e+09</td>\n",
       "    </tr>\n",
       "    <tr>\n",
       "      <th>2073</th>\n",
       "      <td>63</td>\n",
       "      <td>fkurgdmidtbrn</td>\n",
       "      <td>Change that to \"most game players,\" lmao, it w...</td>\n",
       "      <td>1637279188</td>\n",
       "      <td>4</td>\n",
       "      <td>1.637276e+09</td>\n",
       "    </tr>\n",
       "    <tr>\n",
       "      <th>2074</th>\n",
       "      <td>64</td>\n",
       "      <td>Smart_Ass_Dave</td>\n",
       "      <td>I have been AFK timer-ed only one time in my g...</td>\n",
       "      <td>1637267144</td>\n",
       "      <td>2</td>\n",
       "      <td>1.637264e+09</td>\n",
       "    </tr>\n",
       "    <tr>\n",
       "      <th>2075</th>\n",
       "      <td>65</td>\n",
       "      <td>HopingForSomeHope</td>\n",
       "      <td>Hearthstone - yeah sure\\n\\nOW - I mean the gam...</td>\n",
       "      <td>1636501477</td>\n",
       "      <td>7</td>\n",
       "      <td>1.636498e+09</td>\n",
       "    </tr>\n",
       "  </tbody>\n",
       "</table>\n",
       "<p>2076 rows × 6 columns</p>\n",
       "</div>"
      ],
      "text/plain": [
       "      Unnamed: 0             author  \\\n",
       "0              0        EricFarmer7   \n",
       "1              1      Blenderhead36   \n",
       "2              2              ZGiSH   \n",
       "3              3          KrushRock   \n",
       "4              4             tehsax   \n",
       "...          ...                ...   \n",
       "2071          61            Sarasin   \n",
       "2072          62         Jakfolisto   \n",
       "2073          63      fkurgdmidtbrn   \n",
       "2074          64     Smart_Ass_Dave   \n",
       "2075          65  HopingForSomeHope   \n",
       "\n",
       "                                                   body  created_utc  score  \\\n",
       "0     &gt;YouTube content creator Kala, who has coac...   1544839897    267   \n",
       "1     This year, Blizzard:\\n\\n* Unceremoniously kill...   1545146647    100   \n",
       "2     A lot of people don't quite know about the his...   1544750980     81   \n",
       "3     I'm not sure I buy finances not having a say u...   1545424102     64   \n",
       "4     &gt; Blizzard has been going down this path fo...   1544867727     54   \n",
       "...                                                 ...          ...    ...   \n",
       "2071  It is also easier to remember the misses becau...   1637379275      4   \n",
       "2072  The usage of the terms microtransactions and p...   1637461968      4   \n",
       "2073  Change that to \"most game players,\" lmao, it w...   1637279188      4   \n",
       "2074  I have been AFK timer-ed only one time in my g...   1637267144      2   \n",
       "2075  Hearthstone - yeah sure\\n\\nOW - I mean the gam...   1636501477      7   \n",
       "\n",
       "           created  \n",
       "0     1.544836e+09  \n",
       "1     1.545143e+09  \n",
       "2     1.544747e+09  \n",
       "3     1.545421e+09  \n",
       "4     1.544864e+09  \n",
       "...            ...  \n",
       "2071  1.637376e+09  \n",
       "2072  1.637458e+09  \n",
       "2073  1.637276e+09  \n",
       "2074  1.637264e+09  \n",
       "2075  1.636498e+09  \n",
       "\n",
       "[2076 rows x 6 columns]"
      ]
     },
     "execution_count": 152,
     "metadata": {},
     "output_type": "execute_result"
    }
   ],
   "source": [
    "data"
   ]
  },
  {
   "cell_type": "code",
   "execution_count": null,
   "metadata": {},
   "outputs": [],
   "source": [
    "def search_comments(self, query, after, before, limit):\n",
    "        filter = ['author', 'date', 'title', 'body', 'score']\n",
    "\n",
    "        comments = self.api.search_comments(\n",
    "            subreddit = 'Games',\n",
    "            filter=filter, q=query, limit=limit, \n",
    "            sort_type=\"score\", sort=\"desc\", \n",
    "            after=after, before=before\n",
    "        )\n",
    "        return pd.DataFrame([comment.d_ for comment in comments])"
   ]
  }
 ],
 "metadata": {
  "interpreter": {
   "hash": "f5dab0bdbf1d3423670239750a4b7a68e20fb6d5be16f47fcb78a883b4124903"
  },
  "kernelspec": {
   "display_name": "Python 3.9.7 64-bit ('venv': venv)",
   "language": "python",
   "name": "python3"
  },
  "language_info": {
   "codemirror_mode": {
    "name": "ipython",
    "version": 3
   },
   "file_extension": ".py",
   "mimetype": "text/x-python",
   "name": "python",
   "nbconvert_exporter": "python",
   "pygments_lexer": "ipython3",
   "version": "3.9.7"
  },
  "orig_nbformat": 4
 },
 "nbformat": 4,
 "nbformat_minor": 2
}
