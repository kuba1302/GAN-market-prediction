{
 "cells": [
  {
   "cell_type": "code",
   "execution_count": 1,
   "metadata": {},
   "outputs": [],
   "source": [
    "%load_ext autoreload\n",
    "%autoreload 2\n",
    "\n",
    "from pathlib import Path\n",
    "import numpy as np \n",
    "import pandas as pd \n",
    "import pickle\n",
    "import os \n",
    "\n",
    "from trade_bot import BackTest"
   ]
  },
  {
   "cell_type": "code",
   "execution_count": 2,
   "metadata": {},
   "outputs": [],
   "source": [
    "MODEL_VERSION = '0.1'\n",
    "TICKER = \"UBSFY\""
   ]
  },
  {
   "cell_type": "code",
   "execution_count": 3,
   "metadata": {},
   "outputs": [],
   "source": [
    "scaled_path = Path(os.path.abspath(\"\")).parents[0] / \"data\" / \"scaled_data\"\n",
    "scalers_path = scaled_path / \"scalers.pickle\"\n",
    "data_path = scaled_path / \"data.pickle\"\n",
    "model_path = (\n",
    "    Path(os.path.abspath(\"\")).parents[0]\n",
    "    / \"models\"\n",
    "    / \"gan\"\n",
    "    / \"versions\"\n",
    "    / f\"model_{MODEL_VERSION}_class\"\n",
    ")\n"
   ]
  },
  {
   "cell_type": "code",
   "execution_count": 14,
   "metadata": {},
   "outputs": [
    {
     "data": {
      "text/plain": [
       "WindowsPath('c:/Gan/GAN-market-prediction/data/scaled_data/data.pickle')"
      ]
     },
     "execution_count": 14,
     "metadata": {},
     "output_type": "execute_result"
    }
   ],
   "source": [
    "data_path"
   ]
  },
  {
   "cell_type": "code",
   "execution_count": 4,
   "metadata": {},
   "outputs": [
    {
     "ename": "OSError",
     "evalue": "No file or directory found at c:\\Gan\\GAN-market-prediction\\models\\gan\\versions\\model_0.1_class",
     "output_type": "error",
     "traceback": [
      "\u001b[1;31m---------------------------------------------------------------------------\u001b[0m",
      "\u001b[1;31mOSError\u001b[0m                                   Traceback (most recent call last)",
      "\u001b[1;32mc:\\Gan\\GAN-market-prediction\\trading_bots\\test_trading_bot.ipynb Cell 5'\u001b[0m in \u001b[0;36m<cell line: 1>\u001b[1;34m()\u001b[0m\n\u001b[1;32m----> <a href='vscode-notebook-cell:/c%3A/Gan/GAN-market-prediction/trading_bots/test_trading_bot.ipynb#ch0000004?line=0'>1</a>\u001b[0m bot \u001b[39m=\u001b[39m BackTest(\n\u001b[0;32m      <a href='vscode-notebook-cell:/c%3A/Gan/GAN-market-prediction/trading_bots/test_trading_bot.ipynb#ch0000004?line=1'>2</a>\u001b[0m     transaction_cost\u001b[39m=\u001b[39;49m\u001b[39m0.0007\u001b[39;49m,\n\u001b[0;32m      <a href='vscode-notebook-cell:/c%3A/Gan/GAN-market-prediction/trading_bots/test_trading_bot.ipynb#ch0000004?line=2'>3</a>\u001b[0m     currency_count\u001b[39m=\u001b[39;49m\u001b[39m1000\u001b[39;49m,\n\u001b[0;32m      <a href='vscode-notebook-cell:/c%3A/Gan/GAN-market-prediction/trading_bots/test_trading_bot.ipynb#ch0000004?line=3'>4</a>\u001b[0m     ticker\u001b[39m=\u001b[39;49mTICKER,\n\u001b[0;32m      <a href='vscode-notebook-cell:/c%3A/Gan/GAN-market-prediction/trading_bots/test_trading_bot.ipynb#ch0000004?line=4'>5</a>\u001b[0m     scalers_path\u001b[39m=\u001b[39;49mscalers_path,\n\u001b[0;32m      <a href='vscode-notebook-cell:/c%3A/Gan/GAN-market-prediction/trading_bots/test_trading_bot.ipynb#ch0000004?line=5'>6</a>\u001b[0m     model_path\u001b[39m=\u001b[39;49mmodel_path,\n\u001b[0;32m      <a href='vscode-notebook-cell:/c%3A/Gan/GAN-market-prediction/trading_bots/test_trading_bot.ipynb#ch0000004?line=6'>7</a>\u001b[0m     verbose\u001b[39m=\u001b[39;49m\u001b[39mTrue\u001b[39;49;00m\n\u001b[0;32m      <a href='vscode-notebook-cell:/c%3A/Gan/GAN-market-prediction/trading_bots/test_trading_bot.ipynb#ch0000004?line=7'>8</a>\u001b[0m )\n",
      "File \u001b[1;32mc:\\Gan\\GAN-market-prediction\\trading_bots\\trade_bot.py:36\u001b[0m, in \u001b[0;36mBackTest.__init__\u001b[1;34m(self, transaction_cost, currency_count, ticker, scalers_path, model_path, asset_count, verbose, test_dates_path, save_fig_path)\u001b[0m\n\u001b[0;32m     <a href='file:///c%3A/Gan/GAN-market-prediction/trading_bots/trade_bot.py?line=33'>34</a>\u001b[0m \u001b[39mself\u001b[39m\u001b[39m.\u001b[39mshorted_assets_amount \u001b[39m=\u001b[39m \u001b[39m0\u001b[39m\n\u001b[0;32m     <a href='file:///c%3A/Gan/GAN-market-prediction/trading_bots/trade_bot.py?line=34'>35</a>\u001b[0m \u001b[39mself\u001b[39m\u001b[39m.\u001b[39mshort_start_price \u001b[39m=\u001b[39m \u001b[39m0\u001b[39m\n\u001b[1;32m---> <a href='file:///c%3A/Gan/GAN-market-prediction/trading_bots/trade_bot.py?line=35'>36</a>\u001b[0m \u001b[39mself\u001b[39m\u001b[39m.\u001b[39mmodel \u001b[39m=\u001b[39m \u001b[39mself\u001b[39;49m\u001b[39m.\u001b[39;49mload_model(model_path)\n\u001b[0;32m     <a href='file:///c%3A/Gan/GAN-market-prediction/trading_bots/trade_bot.py?line=36'>37</a>\u001b[0m \u001b[39mself\u001b[39m\u001b[39m.\u001b[39mX_scaler, \u001b[39mself\u001b[39m\u001b[39m.\u001b[39my_scaler \u001b[39m=\u001b[39m \u001b[39mself\u001b[39m\u001b[39m.\u001b[39mload_scalers(scalers_path)\n\u001b[0;32m     <a href='file:///c%3A/Gan/GAN-market-prediction/trading_bots/trade_bot.py?line=37'>38</a>\u001b[0m \u001b[39mself\u001b[39m\u001b[39m.\u001b[39mcurrent_asset_price \u001b[39m=\u001b[39m \u001b[39mNone\u001b[39;00m\n",
      "File \u001b[1;32mc:\\Gan\\GAN-market-prediction\\trading_bots\\trade_bot.py:55\u001b[0m, in \u001b[0;36mBackTest.load_model\u001b[1;34m(self, load_path)\u001b[0m\n\u001b[0;32m     <a href='file:///c%3A/Gan/GAN-market-prediction/trading_bots/trade_bot.py?line=53'>54</a>\u001b[0m \u001b[39mdef\u001b[39;00m \u001b[39mload_model\u001b[39m(\u001b[39mself\u001b[39m, load_path):\n\u001b[1;32m---> <a href='file:///c%3A/Gan/GAN-market-prediction/trading_bots/trade_bot.py?line=54'>55</a>\u001b[0m     \u001b[39mreturn\u001b[39;00m keras\u001b[39m.\u001b[39;49mmodels\u001b[39m.\u001b[39;49mload_model(load_path)\n",
      "File \u001b[1;32mC:\\Gan\\GAN-market-prediction\\venv_gan\\lib\\site-packages\\keras\\utils\\traceback_utils.py:67\u001b[0m, in \u001b[0;36mfilter_traceback.<locals>.error_handler\u001b[1;34m(*args, **kwargs)\u001b[0m\n\u001b[0;32m     <a href='file:///c%3A/Gan/GAN-market-prediction/venv_gan/lib/site-packages/keras/utils/traceback_utils.py?line=64'>65</a>\u001b[0m \u001b[39mexcept\u001b[39;00m \u001b[39mException\u001b[39;00m \u001b[39mas\u001b[39;00m e:  \u001b[39m# pylint: disable=broad-except\u001b[39;00m\n\u001b[0;32m     <a href='file:///c%3A/Gan/GAN-market-prediction/venv_gan/lib/site-packages/keras/utils/traceback_utils.py?line=65'>66</a>\u001b[0m   filtered_tb \u001b[39m=\u001b[39m _process_traceback_frames(e\u001b[39m.\u001b[39m__traceback__)\n\u001b[1;32m---> <a href='file:///c%3A/Gan/GAN-market-prediction/venv_gan/lib/site-packages/keras/utils/traceback_utils.py?line=66'>67</a>\u001b[0m   \u001b[39mraise\u001b[39;00m e\u001b[39m.\u001b[39mwith_traceback(filtered_tb) \u001b[39mfrom\u001b[39;00m \u001b[39mNone\u001b[39m\n\u001b[0;32m     <a href='file:///c%3A/Gan/GAN-market-prediction/venv_gan/lib/site-packages/keras/utils/traceback_utils.py?line=67'>68</a>\u001b[0m \u001b[39mfinally\u001b[39;00m:\n\u001b[0;32m     <a href='file:///c%3A/Gan/GAN-market-prediction/venv_gan/lib/site-packages/keras/utils/traceback_utils.py?line=68'>69</a>\u001b[0m   \u001b[39mdel\u001b[39;00m filtered_tb\n",
      "File \u001b[1;32mC:\\Gan\\GAN-market-prediction\\venv_gan\\lib\\site-packages\\keras\\saving\\save.py:204\u001b[0m, in \u001b[0;36mload_model\u001b[1;34m(filepath, custom_objects, compile, options)\u001b[0m\n\u001b[0;32m    <a href='file:///c%3A/Gan/GAN-market-prediction/venv_gan/lib/site-packages/keras/saving/save.py?line=201'>202</a>\u001b[0m \u001b[39mif\u001b[39;00m \u001b[39misinstance\u001b[39m(filepath_str, \u001b[39mstr\u001b[39m):\n\u001b[0;32m    <a href='file:///c%3A/Gan/GAN-market-prediction/venv_gan/lib/site-packages/keras/saving/save.py?line=202'>203</a>\u001b[0m   \u001b[39mif\u001b[39;00m \u001b[39mnot\u001b[39;00m tf\u001b[39m.\u001b[39mio\u001b[39m.\u001b[39mgfile\u001b[39m.\u001b[39mexists(filepath_str):\n\u001b[1;32m--> <a href='file:///c%3A/Gan/GAN-market-prediction/venv_gan/lib/site-packages/keras/saving/save.py?line=203'>204</a>\u001b[0m     \u001b[39mraise\u001b[39;00m \u001b[39mIOError\u001b[39;00m(\u001b[39mf\u001b[39m\u001b[39m'\u001b[39m\u001b[39mNo file or directory found at \u001b[39m\u001b[39m{\u001b[39;00mfilepath_str\u001b[39m}\u001b[39;00m\u001b[39m'\u001b[39m)\n\u001b[0;32m    <a href='file:///c%3A/Gan/GAN-market-prediction/venv_gan/lib/site-packages/keras/saving/save.py?line=205'>206</a>\u001b[0m   \u001b[39mif\u001b[39;00m tf\u001b[39m.\u001b[39mio\u001b[39m.\u001b[39mgfile\u001b[39m.\u001b[39misdir(filepath_str):\n\u001b[0;32m    <a href='file:///c%3A/Gan/GAN-market-prediction/venv_gan/lib/site-packages/keras/saving/save.py?line=206'>207</a>\u001b[0m     \u001b[39mreturn\u001b[39;00m saved_model_load\u001b[39m.\u001b[39mload(filepath_str, \u001b[39mcompile\u001b[39m, options)\n",
      "\u001b[1;31mOSError\u001b[0m: No file or directory found at c:\\Gan\\GAN-market-prediction\\models\\gan\\versions\\model_0.1_class"
     ]
    }
   ],
   "source": [
    "bot = BackTest(\n",
    "    transaction_cost=0.0007,\n",
    "    currency_count=1000,\n",
    "    ticker=TICKER,\n",
    "    scalers_path=scalers_path,\n",
    "    model_path=model_path,\n",
    "    verbose=True\n",
    ")"
   ]
  },
  {
   "cell_type": "code",
   "execution_count": 20,
   "metadata": {},
   "outputs": [
    {
     "name": "stdout",
     "output_type": "stream",
     "text": [
      "CURR AMOUNT: 1000\n",
      "PRICE: [0.83182849]\n"
     ]
    }
   ],
   "source": [
    "bot.simulate(X, y)"
   ]
  },
  {
   "cell_type": "code",
   "execution_count": 16,
   "metadata": {},
   "outputs": [
    {
     "data": {
      "text/plain": [
       "Trade Bot - Ticker: EA - Currency Balance: 1000 Asset Balance: 0 - Total summed Balance: 1000"
      ]
     },
     "execution_count": 16,
     "metadata": {},
     "output_type": "execute_result"
    }
   ],
   "source": [
    "bot"
   ]
  },
  {
   "cell_type": "code",
   "execution_count": 17,
   "metadata": {},
   "outputs": [],
   "source": [
    "with open(scaled_path / \"data.pickle\", \"rb\") as handle:\n",
    "    data = pickle.load(handle)"
   ]
  },
  {
   "cell_type": "code",
   "execution_count": 18,
   "metadata": {},
   "outputs": [],
   "source": [
    "X = data['X_list_test']\n",
    "y = data['Y_preds_real_list_test']"
   ]
  },
  {
   "cell_type": "code",
   "execution_count": 19,
   "metadata": {},
   "outputs": [
    {
     "name": "stdout",
     "output_type": "stream",
     "text": [
      "(178, 30, 25)\n",
      "(178, 1)\n"
     ]
    }
   ],
   "source": [
    "print(X.shape)\n",
    "print(y.shape)\n"
   ]
  },
  {
   "cell_type": "code",
   "execution_count": null,
   "metadata": {},
   "outputs": [],
   "source": []
  }
 ],
 "metadata": {
  "interpreter": {
   "hash": "d7843971dda3529082bc94d3d766c9401c3686db503a2276d5501a9b2d2363b6"
  },
  "kernelspec": {
   "display_name": "Python 3.9.10 ('venv_gan': venv)",
   "language": "python",
   "name": "python3"
  },
  "language_info": {
   "codemirror_mode": {
    "name": "ipython",
    "version": 3
   },
   "file_extension": ".py",
   "mimetype": "text/x-python",
   "name": "python",
   "nbconvert_exporter": "python",
   "pygments_lexer": "ipython3",
   "version": "3.9.12"
  },
  "orig_nbformat": 4
 },
 "nbformat": 4,
 "nbformat_minor": 2
}
