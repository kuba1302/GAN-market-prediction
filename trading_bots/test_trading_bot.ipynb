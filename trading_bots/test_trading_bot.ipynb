{
 "cells": [
  {
   "cell_type": "code",
   "execution_count": 11,
   "metadata": {},
   "outputs": [
    {
     "name": "stdout",
     "output_type": "stream",
     "text": [
      "The autoreload extension is already loaded. To reload it, use:\n",
      "  %reload_ext autoreload\n"
     ]
    }
   ],
   "source": [
    "%load_ext autoreload\n",
    "%autoreload 2\n",
    "\n",
    "from pathlib import Path\n",
    "import numpy as np \n",
    "import pandas as pd \n",
    "import pickle\n",
    "import os \n",
    "\n",
    "from trade_bot import BackTest"
   ]
  },
  {
   "cell_type": "code",
   "execution_count": 12,
   "metadata": {},
   "outputs": [],
   "source": [
    "MODEL_VERSION = '0.6'"
   ]
  },
  {
   "cell_type": "code",
   "execution_count": 13,
   "metadata": {},
   "outputs": [],
   "source": [
    "scaled_path = Path(os.path.abspath(\"\")).parents[0] / \"data\" / \"scaled_data\"\n",
    "scalers_path = scaled_path / \"scalers.pickle\"\n",
    "data_path = scaled_path / \"data.pickle\"\n",
    "model_path = (\n",
    "    Path(os.path.abspath(\"\")).parents[0]\n",
    "    / \"models\"\n",
    "    / \"gan\"\n",
    "    / \"versions\"\n",
    "    / f\"model_{MODEL_VERSION}_class\"\n",
    ")\n"
   ]
  },
  {
   "cell_type": "code",
   "execution_count": 14,
   "metadata": {},
   "outputs": [
    {
     "data": {
      "text/plain": [
       "WindowsPath('c:/Gan/GAN-market-prediction/data/scaled_data/data.pickle')"
      ]
     },
     "execution_count": 14,
     "metadata": {},
     "output_type": "execute_result"
    }
   ],
   "source": [
    "data_path"
   ]
  },
  {
   "cell_type": "code",
   "execution_count": 15,
   "metadata": {},
   "outputs": [
    {
     "name": "stdout",
     "output_type": "stream",
     "text": [
      "WARNING:tensorflow:No training configuration found in save file, so the model was *not* compiled. Compile it manually.\n",
      "2022-04-04 00:26:46,435,435 WARNING  [C:\\Gan\\GAN-market-prediction\\venv_gan\\lib\\site-packages\\keras\\saving\\saved_model\\load.py:167] No training configuration found in save file, so the model was *not* compiled. Compile it manually.\n",
      "c:\\Gan\\GAN-market-prediction\\data\\scaled_data\\scalers.pickle\n"
     ]
    }
   ],
   "source": [
    "bot = BackTest(\n",
    "    transaction_cost=0.0001,\n",
    "    currency_count=1000,\n",
    "    ticker=\"EA\",\n",
    "    scalers_path=scalers_path,\n",
    "    model_path=model_path,\n",
    ")"
   ]
  },
  {
   "cell_type": "code",
   "execution_count": 16,
   "metadata": {},
   "outputs": [
    {
     "data": {
      "text/plain": [
       "Trade Bot - Ticker: EA - Currency Balance: 1000 Asset Balance: 0 - Total summed Balance: 1000"
      ]
     },
     "execution_count": 16,
     "metadata": {},
     "output_type": "execute_result"
    }
   ],
   "source": [
    "bot"
   ]
  },
  {
   "cell_type": "code",
   "execution_count": 17,
   "metadata": {},
   "outputs": [],
   "source": [
    "with open(scaled_path / \"data.pickle\", \"rb\") as handle:\n",
    "    data = pickle.load(handle)"
   ]
  },
  {
   "cell_type": "code",
   "execution_count": 18,
   "metadata": {},
   "outputs": [],
   "source": [
    "X = data['X_list_test']\n",
    "y = data['Y_preds_real_list_test']"
   ]
  },
  {
   "cell_type": "code",
   "execution_count": 19,
   "metadata": {},
   "outputs": [
    {
     "name": "stdout",
     "output_type": "stream",
     "text": [
      "(178, 30, 25)\n",
      "(178, 1)\n"
     ]
    }
   ],
   "source": [
    "print(X.shape)\n",
    "print(y.shape)\n"
   ]
  },
  {
   "cell_type": "code",
   "execution_count": 20,
   "metadata": {},
   "outputs": [
    {
     "name": "stdout",
     "output_type": "stream",
     "text": [
      "CURR AMOUNT: 1000\n",
      "PRICE: [0.83182849]\n"
     ]
    }
   ],
   "source": [
    "bot.simulate(X, y)"
   ]
  },
  {
   "cell_type": "code",
   "execution_count": null,
   "metadata": {},
   "outputs": [],
   "source": []
  }
 ],
 "metadata": {
  "interpreter": {
   "hash": "d7843971dda3529082bc94d3d766c9401c3686db503a2276d5501a9b2d2363b6"
  },
  "kernelspec": {
   "display_name": "Python 3.9.10 ('venv_gan': venv)",
   "language": "python",
   "name": "python3"
  },
  "language_info": {
   "codemirror_mode": {
    "name": "ipython",
    "version": 3
   },
   "file_extension": ".py",
   "mimetype": "text/x-python",
   "name": "python",
   "nbconvert_exporter": "python",
   "pygments_lexer": "ipython3",
   "version": "3.9.12"
  },
  "orig_nbformat": 4
 },
 "nbformat": 4,
 "nbformat_minor": 2
}
