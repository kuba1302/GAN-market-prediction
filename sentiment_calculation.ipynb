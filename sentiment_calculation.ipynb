{
 "cells": [
  {
   "cell_type": "code",
   "execution_count": 21,
   "metadata": {},
   "outputs": [
    {
     "name": "stdout",
     "output_type": "stream",
     "text": [
      "The autoreload extension is already loaded. To reload it, use:\n",
      "  %reload_ext autoreload\n"
     ]
    }
   ],
   "source": [
    "\n",
    "import os\n",
    "from pathlib import Path\n",
    "\n",
    "import numpy as np\n",
    "import pandas as pd\n",
    "\n",
    "from tqdm import tqdm\n",
    "from models.bert.model_base import BertBase\n",
    "\n",
    "%load_ext autoreload\n",
    "%autoreload 2"
   ]
  },
  {
   "cell_type": "code",
   "execution_count": 23,
   "metadata": {},
   "outputs": [],
   "source": [
    "reddit_path = str(Path(os.path.abspath('')) / 'data/reddit_data/')\n",
    "sentiment_path = str(Path(os.path.abspath('')) / 'data/sentiment/')\n",
    "ea = pd.read_csv(str(Path(reddit_path) / 'EA.csv'))"
   ]
  },
  {
   "cell_type": "code",
   "execution_count": 8,
   "metadata": {},
   "outputs": [],
   "source": [
    "bert = BertBase()\n",
    "ea_sample = ea.head(1000)\n"
   ]
  },
  {
   "cell_type": "code",
   "execution_count": 17,
   "metadata": {},
   "outputs": [
    {
     "name": "stderr",
     "output_type": "stream",
     "text": [
      "/tmp/ipykernel_978398/684506221.py:1: SettingWithCopyWarning: \n",
      "A value is trying to be set on a copy of a slice from a DataFrame.\n",
      "Try using .loc[row_indexer,col_indexer] = value instead\n",
      "\n",
      "See the caveats in the documentation: https://pandas.pydata.org/pandas-docs/stable/user_guide/indexing.html#returning-a-view-versus-a-copy\n",
      "  ea_sample['sentiment'] = ea_sample['body'].apply(lambda x: bert.tokenize_and_predict(x))\n"
     ]
    }
   ],
   "source": [
    "ea_sample['sentiment'] = ea_sample['body'].apply(lambda x: bert.tokenize_and_predict(x))"
   ]
  },
  {
   "cell_type": "code",
   "execution_count": 28,
   "metadata": {},
   "outputs": [],
   "source": [
    "def batch_sentiment(df, n_splits=100): \n",
    "    n_splits = n_splits\n",
    "    n_samples = len(df)\n",
    "    fold_sizes = np.full(n_splits, n_samples // n_splits, dtype=int)\n",
    "    fold_sizes[: n_samples % n_splits] += 1\n",
    "    current = 0\n",
    "    for fold_size in tqdm(fold_sizes): \n",
    "        start, stop = current, current + fold_size\n",
    "        slice_df = df.loc[start: stop, :]\n",
    "        slice_df['sentiment'] = slice_df['body'].apply(lambda x: bert.tokenize_and_predict(x))\n",
    "        slice_df.to_csv(str(Path(sentiment_path) / 'ea.csv'), mode='a')\n",
    "        current = stop"
   ]
  },
  {
   "cell_type": "code",
   "execution_count": null,
   "metadata": {},
   "outputs": [],
   "source": []
  }
 ],
 "metadata": {
  "interpreter": {
   "hash": "f5dab0bdbf1d3423670239750a4b7a68e20fb6d5be16f47fcb78a883b4124903"
  },
  "kernelspec": {
   "display_name": "Python 3.9.7 64-bit ('venv': venv)",
   "language": "python",
   "name": "python3"
  },
  "language_info": {
   "codemirror_mode": {
    "name": "ipython",
    "version": 3
   },
   "file_extension": ".py",
   "mimetype": "text/x-python",
   "name": "python",
   "nbconvert_exporter": "python",
   "pygments_lexer": "ipython3",
   "version": "3.9.7"
  },
  "orig_nbformat": 4
 },
 "nbformat": 4,
 "nbformat_minor": 2
}
