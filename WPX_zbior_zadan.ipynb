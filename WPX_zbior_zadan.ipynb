{
 "cells": [
  {
   "cell_type": "markdown",
   "id": "4f50caa1-87e8-4a34-9390-44fb522af0f5",
   "metadata": {},
   "source": [
    "## Błędy użytkownika\n",
    "\n",
    "Pamiętasz zadanie \"napisz funkcję przyjmującą dwa argumenty: temperaturę w stopniach Celsjusza oraz docelową skalę (domyślnie stopnie Fahrenheita), pozwalającą również przeliczyć temperaturę na kelwiny\"? Wykonaj ją dla danych podanych w `input()` przez użytkownika. Zrób tak, że jeśli użytkownik poda coś innego niż stopnie Fahrenheita lub kelwiny, poprosiło go o podanie poprawnego parametru. Pamiętaj, że użytkownik może pomylić się więcej niż jeden raz."
   ]
  },
  {
   "cell_type": "code",
   "execution_count": null,
   "id": "a20f4443-8781-4d56-8c71-716ee85051ee",
   "metadata": {},
   "outputs": [],
   "source": [
    "def change_temp(c_temperature, output_scale='fahrenheit'): \n",
    "    while True: \n",
    "        if output_scale not in ['fahrenheit', 'kelwin']: \n",
    "            continue \n",
    "\n",
    "        temperature = input(\"Enter temperature in Celsius\")\n",
    "\n",
    "        try: \n",
    "            temp = float(temperature)\n",
    "            if temp > 273.15:\n",
    "                break \n",
    "\n",
    "            else: \n",
    "                print('That is now correct value of celsius. It needs to be bigger then 273.15')    \n",
    "\n",
    "        except ValueError: \n",
    "            print('Temperature must be a float or int')\n",
    "\n"
   ]
  },
  {
   "cell_type": "markdown",
   "id": "087e5947-3bdf-4325-9791-878614f2bc56",
   "metadata": {},
   "source": [
    "## Błędy programu\n",
    "\n",
    "Masz listę słowników zawierających imię i nazwisko kilku kierowców, część mających zespół F1, część nie. Kod poniżej nie działa, jeśli zespół nie został podany dla choć jednego kierowcy. Napraw go tak, aby nie powodował błędu, tylko wypisywał, że ten kierowca nie ma zespołu. Zastanów się, czy istnieje tylko jeden sposób naprawy."
   ]
  },
  {
   "cell_type": "code",
   "execution_count": null,
   "id": "4c999a25-b23e-4e38-9180-19f26fcfe1da",
   "metadata": {},
   "outputs": [],
   "source": [
    "drivers = [\n",
    "    {'name': 'Lewis', 'surname': 'Hamilton', 'team': 'Mercedes'},\n",
    "    {'name': 'Charles', 'surname': 'Leclerc', 'team': 'Ferrari'},\n",
    "    {'name': 'Nyck', 'surname': 'de Vries'},\n",
    "    {'name': 'Lance', 'surname': 'Stroll', 'team': 'Aston Martin'},\n",
    "    {'name': 'Felipe', 'surname': 'Drugovich'},\n",
    "    {'name': 'Valtteri', 'surname': 'Bottas', 'team': 'Alfa Romeo'}\n",
    "]"
   ]
  },
  {
   "cell_type": "code",
   "execution_count": null,
   "id": "4cc54385-d824-4f26-9c4d-75f58091be77",
   "metadata": {},
   "outputs": [],
   "source": [
    "for driver in drivers:\n",
    "    print(driver['name'], driver['surname'], driver['team'])"
   ]
  },
  {
   "cell_type": "code",
   "execution_count": null,
   "id": "47dd17ad-1ccb-4d6d-8d69-94a63b85feda",
   "metadata": {},
   "outputs": [],
   "source": []
  },
  {
   "cell_type": "markdown",
   "id": "61640a55-108c-495e-8491-6fce14a2d80c",
   "metadata": {},
   "source": [
    "## Błędy kodu\n",
    "\n",
    "Próba stworzenia słownika `{[3,4]: 4, (5): [6,7]}` spowoduje błąd. Wyjaśnij, dlaczego i spróbuj to naprawić."
   ]
  },
  {
   "cell_type": "code",
   "execution_count": null,
   "id": "9185a8fa-cc4d-4ad0-8ceb-480d0694be7b",
   "metadata": {},
   "outputs": [],
   "source": []
  },
  {
   "cell_type": "markdown",
   "id": "d29821a8-bcd9-4103-ba2b-9572e997bbc3",
   "metadata": {},
   "source": [
    "## Zbiory\n",
    "\n",
    "Stwórz zbiór zawierający nazwy kilku miast w centralnej Polsce i zbiór kilku słów związanych ze statkami. Sprawdź, czy te zbiory mają element wspólny."
   ]
  },
  {
   "cell_type": "code",
   "execution_count": null,
   "id": "de502a9a-0545-41e4-a895-d750642966f0",
   "metadata": {},
   "outputs": [],
   "source": []
  },
  {
   "cell_type": "markdown",
   "id": "d6a32a34-eca9-46b2-9b01-ece9d7c33539",
   "metadata": {},
   "source": [
    "## Rekurencja\n",
    "\n",
    "Mamy funkcję `fibr`. Ile razy ta funkcja się wykona, zanim zwróci wynik dla `x` równego 5?"
   ]
  },
  {
   "cell_type": "code",
   "execution_count": null,
   "id": "84d3436b-696b-4e42-96a0-dd358921814a",
   "metadata": {},
   "outputs": [],
   "source": [
    "def fibr(x):\n",
    "    if x < 2:\n",
    "        return x\n",
    "    else:\n",
    "        return fibr(x-1) + fibr(x-2)"
   ]
  },
  {
   "cell_type": "code",
   "execution_count": null,
   "id": "e07786d2-03c3-464c-a6c8-ac03969010db",
   "metadata": {},
   "outputs": [],
   "source": []
  },
  {
   "cell_type": "markdown",
   "id": "fb23d727-06c7-4e6c-b3a4-bbbe25022296",
   "metadata": {},
   "source": [
    "## Szachownica\n",
    "\n",
    "Stwórz macierz wyglądającą jak szachownica z numerem kolumny (lub wiersza) na czarnych polach i zerami na białych polach. Spróbuj zrobić to w jednej linijce."
   ]
  },
  {
   "cell_type": "code",
   "execution_count": null,
   "id": "18040e09-f16b-4ca1-b5cd-e35e718b88e3",
   "metadata": {},
   "outputs": [],
   "source": []
  },
  {
   "cell_type": "markdown",
   "id": "bfe99bd7-418a-4a42-93eb-270b4a717e86",
   "metadata": {},
   "source": [
    "## Grawitacja\n",
    "\n",
    "Masz macierz zer i jedynek. Zrób tak, aby wszystkie jedynki \"spadły\" na dół kolumny.\n",
    "\n",
    "Na przykład dla macierzy `m`, wynikiem powinno być\n",
    "<code>\n",
    "[[0, 0, 0, 0, 0, 0, 0],\n",
    " [0, 0, 0, 1, 0, 0, 0],\n",
    " [1, 0, 1, 1, 0, 1, 0],\n",
    " [1, 1, 1, 1, 1, 1, 1],\n",
    " [1, 1, 1, 1, 1, 1, 1]]</code>"
   ]
  },
  {
   "cell_type": "code",
   "execution_count": null,
   "id": "38fc9023-93cd-4613-8871-29710dfbac0d",
   "metadata": {},
   "outputs": [],
   "source": [
    "m = [[1,0,1,1,0,1,0],\n",
    "     [0,0,0,1,0,0,0],\n",
    "     [1,0,1,1,1,1,1],\n",
    "     [0,1,1,0,1,1,0],\n",
    "     [1,1,0,1,0,0,1]]"
   ]
  },
  {
   "cell_type": "code",
   "execution_count": null,
   "id": "ccb83e44-26a9-40ea-bd1b-eb8ff745e92f",
   "metadata": {},
   "outputs": [],
   "source": []
  },
  {
   "cell_type": "markdown",
   "id": "6287852c-f8e7-4000-979d-0a007baed30e",
   "metadata": {},
   "source": [
    "## Nowa waluta?\n",
    "\n",
    "Napisz funkcję, która sprawdza, czy został podany jako argument kod waluty (czyli trzyliterowy kod wielkimi literami), którego ostatnim znakiem jest N."
   ]
  },
  {
   "cell_type": "code",
   "execution_count": null,
   "id": "102ae9cb-7962-466d-b836-e438912b875e",
   "metadata": {},
   "outputs": [],
   "source": []
  },
  {
   "cell_type": "markdown",
   "id": "28c21cd5-8a99-46af-b36e-e93298d7a122",
   "metadata": {},
   "source": [
    "## Deal or no deal\n",
    "\n",
    "Zasady gry:\n",
    "* Masz 21 liczb w walizkach, od 2 do potęgi 0 do 2 do potęgi 20. (1, 2, 4, ..., 1048576) Nie wiesz, która walizka zawiera którą liczbę. Każda liczba może znajdować się tylko w jednej z walizek.\n",
    "* Wybierasz losowo jedną z walizek.\n",
    "* Dowiadujesz się o wartościach losowych 19 z pozostałych walizek.\n",
    "* Możesz wybrać nagrodę o wartości liczby w walizce wybranej na początku lub zmienić walizkę na tę niewybraną i o wciąż nieznanej wartości.\n",
    "\n",
    "Napisz symulację, która sprawdza, czy większa wartość oczekiwana nagrody jest przy pozostawieniu walizki wybranej na początku czy zmianie."
   ]
  },
  {
   "cell_type": "code",
   "execution_count": null,
   "id": "928b7215-f73d-4448-aa91-4cbc2640b5b2",
   "metadata": {},
   "outputs": [],
   "source": []
  },
  {
   "cell_type": "markdown",
   "id": "901697db-27fd-4631-a38d-609f9bba823f",
   "metadata": {},
   "source": [
    "## Deal or no deal 2\n",
    "\n",
    "Zmieńmy zasady tak, żeby odkrywane było nie losowe 19 walizek, a 19 walizek o najmniejszych wartościach spośród niewybranych. Dostosuj symulację wyżej do nowych zasad."
   ]
  },
  {
   "cell_type": "code",
   "execution_count": null,
   "id": "d827cc8b-d035-417a-992c-403e76fbd215",
   "metadata": {},
   "outputs": [],
   "source": []
  },
  {
   "cell_type": "markdown",
   "id": "cd5971fa-5cb0-41b7-a3da-10b8d7109eee",
   "metadata": {},
   "source": [
    "## Margin call\n",
    "\n",
    "Masz 100 dolarów, które inwestujesz w instrument finansowy o 3 stanach: może w danym okresie pójść x% do góry, nie zmienić się, lub pójść o x% w dół. Każda możliwość ma równe prawdopodobieństwo 1/3. Broker wymaga, aby wartość twoich instrumentów wynosiła minimum 50 dolarów w każdym okresie, w przeciwnym razie sprzedaje instrumenty za cenę rynkową. Inwestujesz przez 500 okresów. Napisz symulację, która sprawdza w zależności od x, jakie jest prawdopodobieństwo, że w którymś z tych okresów ta wartość będzie poniżej 50 dolarów."
   ]
  },
  {
   "cell_type": "code",
   "execution_count": null,
   "id": "12327c4c-412c-43b6-9cd7-25d075a7c9ed",
   "metadata": {},
   "outputs": [],
   "source": []
  },
  {
   "cell_type": "markdown",
   "id": "03bac999-74a5-4963-b678-e29ea72ad518",
   "metadata": {},
   "source": [
    "## Osoby\n",
    "\n",
    "Masz listę nazwisk i listę imion. Lista nazwisk ma `n` elementów, a imion `i` elementów, przy czym `n > i`. Wypisz imiona oraz nazwiska `n` osób – imię 0 do nazwiska 0, imię 1 do nazwiska 1, ..., imię i-1 do nazwiska i-1, ponownie imię 0 do nazwiska i, imię 1 do nazwiska i+1 itd."
   ]
  },
  {
   "cell_type": "code",
   "execution_count": null,
   "id": "94e67208-a0fb-4b1b-ae87-2023255f9bd0",
   "metadata": {},
   "outputs": [],
   "source": [
    "imiona = ['Jakub', 'Kacper', 'Filip', 'Szymon']\n",
    "nazwiska = ['Nowak', 'Kowalski', 'Wiśniewski', 'Wójcik', 'Kowalczyk', 'Kamiński', 'Lewandowski', 'Zieliński', 'Szymański', 'Woźniak', 'Dąbrowski', 'Kozłowski', 'Mazur', 'Jankowski', 'Kwiatkowski', 'Wojciechowski', 'Krawczyk', 'Kaczmarek', 'Piotrowski', 'Grabowski', 'Zając', 'Pawłowski', 'Król', 'Michalski', 'Wróbel', 'Wieczorek', 'Jabłoński', 'Nowakowski', 'Majewski', 'Olszewski', 'Dudek', 'Stępień', 'Jaworski', 'Adamczyk', 'Malinowski', 'Górski', 'Pawlak', 'Nowicki', 'Sikora', 'Witkowski', 'Rutkowski', 'Walczak', 'Baran', 'Michalak', 'Szewczyk', 'Ostrowski', 'Tomaszewski', 'Zalewski', 'Wróblewski', 'Pietrzak']"
   ]
  },
  {
   "cell_type": "code",
   "execution_count": null,
   "id": "4f8a02a8-4411-4c28-8b31-3865c1d2b521",
   "metadata": {},
   "outputs": [],
   "source": []
  },
  {
   "cell_type": "markdown",
   "id": "cfe973c7-a2a7-4046-9e63-5e5f333ff9b4",
   "metadata": {},
   "source": [
    "## Kwiaty\n",
    "\n",
    "1. Wczytaj dataset iris.\n",
    "2. Ile setos ma petal_length co najmniej 1.5?\n",
    "3. Jaka jest mediana sepal_length?\n",
    "4. Stwórz kolumnę zawierającą kwadrat sepal_length.\n",
    "5. Stwórz kolumnę zawierającą dwie pierwsze litery species zapisane wielkimi literami.\n",
    "6. Ile jest przedstawicieli każdego species w zbiorze?\n",
    "7. Połącz w jedną DataFrame setosy o petal_length co najmniej 1.5 i virginici o petal_length maksymalnie 5.0.\n",
    "8. Dodaj virginicę o sepal_length 6.0, sepal_width 3.0, petal_length 5.0 i petal_width 2.0 do DataFrame.\n",
    "9. Znajdź minimalny i maksymalny sepal_width dla każdego gatunku.\n",
    "10. Iterując po DataFrame, wypisz sepal_width dokładnie pięciu kwiatów o sepal_length co najmniej 5.0."
   ]
  },
  {
   "cell_type": "code",
   "execution_count": null,
   "id": "b720014d-b57b-4d63-a139-4a41e8e42c8d",
   "metadata": {},
   "outputs": [],
   "source": [
    "import pandas as pd\n",
    "import seaborn as sns\n",
    "iris = sns.load_dataset('iris')"
   ]
  },
  {
   "cell_type": "code",
   "execution_count": null,
   "id": "c59b335e-1abb-45c3-9051-c86fa3322a89",
   "metadata": {},
   "outputs": [],
   "source": [
    "iris"
   ]
  },
  {
   "cell_type": "code",
   "execution_count": null,
   "id": "4396dc90-c577-478a-a67c-37f86071cc24",
   "metadata": {},
   "outputs": [],
   "source": []
  },
  {
   "cell_type": "markdown",
   "id": "fc4a83cd-ed7b-4d58-b94b-7fb0ef750bb4",
   "metadata": {},
   "source": [
    "## Płaskie listy\n",
    "\n",
    "Napisz funkcję spłaszczającą wielokrotnie zagnieżdżone listy, działającą niezależnie od stopnia zagnieżdżenia (w rozsądnych granicach)."
   ]
  },
  {
   "cell_type": "code",
   "execution_count": null,
   "id": "56920eb8-8f43-4336-a3c0-aed7d7f1315e",
   "metadata": {},
   "outputs": [],
   "source": [
    "letters = [[[[[[['a', 'b'], 'c'], 'd'], 'e', 'f'], 'g'], 'h'], 'i']"
   ]
  },
  {
   "cell_type": "code",
   "execution_count": null,
   "id": "bcc04a98-860b-466e-93a8-747362634679",
   "metadata": {},
   "outputs": [],
   "source": []
  },
  {
   "cell_type": "markdown",
   "id": "878c4acc-8fc9-433c-ac6e-b6c990cbecaf",
   "metadata": {},
   "source": [
    "## NWD 3 liczb\n",
    "\n",
    "Napisz funkcję, która znajduje największy wspólny dzielnik trzech liczb."
   ]
  },
  {
   "cell_type": "code",
   "execution_count": null,
   "id": "ca3cd71f-f2db-4b96-a807-2ed2f2b2b610",
   "metadata": {},
   "outputs": [],
   "source": []
  },
  {
   "cell_type": "markdown",
   "id": "b40e58c4-89e6-4497-9381-621e6e3cdc30",
   "metadata": {},
   "source": [
    "## Ciąg arytmetyczny\n",
    "\n",
    "Spróbuj wypisać liczby 10.8, 10.7, 10.6, ..., 1.1, 1.0, 0.9 w tej kolejności, oddzielone nową linią. Jeśli nie wypisało ci dokładnie tych liczb, dlaczego?"
   ]
  },
  {
   "cell_type": "code",
   "execution_count": 7,
   "id": "383c8b24-6c3f-4872-9f7d-d7f4ef297037",
   "metadata": {},
   "outputs": [
    {
     "name": "stdout",
     "output_type": "stream",
     "text": [
      "10.799999999999999\n",
      "10.699999999999998\n",
      "10.599999999999998\n",
      "10.499999999999998\n",
      "10.399999999999999\n",
      "10.299999999999999\n",
      "10.199999999999998\n",
      "10.099999999999998\n",
      "9.999999999999998\n",
      "9.899999999999999\n",
      "9.799999999999999\n",
      "9.699999999999998\n",
      "9.599999999999998\n",
      "9.499999999999998\n",
      "9.399999999999999\n",
      "9.299999999999999\n",
      "9.2\n",
      "9.099999999999998\n",
      "8.999999999999998\n",
      "8.899999999999999\n",
      "8.799999999999999\n",
      "8.699999999999998\n",
      "8.599999999999998\n",
      "8.499999999999998\n",
      "8.399999999999999\n",
      "8.299999999999999\n",
      "8.199999999999998\n",
      "8.099999999999998\n",
      "7.999999999999999\n",
      "7.899999999999999\n",
      "7.799999999999999\n",
      "7.699999999999999\n",
      "7.599999999999999\n",
      "7.499999999999999\n",
      "7.399999999999999\n",
      "7.299999999999999\n",
      "7.199999999999999\n",
      "7.099999999999999\n",
      "6.999999999999999\n",
      "6.899999999999999\n",
      "6.799999999999999\n",
      "6.699999999999999\n",
      "6.599999999999999\n",
      "6.499999999999999\n",
      "6.3999999999999995\n",
      "6.299999999999999\n",
      "6.199999999999999\n",
      "6.1\n",
      "5.999999999999999\n",
      "5.8999999999999995\n",
      "5.799999999999999\n",
      "5.699999999999999\n",
      "5.6\n",
      "5.499999999999999\n",
      "5.3999999999999995\n",
      "5.299999999999999\n",
      "5.199999999999999\n",
      "5.1\n",
      "4.999999999999999\n",
      "4.8999999999999995\n",
      "4.799999999999999\n",
      "4.699999999999999\n",
      "4.6\n",
      "4.499999999999999\n",
      "4.3999999999999995\n",
      "4.3\n",
      "4.199999999999999\n",
      "4.1\n",
      "3.999999999999999\n",
      "3.899999999999999\n",
      "3.7999999999999994\n",
      "3.6999999999999993\n",
      "3.599999999999999\n",
      "3.4999999999999996\n",
      "3.3999999999999995\n",
      "3.2999999999999994\n",
      "3.1999999999999993\n",
      "3.099999999999999\n",
      "2.9999999999999996\n",
      "2.8999999999999995\n",
      "2.7999999999999994\n",
      "2.6999999999999997\n",
      "2.5999999999999996\n",
      "2.4999999999999996\n",
      "2.3999999999999995\n",
      "2.3\n",
      "2.1999999999999997\n",
      "2.0999999999999996\n",
      "1.9999999999999996\n",
      "1.9\n",
      "1.7999999999999998\n",
      "1.6999999999999997\n",
      "1.5999999999999999\n",
      "1.5\n",
      "1.4\n",
      "1.2999999999999998\n",
      "1.2\n",
      "1.1\n",
      "1.0\n",
      "0.9\n"
     ]
    }
   ],
   "source": [
    "import numpy as np \n",
    "for i in np.arange(0.9, 10.9, 0.1)[::-1]:\n",
    "    print(i)"
   ]
  },
  {
   "cell_type": "markdown",
   "id": "0f6a8194-8303-4a91-84e3-3483b3aba3dc",
   "metadata": {},
   "source": [
    "## Funkcja pierwiastkująca (tylko co się da)\n",
    "\n",
    "Napisz funkcję przyjmującą dowolną liczbę nazwanych argumentów i zwracającą słownik, który jako klucz ma nazwę parametru, a wartość – wartość parametru podniesionego do potęgi 1/2 (jeśli to możliwe) lub 0 (jeśli to niemożliwe dla danego elementu)."
   ]
  },
  {
   "cell_type": "code",
   "execution_count": null,
   "id": "71db51ef-5e7e-4d6f-81a2-7a9e5c900230",
   "metadata": {},
   "outputs": [],
   "source": []
  },
  {
   "cell_type": "markdown",
   "id": "76d0a4e4-7033-49f5-b8f1-220aa6096279",
   "metadata": {},
   "source": [
    "## Losowa macierz\n",
    "\n",
    "Stwórz macierz 100x20 zawierającą losowe liczby całkowite z zakresu 0-10. Przetransponuj ją na stałe (do macierzy 20x100)."
   ]
  },
  {
   "cell_type": "code",
   "execution_count": null,
   "id": "57b1a5d2-1409-42eb-8a18-6476087afa29",
   "metadata": {},
   "outputs": [],
   "source": []
  },
  {
   "cell_type": "markdown",
   "id": "36ed6b44-9309-447c-9213-cb5d83943db8",
   "metadata": {},
   "source": [
    "## Spacja\n",
    "\n",
    "Wypisz słowo 'test' po 16 spacjach, nie używając ani razu znaku spacji w kodzie."
   ]
  },
  {
   "cell_type": "code",
   "execution_count": null,
   "id": "b8a6aa1f-e1bb-4cc6-9563-383f29fea285",
   "metadata": {},
   "outputs": [],
   "source": []
  },
  {
   "cell_type": "markdown",
   "id": "ae1856dd-933d-4fe8-8266-dbede62215fb",
   "metadata": {},
   "source": [
    "## FizzBuzzes\n",
    "\n",
    "Znajdź wszystkie liczby między 100 a 200 podzielne przez 3 i przez 5."
   ]
  },
  {
   "cell_type": "code",
   "execution_count": null,
   "id": "3b650e7e-66e6-447a-a299-00737190ef00",
   "metadata": {},
   "outputs": [],
   "source": []
  },
  {
   "cell_type": "markdown",
   "id": "43ecbfd5-5e3b-4391-b976-cc4258f66f01",
   "metadata": {},
   "source": [
    "## Cyfry w tekście\n",
    "\n",
    "Policz, ile cyfr wystąpiło na początku artykułu z Wikipedii o Breżniewie."
   ]
  },
  {
   "cell_type": "code",
   "execution_count": null,
   "id": "5ded79af-aa31-49a3-ab0f-4447a57f40b8",
   "metadata": {},
   "outputs": [],
   "source": [
    "brezhnev = '''Leonid Iljicz Breżniew (ros. Леонид Ильич Брежнев; ur. 19 grudnia 1906 / 1 stycznia 1907 w Kamieńskiem, zm. 10 listopada 1982 w Moskwie) – radziecki polityk, sekretarz generalny Komunistycznej Partii Związku Radzieckiego w latach 1964–1982.\n",
    "\n",
    "Urodził się na Ukrainie, w rodzinie hutnika, w 1921 roku rozpoczął pracę w hucie, w 1923 roku wstąpił do Komsomołu. Na przełomie lat 20. i 30. został członkiem Wszechzwiązkowej Komunistycznej Partii (bolszewików). W tym czasie ukończył technikum i zaczął pracować jako geodeta w guberni kurskiej, następnie na Białorusi i Uralu. W 1935 roku ukończył Instytut Hutnictwa w Dnieprodzierżyńsku, pracował w fabryce i służył w wojsku na Zabajkalu. W 1939 roku został sekretarzem Dniepropietrowskiego Komitetu Partii.'''"
   ]
  },
  {
   "cell_type": "code",
   "execution_count": null,
   "id": "8f838680-3f7c-480a-9d15-22c591c8860a",
   "metadata": {},
   "outputs": [],
   "source": []
  },
  {
   "cell_type": "markdown",
   "id": "d0354444-0ffe-4bc3-bad4-0f8debb4eaed",
   "metadata": {},
   "source": [
    "## Powtórzone cyfry\n",
    "\n",
    "Masz cyfrę `x`. Sprawdź, jaki jest wynik wyrażenia `x+xx+xxx+xxxx`. Na przykład, dla `x=3`, wynik to 3702 (3+33+333+3333)."
   ]
  },
  {
   "cell_type": "code",
   "execution_count": null,
   "id": "0fa5e095-4458-4d38-ae3a-a2a56faa66dd",
   "metadata": {},
   "outputs": [],
   "source": []
  },
  {
   "cell_type": "markdown",
   "id": "26a2fbb9-988a-4408-a1d8-e67ba15dcc9b",
   "metadata": {},
   "source": [
    "## Konto\n",
    "\n",
    "Wstępny bilans konta to 0. D oznacza wpłatę, a W – wypłatę. Operacje oddzielone są nowymi liniami. Napisz kod obliczający ostateczny bilans konta w zależności od wartości `operacje`."
   ]
  },
  {
   "cell_type": "code",
   "execution_count": null,
   "id": "3f36a368-7f70-4edc-9402-a2523b9c06fd",
   "metadata": {},
   "outputs": [],
   "source": [
    "operacje = '''D 1000\n",
    "W 200\n",
    "D 500\n",
    "W 300\n",
    "W 100\n",
    "D 800\n",
    "W 1400\n",
    "D 1000\n",
    "W 700\n",
    "D 300'''"
   ]
  },
  {
   "cell_type": "code",
   "execution_count": null,
   "id": "9c8a3059-b549-4029-853b-d6827f65872b",
   "metadata": {},
   "outputs": [],
   "source": []
  },
  {
   "cell_type": "markdown",
   "id": "3cec416f-df8d-4792-ba93-ed1e980541ce",
   "metadata": {},
   "source": [
    "## Papier, kamień, nożyce\n",
    "\n",
    "Napisz grę w papier, kamień, nożyce z wieloma rundami. Użytkownik powinien wpisać `p`, `k` lub `n` dzięki `input()`, a komputer powinien wybrać swoją odpowiedź losowo. Zapisuj, ile razy człowiek wygrał, a ile razy przegrał. Jeśli użytkownik wpisze `q`, gra jest zakończona."
   ]
  },
  {
   "cell_type": "code",
   "execution_count": null,
   "id": "99a97254-c902-4c35-84ec-3511be4c57f3",
   "metadata": {},
   "outputs": [],
   "source": []
  },
  {
   "cell_type": "markdown",
   "id": "2f8bcc75-c84c-41f5-9c64-cc4be5369cd6",
   "metadata": {},
   "source": [
    "## Indeksy elementów w kolejności rosnącej\n",
    "\n",
    "Masz listę `l`. Wypisz indeksy elementów tak, aby elementy były w kolejności rosnącej. Na przykład, dla `[8,1,4,3]` kolejność to 1-3-2-0."
   ]
  },
  {
   "cell_type": "code",
   "execution_count": null,
   "id": "8a8503af-cf15-4807-a180-aaeec7c5b01a",
   "metadata": {},
   "outputs": [],
   "source": []
  },
  {
   "cell_type": "markdown",
   "id": "45545eab-3a36-4a85-994d-9e2449926c45",
   "metadata": {},
   "source": [
    "## Sortowanie \n",
    "\n",
    "Masz string `utwory`. Stwórz zmienną `utwory_order`, w której utwory wciąż są oddzielone nowymi liniami, ale posortowane alfabetycznie po ich przedostatniej literze."
   ]
  },
  {
   "cell_type": "code",
   "execution_count": null,
   "id": "42d2f0a7-5427-4d92-983d-78905de06790",
   "metadata": {},
   "outputs": [],
   "source": [
    "utwory = '''El Diablo\n",
    "Karma\n",
    "Set Me Free\n",
    "The Wrong Place\n",
    "Russian Woman\n",
    "Je me casse\n",
    "Love Is on My Side\n",
    "Loco Loco\n",
    "Embers\n",
    "Last Dance\n",
    "Tout l'univers\n",
    "10 Years\n",
    "Voy a quedarme\n",
    "Sugar\n",
    "I Don't Feel Hate\n",
    "Dark Side\n",
    "Growing Up Is Getting Old\n",
    "Discoteque\n",
    "Shum\n",
    "Voilà\n",
    "Mata Hari\n",
    "Fallen Angel\n",
    "Birth of a New Age\n",
    "Zitti e buoni\n",
    "Voices\n",
    "Adrenalina'''"
   ]
  },
  {
   "cell_type": "code",
   "execution_count": null,
   "id": "967e85df-cee6-4cfe-b732-11eb04c74118",
   "metadata": {},
   "outputs": [],
   "source": []
  },
  {
   "cell_type": "markdown",
   "id": "bb15953d-ae79-409f-84ca-9721a7a849a2",
   "metadata": {},
   "source": [
    "## Wyniki uczniów\n",
    "\n",
    "Używamy tego samego zbioru danych, co w notebooku WP5.\n",
    "\n",
    "1. Zweryfikuj, czy osoby mający free/reduced lunch mają niższe wyniki w przedmiotach od pozostałych.\n",
    "2. Stwórz kolumnę `minimum` zawierającą najniższy wynik spośród trzech przedmiotów.\n",
    "3. Stwórz kolumnę `raceAB`, która ma wartość 1 jeśli w kolumnie race/ethnicity wartość to \"group A\" lub \"group B\", a 0 w przeciwnym przypadku.\n",
    "4. Sprawdź, czy `test preparation course` bardziej pomógł osobom, których rodzice zdobyli jakiś degree, czy pozostałym.\n",
    "5. Stwórz kolumnę `exam_time` zawierającą losowe okresy czasu, która mówi, ile czasu zajęło uczniom napisanie egzaminów. Na jej podstawie kolumna `exam_under_180` powinna sprawdzić, czy egzamin został napisany poniżej czy powyżej 180 minut.\n",
    "6. Stwórz kolumny binarne (1 lub 0, albo True lub False) dla każdego `parental level of education`.\n",
    "7. Przekształć `test preparation course` tak, aby zawierała wartości True lub False.\n",
    "8. Stwórz kolumnę `programming score`, która zawiera ważoną średnią arytmetyczną wartości pozostałych egzaminów (3 razy math, 1 raz reading, 2 razy writing) zaokrągloną w górę do najbliższej liczby całkowitej.\n",
    "9. Wybierz osoby, które mają `math score` powyżej 75, a `writing score` poniżej 80. Ile procent takich osób ma rodzica z associate's degree?"
   ]
  },
  {
   "cell_type": "code",
   "execution_count": null,
   "id": "073dac09-3c73-4bad-a2a7-23e65cd979ea",
   "metadata": {},
   "outputs": [],
   "source": [
    "import pandas as pd\n",
    "data = pd.read_csv('StudentsPerformance.csv')"
   ]
  },
  {
   "cell_type": "code",
   "execution_count": null,
   "id": "00428219-e94a-460e-ac7c-8b5086d64efc",
   "metadata": {},
   "outputs": [],
   "source": []
  },
  {
   "cell_type": "markdown",
   "id": "da181783-5c4d-4a65-a8df-68fbafbb46cb",
   "metadata": {},
   "source": [
    "## Macierze\n",
    "\n",
    "1. Stwórz macierz A o wymiarach 4x2 i wartościach będących losowymi liczbami z rozkładu normalnego o średniej 0 i wariancji 4.\n",
    "2. Przemnóż A przez macierz jednostkową.\n",
    "3. Przemnóż A przez macierz taką, aby dostać macierz 4x3.\n",
    "4. Stwórz z macierzy A macierz jednowymiarową.\n",
    "5. Stwórz z macierzy A macierz trójwymiarową.\n",
    "6. Pomnóż liczby w macierzy A razy 100 i przekonwertuj je najpierw do 8-bitowego, a potem (te same wartości) do 16-bitowego unsigned (mogącego przyjmować tylko wartości dodatnie) integera."
   ]
  },
  {
   "cell_type": "code",
   "execution_count": null,
   "id": "9393cf40-2514-4074-86e1-21f8ce96f6e6",
   "metadata": {},
   "outputs": [],
   "source": []
  },
  {
   "cell_type": "code",
   "execution_count": null,
   "id": "45f2736e-6fcf-44db-8022-007e227201a5",
   "metadata": {},
   "outputs": [],
   "source": []
  }
 ],
 "metadata": {
  "kernelspec": {
   "display_name": "Python 3 (ipykernel)",
   "language": "python",
   "name": "python3"
  },
  "language_info": {
   "codemirror_mode": {
    "name": "ipython",
    "version": 3
   },
   "file_extension": ".py",
   "mimetype": "text/x-python",
   "name": "python",
   "nbconvert_exporter": "python",
   "pygments_lexer": "ipython3",
   "version": "3.9.5"
  }
 },
 "nbformat": 4,
 "nbformat_minor": 5
}
