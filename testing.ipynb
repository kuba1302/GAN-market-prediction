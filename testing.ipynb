{
 "cells": [
  {
   "cell_type": "code",
   "execution_count": 1,
   "metadata": {},
   "outputs": [],
   "source": [
    "%load_ext autoreload\n",
    "%autoreload 2\n",
    "\n",
    "from utils.connectors.sql_connector import SqlConnector\n",
    "from utils.connectors.polygon_connector import PolygonConnector\n",
    "from utils.connectors.reddit_connector import RedditPsawConnector\n",
    "import os \n",
    "import pandas as pd\n",
    "import json\n",
    "import yfinance as yf\n",
    "API_KEY = 'uAbu9bSmDF6XkqOuBawYuvdBspoueBys'\n"
   ]
  },
  {
   "cell_type": "code",
   "execution_count": 47,
   "metadata": {},
   "outputs": [],
   "source": [
    "connector = SqlConnector('model_data')"
   ]
  },
  {
   "cell_type": "code",
   "execution_count": 16,
   "metadata": {},
   "outputs": [],
   "source": [
    "polygon = PolygonConnector(API_KEY)"
   ]
  },
  {
   "cell_type": "code",
   "execution_count": 17,
   "metadata": {},
   "outputs": [
    {
     "name": "stdout",
     "output_type": "stream",
     "text": [
      "https://api.polygon.io/v1/open-close/ATVI/2021-11-02?adjusted=true&apiKey=uAbu9bSmDF6XkqOuBawYuvdBspoueBys\n"
     ]
    }
   ],
   "source": [
    "data = polygon.get_one_day_data('ATVI', '2021-11-02')"
   ]
  },
  {
   "cell_type": "code",
   "execution_count": 64,
   "metadata": {},
   "outputs": [],
   "source": [
    "connector.cursor.execute(\"\"\"CREATE TABLE companies (\n",
    "    company_id serial PRIMARY KEY, \n",
    "    company_name VARCHAR(50),\n",
    "    company_tickers VARCHAR(50)\n",
    ");\"\"\")"
   ]
  },
  {
   "cell_type": "code",
   "execution_count": 34,
   "metadata": {},
   "outputs": [
    {
     "ename": "SyntaxError",
     "evalue": "invalid syntax (Temp/ipykernel_27292/4065386783.py, line 1)",
     "output_type": "error",
     "traceback": [
      "\u001b[1;36m  File \u001b[1;32m\"C:\\Users\\kuba1\\AppData\\Local\\Temp/ipykernel_27292/4065386783.py\"\u001b[1;36m, line \u001b[1;32m1\u001b[0m\n\u001b[1;33m    id SERIAL PRIMARY KEY,\u001b[0m\n\u001b[1;37m       ^\u001b[0m\n\u001b[1;31mSyntaxError\u001b[0m\u001b[1;31m:\u001b[0m invalid syntax\n"
     ]
    }
   ],
   "source": [
    "id SERIAL PRIMARY KEY, \n",
    "ticker VARCHAR(6), \n",
    "open NUMERIC(7, 4)\n",
    "high NUMERIC(7, 4)\n",
    "low NUMERIC(7, 4)\n",
    "close NUMERIC(7, 4)\n",
    "volume NUMERIC(12, 1)\n",
    "afterHours NUMERIC(7, 4)\n",
    "preMarket NUMERIC(7, 4)\n"
   ]
  },
  {
   "cell_type": "code",
   "execution_count": 36,
   "metadata": {},
   "outputs": [
    {
     "ename": "SyntaxError",
     "evalue": "invalid syntax (Temp/ipykernel_27292/2930515671.py, line 1)",
     "output_type": "error",
     "traceback": [
      "\u001b[1;36m  File \u001b[1;32m\"C:\\Users\\kuba1\\AppData\\Local\\Temp/ipykernel_27292/2930515671.py\"\u001b[1;36m, line \u001b[1;32m1\u001b[0m\n\u001b[1;33m    CREATE TABLE companies (\u001b[0m\n\u001b[1;37m           ^\u001b[0m\n\u001b[1;31mSyntaxError\u001b[0m\u001b[1;31m:\u001b[0m invalid syntax\n"
     ]
    }
   ],
   "source": [
    "CREATE TABLE companies (\n",
    "    company_id serial PRIMARY KEY, \n",
    "    company_name VARCHAT(50),\n",
    "    company_tickers,\n",
    "); "
   ]
  },
  {
   "cell_type": "code",
   "execution_count": null,
   "metadata": {},
   "outputs": [],
   "source": [
    "INSERT INTO companies(company_name, company_tickers)\n",
    "VALUES ()"
   ]
  },
  {
   "cell_type": "code",
   "execution_count": 38,
   "metadata": {},
   "outputs": [],
   "source": [
    "with open('data/stocksTickers.json') as file:\n",
    "    data = json.loads(file.read())"
   ]
  },
  {
   "cell_type": "code",
   "execution_count": 74,
   "metadata": {},
   "outputs": [],
   "source": [
    "connector = SqlConnector('model_data')"
   ]
  },
  {
   "cell_type": "code",
   "execution_count": 56,
   "metadata": {},
   "outputs": [
    {
     "name": "stdout",
     "output_type": "stream",
     "text": [
      "\n",
      "    INSERT INTO companies(company_name, company_tickers)\n",
      "    VALUES (ATVI, BLIZZARD);\n",
      "    \n"
     ]
    },
    {
     "ename": "UndefinedTable",
     "evalue": "relation \"companies\" does not exist\nLINE 2:     INSERT INTO companies(company_name, company_tickers)\n                        ^\n",
     "output_type": "error",
     "traceback": [
      "\u001b[1;31m---------------------------------------------------------------------------\u001b[0m",
      "\u001b[1;31mUndefinedTable\u001b[0m                            Traceback (most recent call last)",
      "\u001b[1;32m~\\AppData\\Local\\Temp/ipykernel_27292/1182434354.py\u001b[0m in \u001b[0;36m<module>\u001b[1;34m\u001b[0m\n\u001b[0;32m      6\u001b[0m     \"\"\"\n\u001b[0;32m      7\u001b[0m     \u001b[0mprint\u001b[0m\u001b[1;33m(\u001b[0m\u001b[0mquery\u001b[0m\u001b[1;33m)\u001b[0m\u001b[1;33m\u001b[0m\u001b[1;33m\u001b[0m\u001b[0m\n\u001b[1;32m----> 8\u001b[1;33m     \u001b[0mconnector\u001b[0m\u001b[1;33m.\u001b[0m\u001b[0mcursor\u001b[0m\u001b[1;33m.\u001b[0m\u001b[0mexecute\u001b[0m\u001b[1;33m(\u001b[0m\u001b[0mquery\u001b[0m\u001b[1;33m)\u001b[0m\u001b[1;33m\u001b[0m\u001b[1;33m\u001b[0m\u001b[0m\n\u001b[0m",
      "\u001b[1;31mUndefinedTable\u001b[0m: relation \"companies\" does not exist\nLINE 2:     INSERT INTO companies(company_name, company_tickers)\n                        ^\n"
     ]
    }
   ],
   "source": [
    "query_part = ''\n",
    "for ticker, company in data.items():\n",
    "    query = f\"\"\"\n",
    "    INSERT INTO companies(company_name, company_tickers)\n",
    "    VALUES ({ticker}, {company});\n",
    "    \"\"\"\n",
    "    print(query)\n",
    "    connector.cursor.execute(query)"
   ]
  },
  {
   "cell_type": "code",
   "execution_count": 75,
   "metadata": {},
   "outputs": [],
   "source": [
    "connector.cursor.execute(\"\"\"\n",
    "SELECT table_name\n",
    "FROM information_schema.tables\n",
    "WHERE table_schema = 'public'\n",
    "ORDER BY table_name;\n",
    "\"\"\")"
   ]
  },
  {
   "cell_type": "code",
   "execution_count": 76,
   "metadata": {},
   "outputs": [
    {
     "data": {
      "text/plain": [
       "[]"
      ]
     },
     "execution_count": 76,
     "metadata": {},
     "output_type": "execute_result"
    }
   ],
   "source": [
    "connector.cursor.fetchall()"
   ]
  },
  {
   "cell_type": "code",
   "execution_count": 70,
   "metadata": {},
   "outputs": [
    {
     "data": {
      "text/plain": [
       "[]"
      ]
     },
     "execution_count": 70,
     "metadata": {},
     "output_type": "execute_result"
    }
   ],
   "source": [
    "connector.cursor.execute(\"SELECT * FROM companies\")\n",
    "connector.cursor.fetchall()"
   ]
  },
  {
   "cell_type": "code",
   "execution_count": 73,
   "metadata": {},
   "outputs": [
    {
     "ename": "UndefinedColumn",
     "evalue": "column \"atvi\" does not exist\nLINE 1: ... companies(company_name, company_tickers) VALUES (ATVI, BLIZ...\n                                                             ^\n",
     "output_type": "error",
     "traceback": [
      "\u001b[1;31m---------------------------------------------------------------------------\u001b[0m",
      "\u001b[1;31mUndefinedColumn\u001b[0m                           Traceback (most recent call last)",
      "\u001b[1;32m~\\AppData\\Local\\Temp/ipykernel_27292/4160723343.py\u001b[0m in \u001b[0;36m<module>\u001b[1;34m\u001b[0m\n\u001b[1;32m----> 1\u001b[1;33m \u001b[0mconnector\u001b[0m\u001b[1;33m.\u001b[0m\u001b[0mcursor\u001b[0m\u001b[1;33m.\u001b[0m\u001b[0mexecute\u001b[0m\u001b[1;33m(\u001b[0m\u001b[1;34m\"INSERT INTO companies(company_name, company_tickers) VALUES (ATVI, BLIZZARD);\"\u001b[0m\u001b[1;33m)\u001b[0m\u001b[1;33m\u001b[0m\u001b[1;33m\u001b[0m\u001b[0m\n\u001b[0m",
      "\u001b[1;31mUndefinedColumn\u001b[0m: column \"atvi\" does not exist\nLINE 1: ... companies(company_name, company_tickers) VALUES (ATVI, BLIZ...\n                                                             ^\n"
     ]
    }
   ],
   "source": [
    "connector.cursor.execute(\"INSERT INTO companies(company_name, company_tickers) VALUES (ATVI, BLIZZARD);\")"
   ]
  },
  {
   "cell_type": "code",
   "execution_count": 2,
   "metadata": {},
   "outputs": [
    {
     "name": "stderr",
     "output_type": "stream",
     "text": [
      "c:\\UW\\GAN-market-prediction\\venv\\lib\\site-packages\\psaw\\PushshiftAPI.py:252: UserWarning: Not all PushShift shards are active. Query results may be incomplete\n",
      "  warnings.warn(shards_down_message)\n"
     ]
    }
   ],
   "source": [
    "reddit = RedditApiConnector()\n",
    "df = reddit.search_comments('Ubisoft')"
   ]
  },
  {
   "cell_type": "code",
   "execution_count": 3,
   "metadata": {},
   "outputs": [
    {
     "data": {
      "text/html": [
       "<div>\n",
       "<style scoped>\n",
       "    .dataframe tbody tr th:only-of-type {\n",
       "        vertical-align: middle;\n",
       "    }\n",
       "\n",
       "    .dataframe tbody tr th {\n",
       "        vertical-align: top;\n",
       "    }\n",
       "\n",
       "    .dataframe thead th {\n",
       "        text-align: right;\n",
       "    }\n",
       "</style>\n",
       "<table border=\"1\" class=\"dataframe\">\n",
       "  <thead>\n",
       "    <tr style=\"text-align: right;\">\n",
       "      <th></th>\n",
       "      <th>author</th>\n",
       "      <th>body</th>\n",
       "      <th>created_utc</th>\n",
       "      <th>score</th>\n",
       "      <th>created</th>\n",
       "    </tr>\n",
       "  </thead>\n",
       "  <tbody>\n",
       "    <tr>\n",
       "      <th>0</th>\n",
       "      <td>politecreeper</td>\n",
       "      <td>Ubisoft is really bad for pushing their Uplay ...</td>\n",
       "      <td>1636801770</td>\n",
       "      <td>1</td>\n",
       "      <td>1.636798e+09</td>\n",
       "    </tr>\n",
       "    <tr>\n",
       "      <th>1</th>\n",
       "      <td>f-ingsteveglansberg</td>\n",
       "      <td>Nah, the problem is that after years of policy...</td>\n",
       "      <td>1636800834</td>\n",
       "      <td>1</td>\n",
       "      <td>1.636797e+09</td>\n",
       "    </tr>\n",
       "    <tr>\n",
       "      <th>2</th>\n",
       "      <td>TrickBox_</td>\n",
       "      <td>AFAIK leads have it good at Ubisoft</td>\n",
       "      <td>1636799946</td>\n",
       "      <td>1</td>\n",
       "      <td>1.636796e+09</td>\n",
       "    </tr>\n",
       "    <tr>\n",
       "      <th>3</th>\n",
       "      <td>JKCodeComplete</td>\n",
       "      <td>Ubisoft has that, too. Their series tend to ha...</td>\n",
       "      <td>1636792459</td>\n",
       "      <td>1</td>\n",
       "      <td>1.636789e+09</td>\n",
       "    </tr>\n",
       "    <tr>\n",
       "      <th>4</th>\n",
       "      <td>randloadable19</td>\n",
       "      <td>I mean, Ubisoft does it practically every year...</td>\n",
       "      <td>1636791371</td>\n",
       "      <td>1</td>\n",
       "      <td>1.636788e+09</td>\n",
       "    </tr>\n",
       "    <tr>\n",
       "      <th>...</th>\n",
       "      <td>...</td>\n",
       "      <td>...</td>\n",
       "      <td>...</td>\n",
       "      <td>...</td>\n",
       "      <td>...</td>\n",
       "    </tr>\n",
       "    <tr>\n",
       "      <th>995</th>\n",
       "      <td>mr_fucknoodle</td>\n",
       "      <td>How much of those who answered \"It depends\" ar...</td>\n",
       "      <td>1634046927</td>\n",
       "      <td>1</td>\n",
       "      <td>1.634043e+09</td>\n",
       "    </tr>\n",
       "    <tr>\n",
       "      <th>996</th>\n",
       "      <td>Mr_WeeWoo</td>\n",
       "      <td>Furthermore I'm pretty sure there's an agreeme...</td>\n",
       "      <td>1634034859</td>\n",
       "      <td>4</td>\n",
       "      <td>1.634031e+09</td>\n",
       "    </tr>\n",
       "    <tr>\n",
       "      <th>997</th>\n",
       "      <td>roneg</td>\n",
       "      <td>problem is that they are not looking to match ...</td>\n",
       "      <td>1634025046</td>\n",
       "      <td>3</td>\n",
       "      <td>1.634021e+09</td>\n",
       "    </tr>\n",
       "    <tr>\n",
       "      <th>998</th>\n",
       "      <td>x33storm</td>\n",
       "      <td>.. EA/DICE, Ubisoft, Rockstar, etc..\\n\\nIt's a...</td>\n",
       "      <td>1634017101</td>\n",
       "      <td>0</td>\n",
       "      <td>1.634014e+09</td>\n",
       "    </tr>\n",
       "    <tr>\n",
       "      <th>999</th>\n",
       "      <td>TroubledPCNoob</td>\n",
       "      <td>I mean, honestly, I don't really like where th...</td>\n",
       "      <td>1634007962</td>\n",
       "      <td>1</td>\n",
       "      <td>1.634004e+09</td>\n",
       "    </tr>\n",
       "  </tbody>\n",
       "</table>\n",
       "<p>1000 rows × 5 columns</p>\n",
       "</div>"
      ],
      "text/plain": [
       "                  author  ...       created\n",
       "0          politecreeper  ...  1.636798e+09\n",
       "1    f-ingsteveglansberg  ...  1.636797e+09\n",
       "2              TrickBox_  ...  1.636796e+09\n",
       "3         JKCodeComplete  ...  1.636789e+09\n",
       "4         randloadable19  ...  1.636788e+09\n",
       "..                   ...  ...           ...\n",
       "995        mr_fucknoodle  ...  1.634043e+09\n",
       "996            Mr_WeeWoo  ...  1.634031e+09\n",
       "997                roneg  ...  1.634021e+09\n",
       "998             x33storm  ...  1.634014e+09\n",
       "999       TroubledPCNoob  ...  1.634004e+09\n",
       "\n",
       "[1000 rows x 5 columns]"
      ]
     },
     "execution_count": 3,
     "metadata": {},
     "output_type": "execute_result"
    }
   ],
   "source": [
    "df"
   ]
  },
  {
   "cell_type": "code",
   "execution_count": 2,
   "metadata": {},
   "outputs": [],
   "source": [
    "msft = yf.Ticker(\"ATVI\")\n"
   ]
  },
  {
   "cell_type": "code",
   "execution_count": 11,
   "metadata": {},
   "outputs": [],
   "source": [
    "data = msft.history(period='10y')"
   ]
  },
  {
   "cell_type": "code",
   "execution_count": 12,
   "metadata": {},
   "outputs": [
    {
     "data": {
      "text/html": [
       "<div>\n",
       "<style scoped>\n",
       "    .dataframe tbody tr th:only-of-type {\n",
       "        vertical-align: middle;\n",
       "    }\n",
       "\n",
       "    .dataframe tbody tr th {\n",
       "        vertical-align: top;\n",
       "    }\n",
       "\n",
       "    .dataframe thead th {\n",
       "        text-align: right;\n",
       "    }\n",
       "</style>\n",
       "<table border=\"1\" class=\"dataframe\">\n",
       "  <thead>\n",
       "    <tr style=\"text-align: right;\">\n",
       "      <th></th>\n",
       "      <th>Open</th>\n",
       "      <th>High</th>\n",
       "      <th>Low</th>\n",
       "      <th>Close</th>\n",
       "      <th>Volume</th>\n",
       "      <th>Dividends</th>\n",
       "      <th>Stock Splits</th>\n",
       "    </tr>\n",
       "    <tr>\n",
       "      <th>Date</th>\n",
       "      <th></th>\n",
       "      <th></th>\n",
       "      <th></th>\n",
       "      <th></th>\n",
       "      <th></th>\n",
       "      <th></th>\n",
       "      <th></th>\n",
       "    </tr>\n",
       "  </thead>\n",
       "  <tbody>\n",
       "    <tr>\n",
       "      <th>2011-11-21</th>\n",
       "      <td>10.893195</td>\n",
       "      <td>10.975789</td>\n",
       "      <td>10.810601</td>\n",
       "      <td>10.902372</td>\n",
       "      <td>13803700</td>\n",
       "      <td>0.0</td>\n",
       "      <td>0</td>\n",
       "    </tr>\n",
       "    <tr>\n",
       "      <th>2011-11-22</th>\n",
       "      <td>10.893195</td>\n",
       "      <td>11.021674</td>\n",
       "      <td>10.645414</td>\n",
       "      <td>10.920726</td>\n",
       "      <td>18589200</td>\n",
       "      <td>0.0</td>\n",
       "      <td>0</td>\n",
       "    </tr>\n",
       "    <tr>\n",
       "      <th>2011-11-23</th>\n",
       "      <td>10.856487</td>\n",
       "      <td>11.012498</td>\n",
       "      <td>10.783071</td>\n",
       "      <td>10.783071</td>\n",
       "      <td>12543100</td>\n",
       "      <td>0.0</td>\n",
       "      <td>0</td>\n",
       "    </tr>\n",
       "    <tr>\n",
       "      <th>2011-11-25</th>\n",
       "      <td>10.728008</td>\n",
       "      <td>11.040029</td>\n",
       "      <td>10.728008</td>\n",
       "      <td>10.783071</td>\n",
       "      <td>5187800</td>\n",
       "      <td>0.0</td>\n",
       "      <td>0</td>\n",
       "    </tr>\n",
       "    <tr>\n",
       "      <th>2011-11-28</th>\n",
       "      <td>11.040027</td>\n",
       "      <td>11.177684</td>\n",
       "      <td>10.939080</td>\n",
       "      <td>11.159329</td>\n",
       "      <td>14166600</td>\n",
       "      <td>0.0</td>\n",
       "      <td>0</td>\n",
       "    </tr>\n",
       "    <tr>\n",
       "      <th>...</th>\n",
       "      <td>...</td>\n",
       "      <td>...</td>\n",
       "      <td>...</td>\n",
       "      <td>...</td>\n",
       "      <td>...</td>\n",
       "      <td>...</td>\n",
       "      <td>...</td>\n",
       "    </tr>\n",
       "    <tr>\n",
       "      <th>2021-11-15</th>\n",
       "      <td>69.320000</td>\n",
       "      <td>70.680000</td>\n",
       "      <td>68.139999</td>\n",
       "      <td>70.430000</td>\n",
       "      <td>11628200</td>\n",
       "      <td>0.0</td>\n",
       "      <td>0</td>\n",
       "    </tr>\n",
       "    <tr>\n",
       "      <th>2021-11-16</th>\n",
       "      <td>70.550003</td>\n",
       "      <td>72.139999</td>\n",
       "      <td>65.459999</td>\n",
       "      <td>66.139999</td>\n",
       "      <td>38243200</td>\n",
       "      <td>0.0</td>\n",
       "      <td>0</td>\n",
       "    </tr>\n",
       "    <tr>\n",
       "      <th>2021-11-17</th>\n",
       "      <td>65.529999</td>\n",
       "      <td>65.639999</td>\n",
       "      <td>63.500000</td>\n",
       "      <td>64.199997</td>\n",
       "      <td>28771200</td>\n",
       "      <td>0.0</td>\n",
       "      <td>0</td>\n",
       "    </tr>\n",
       "    <tr>\n",
       "      <th>2021-11-18</th>\n",
       "      <td>63.599998</td>\n",
       "      <td>64.050003</td>\n",
       "      <td>60.900002</td>\n",
       "      <td>62.669998</td>\n",
       "      <td>24241700</td>\n",
       "      <td>0.0</td>\n",
       "      <td>0</td>\n",
       "    </tr>\n",
       "    <tr>\n",
       "      <th>2021-11-19</th>\n",
       "      <td>63.750000</td>\n",
       "      <td>64.089996</td>\n",
       "      <td>62.169998</td>\n",
       "      <td>62.380001</td>\n",
       "      <td>14485100</td>\n",
       "      <td>0.0</td>\n",
       "      <td>0</td>\n",
       "    </tr>\n",
       "  </tbody>\n",
       "</table>\n",
       "<p>2517 rows × 7 columns</p>\n",
       "</div>"
      ],
      "text/plain": [
       "                 Open       High        Low      Close    Volume  Dividends  \\\n",
       "Date                                                                          \n",
       "2011-11-21  10.893195  10.975789  10.810601  10.902372  13803700        0.0   \n",
       "2011-11-22  10.893195  11.021674  10.645414  10.920726  18589200        0.0   \n",
       "2011-11-23  10.856487  11.012498  10.783071  10.783071  12543100        0.0   \n",
       "2011-11-25  10.728008  11.040029  10.728008  10.783071   5187800        0.0   \n",
       "2011-11-28  11.040027  11.177684  10.939080  11.159329  14166600        0.0   \n",
       "...               ...        ...        ...        ...       ...        ...   \n",
       "2021-11-15  69.320000  70.680000  68.139999  70.430000  11628200        0.0   \n",
       "2021-11-16  70.550003  72.139999  65.459999  66.139999  38243200        0.0   \n",
       "2021-11-17  65.529999  65.639999  63.500000  64.199997  28771200        0.0   \n",
       "2021-11-18  63.599998  64.050003  60.900002  62.669998  24241700        0.0   \n",
       "2021-11-19  63.750000  64.089996  62.169998  62.380001  14485100        0.0   \n",
       "\n",
       "            Stock Splits  \n",
       "Date                      \n",
       "2011-11-21             0  \n",
       "2011-11-22             0  \n",
       "2011-11-23             0  \n",
       "2011-11-25             0  \n",
       "2011-11-28             0  \n",
       "...                  ...  \n",
       "2021-11-15             0  \n",
       "2021-11-16             0  \n",
       "2021-11-17             0  \n",
       "2021-11-18             0  \n",
       "2021-11-19             0  \n",
       "\n",
       "[2517 rows x 7 columns]"
      ]
     },
     "execution_count": 12,
     "metadata": {},
     "output_type": "execute_result"
    }
   ],
   "source": [
    "data"
   ]
  },
  {
   "cell_type": "code",
   "execution_count": 29,
   "metadata": {},
   "outputs": [],
   "source": [
    "import pandas as pd\n",
    "from psaw import PushshiftAPI\n",
    "import praw \n",
    "import datetime \n",
    "\n",
    "class RedditPsawConnector:\n",
    "\n",
    "    def __init__(self, subreddit='Games'): \n",
    "        self.subreddit = subreddit\n",
    "        self.api = PushshiftAPI()\n",
    "\n",
    "    def search_comments(self, query, after, before, limit=1000):\n",
    "        # returned columns \n",
    "        filter = ['author', 'date', 'title', 'body', 'score']\n",
    "\n",
    "        #cConnect to api, and get data\n",
    "        comments = self.api.search_comments(\n",
    "            subreddit = self.subreddit,\n",
    "            filter=filter, q=query, limit=limit, \n",
    "            after=after, before=before\n",
    "        )\n",
    "        # Prepare dataframe\n",
    "        return pd.DataFrame([comment.d_ for comment in comments])\n",
    " "
   ]
  },
  {
   "cell_type": "code",
   "execution_count": 43,
   "metadata": {},
   "outputs": [
    {
     "name": "stderr",
     "output_type": "stream",
     "text": [
      "c:\\UW\\GAN-market-prediction\\venv\\lib\\site-packages\\psaw\\PushshiftAPI.py:252: UserWarning: Not all PushShift shards are active. Query results may be incomplete\n",
      "  warnings.warn(shards_down_message)\n",
      "c:\\UW\\GAN-market-prediction\\venv\\lib\\site-packages\\psaw\\PushshiftAPI.py:192: UserWarning: Got non 200 code 429\n",
      "  warnings.warn(\"Got non 200 code %s\" % response.status_code)\n",
      "c:\\UW\\GAN-market-prediction\\venv\\lib\\site-packages\\psaw\\PushshiftAPI.py:180: UserWarning: Unable to connect to pushshift.io. Retrying after backoff.\n",
      "  warnings.warn(\"Unable to connect to pushshift.io. Retrying after backoff.\")\n"
     ]
    }
   ],
   "source": [
    "reddit = RedditPsawConnector()\n",
    "before = int(datetime.datetime(2021, 9, 2).timestamp())\n",
    "after = int(datetime.datetime(2019, 9, 1).timestamp())\n",
    "query = 'GTA'\n",
    "data = reddit.search_comments(query, after=after, before=before, limit=1000000000)"
   ]
  },
  {
   "cell_type": "code",
   "execution_count": 44,
   "metadata": {},
   "outputs": [
    {
     "data": {
      "text/html": [
       "<div>\n",
       "<style scoped>\n",
       "    .dataframe tbody tr th:only-of-type {\n",
       "        vertical-align: middle;\n",
       "    }\n",
       "\n",
       "    .dataframe tbody tr th {\n",
       "        vertical-align: top;\n",
       "    }\n",
       "\n",
       "    .dataframe thead th {\n",
       "        text-align: right;\n",
       "    }\n",
       "</style>\n",
       "<table border=\"1\" class=\"dataframe\">\n",
       "  <thead>\n",
       "    <tr style=\"text-align: right;\">\n",
       "      <th></th>\n",
       "      <th>author</th>\n",
       "      <th>body</th>\n",
       "      <th>created_utc</th>\n",
       "      <th>score</th>\n",
       "      <th>created</th>\n",
       "    </tr>\n",
       "  </thead>\n",
       "  <tbody>\n",
       "    <tr>\n",
       "      <th>0</th>\n",
       "      <td>riderforlyfe</td>\n",
       "      <td>It was but it would never compete with the kin...</td>\n",
       "      <td>1630530587</td>\n",
       "      <td>10</td>\n",
       "      <td>1.630527e+09</td>\n",
       "    </tr>\n",
       "    <tr>\n",
       "      <th>1</th>\n",
       "      <td>andresfgp13</td>\n",
       "      <td>i mean, game of thrones did well their entire ...</td>\n",
       "      <td>1630528408</td>\n",
       "      <td>6</td>\n",
       "      <td>1.630525e+09</td>\n",
       "    </tr>\n",
       "    <tr>\n",
       "      <th>2</th>\n",
       "      <td>enderandrew42</td>\n",
       "      <td>SWTOR had something like 7-8 years of developm...</td>\n",
       "      <td>1630528164</td>\n",
       "      <td>-1</td>\n",
       "      <td>1.630525e+09</td>\n",
       "    </tr>\n",
       "    <tr>\n",
       "      <th>3</th>\n",
       "      <td>enderandrew42</td>\n",
       "      <td>&amp;gt; By bankrolling this never-ending feature ...</td>\n",
       "      <td>1630526713</td>\n",
       "      <td>1</td>\n",
       "      <td>1.630523e+09</td>\n",
       "    </tr>\n",
       "    <tr>\n",
       "      <th>4</th>\n",
       "      <td>spiderpuzzle</td>\n",
       "      <td>I beat Cyberpunk, I think, two weeks after lau...</td>\n",
       "      <td>1630524339</td>\n",
       "      <td>61</td>\n",
       "      <td>1.630521e+09</td>\n",
       "    </tr>\n",
       "    <tr>\n",
       "      <th>...</th>\n",
       "      <td>...</td>\n",
       "      <td>...</td>\n",
       "      <td>...</td>\n",
       "      <td>...</td>\n",
       "      <td>...</td>\n",
       "    </tr>\n",
       "    <tr>\n",
       "      <th>18716</th>\n",
       "      <td>HearTheEkko</td>\n",
       "      <td>I actually think the opposite. Loved the gamep...</td>\n",
       "      <td>1567291268</td>\n",
       "      <td>1</td>\n",
       "      <td>1.567288e+09</td>\n",
       "    </tr>\n",
       "    <tr>\n",
       "      <th>18717</th>\n",
       "      <td>RedRoseRing</td>\n",
       "      <td>I didn't like the campaign for either rdr1 or ...</td>\n",
       "      <td>1567290393</td>\n",
       "      <td>1</td>\n",
       "      <td>1.567287e+09</td>\n",
       "    </tr>\n",
       "    <tr>\n",
       "      <th>18718</th>\n",
       "      <td>Ghidoran</td>\n",
       "      <td>Sounds to me like you just described GTA V. Th...</td>\n",
       "      <td>1567290236</td>\n",
       "      <td>1</td>\n",
       "      <td>1.567287e+09</td>\n",
       "    </tr>\n",
       "    <tr>\n",
       "      <th>18719</th>\n",
       "      <td>Mista_Wong</td>\n",
       "      <td>Yeah, I never finished the first game but I re...</td>\n",
       "      <td>1567289777</td>\n",
       "      <td>1</td>\n",
       "      <td>1.567286e+09</td>\n",
       "    </tr>\n",
       "    <tr>\n",
       "      <th>18720</th>\n",
       "      <td>Shosray</td>\n",
       "      <td>No proof, but this guy has a reputation for le...</td>\n",
       "      <td>1567289024</td>\n",
       "      <td>1</td>\n",
       "      <td>1.567285e+09</td>\n",
       "    </tr>\n",
       "  </tbody>\n",
       "</table>\n",
       "<p>18721 rows × 5 columns</p>\n",
       "</div>"
      ],
      "text/plain": [
       "              author                                               body  \\\n",
       "0       riderforlyfe  It was but it would never compete with the kin...   \n",
       "1        andresfgp13  i mean, game of thrones did well their entire ...   \n",
       "2      enderandrew42  SWTOR had something like 7-8 years of developm...   \n",
       "3      enderandrew42  &gt; By bankrolling this never-ending feature ...   \n",
       "4       spiderpuzzle  I beat Cyberpunk, I think, two weeks after lau...   \n",
       "...              ...                                                ...   \n",
       "18716    HearTheEkko  I actually think the opposite. Loved the gamep...   \n",
       "18717    RedRoseRing  I didn't like the campaign for either rdr1 or ...   \n",
       "18718       Ghidoran  Sounds to me like you just described GTA V. Th...   \n",
       "18719     Mista_Wong  Yeah, I never finished the first game but I re...   \n",
       "18720        Shosray  No proof, but this guy has a reputation for le...   \n",
       "\n",
       "       created_utc  score       created  \n",
       "0       1630530587     10  1.630527e+09  \n",
       "1       1630528408      6  1.630525e+09  \n",
       "2       1630528164     -1  1.630525e+09  \n",
       "3       1630526713      1  1.630523e+09  \n",
       "4       1630524339     61  1.630521e+09  \n",
       "...            ...    ...           ...  \n",
       "18716   1567291268      1  1.567288e+09  \n",
       "18717   1567290393      1  1.567287e+09  \n",
       "18718   1567290236      1  1.567287e+09  \n",
       "18719   1567289777      1  1.567286e+09  \n",
       "18720   1567289024      1  1.567285e+09  \n",
       "\n",
       "[18721 rows x 5 columns]"
      ]
     },
     "execution_count": 44,
     "metadata": {},
     "output_type": "execute_result"
    }
   ],
   "source": [
    "data"
   ]
  },
  {
   "cell_type": "code",
   "execution_count": null,
   "metadata": {},
   "outputs": [],
   "source": []
  }
 ],
 "metadata": {
  "interpreter": {
   "hash": "6dc7b14907cc4300682ab83f538e5d42d9fe3327511f5f8c9162485c00950949"
  },
  "kernelspec": {
   "display_name": "Python 3.9.5 64-bit ('venv': venv)",
   "name": "python3"
  },
  "language_info": {
   "codemirror_mode": {
    "name": "ipython",
    "version": 3
   },
   "file_extension": ".py",
   "mimetype": "text/x-python",
   "name": "python",
   "nbconvert_exporter": "python",
   "pygments_lexer": "ipython3",
   "version": "3.9.5"
  },
  "orig_nbformat": 4
 },
 "nbformat": 4,
 "nbformat_minor": 2
}
