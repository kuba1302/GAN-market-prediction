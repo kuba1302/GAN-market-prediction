{
 "cells": [
  {
   "cell_type": "code",
   "execution_count": 4,
   "metadata": {},
   "outputs": [
    {
     "name": "stdout",
     "output_type": "stream",
     "text": [
      "The autoreload extension is already loaded. To reload it, use:\n",
      "  %reload_ext autoreload\n"
     ]
    }
   ],
   "source": [
    "%load_ext autoreload\n",
    "%autoreload 2\n",
    "\n",
    "from utils.connectors.sql_connector import SqlConnector\n",
    "from utils.connectors.polygon_connector import PolygonConnector\n",
    "from utils.connectors.reddit_connector import RedditPsawConnector\n",
    "import os \n",
    "import pandas as pd\n",
    "import json\n",
    "\n",
    "API_KEY = 'uAbu9bSmDF6XkqOuBawYuvdBspoueBys'\n"
   ]
  },
  {
   "cell_type": "code",
   "execution_count": 47,
   "metadata": {},
   "outputs": [],
   "source": [
    "connector = SqlConnector('model_data')"
   ]
  },
  {
   "cell_type": "code",
   "execution_count": 16,
   "metadata": {},
   "outputs": [],
   "source": [
    "polygon = PolygonConnector(API_KEY)"
   ]
  },
  {
   "cell_type": "code",
   "execution_count": 17,
   "metadata": {},
   "outputs": [
    {
     "name": "stdout",
     "output_type": "stream",
     "text": [
      "https://api.polygon.io/v1/open-close/ATVI/2021-11-02?adjusted=true&apiKey=uAbu9bSmDF6XkqOuBawYuvdBspoueBys\n"
     ]
    }
   ],
   "source": [
    "data = polygon.get_one_day_data('ATVI', '2021-11-02')"
   ]
  },
  {
   "cell_type": "code",
   "execution_count": 64,
   "metadata": {},
   "outputs": [],
   "source": [
    "connector.cursor.execute(\"\"\"CREATE TABLE companies (\n",
    "    company_id serial PRIMARY KEY, \n",
    "    company_name VARCHAR(50),\n",
    "    company_tickers VARCHAR(50)\n",
    ");\"\"\")"
   ]
  },
  {
   "cell_type": "code",
   "execution_count": 34,
   "metadata": {},
   "outputs": [
    {
     "ename": "SyntaxError",
     "evalue": "invalid syntax (Temp/ipykernel_27292/4065386783.py, line 1)",
     "output_type": "error",
     "traceback": [
      "\u001b[1;36m  File \u001b[1;32m\"C:\\Users\\kuba1\\AppData\\Local\\Temp/ipykernel_27292/4065386783.py\"\u001b[1;36m, line \u001b[1;32m1\u001b[0m\n\u001b[1;33m    id SERIAL PRIMARY KEY,\u001b[0m\n\u001b[1;37m       ^\u001b[0m\n\u001b[1;31mSyntaxError\u001b[0m\u001b[1;31m:\u001b[0m invalid syntax\n"
     ]
    }
   ],
   "source": [
    "id SERIAL PRIMARY KEY, \n",
    "ticker VARCHAR(6), \n",
    "open NUMERIC(7, 4)\n",
    "high NUMERIC(7, 4)\n",
    "low NUMERIC(7, 4)\n",
    "close NUMERIC(7, 4)\n",
    "volume NUMERIC(12, 1)\n",
    "afterHours NUMERIC(7, 4)\n",
    "preMarket NUMERIC(7, 4)\n"
   ]
  },
  {
   "cell_type": "code",
   "execution_count": 36,
   "metadata": {},
   "outputs": [
    {
     "ename": "SyntaxError",
     "evalue": "invalid syntax (Temp/ipykernel_27292/2930515671.py, line 1)",
     "output_type": "error",
     "traceback": [
      "\u001b[1;36m  File \u001b[1;32m\"C:\\Users\\kuba1\\AppData\\Local\\Temp/ipykernel_27292/2930515671.py\"\u001b[1;36m, line \u001b[1;32m1\u001b[0m\n\u001b[1;33m    CREATE TABLE companies (\u001b[0m\n\u001b[1;37m           ^\u001b[0m\n\u001b[1;31mSyntaxError\u001b[0m\u001b[1;31m:\u001b[0m invalid syntax\n"
     ]
    }
   ],
   "source": [
    "CREATE TABLE companies (\n",
    "    company_id serial PRIMARY KEY, \n",
    "    company_name VARCHAT(50),\n",
    "    company_tickers,\n",
    "); "
   ]
  },
  {
   "cell_type": "code",
   "execution_count": null,
   "metadata": {},
   "outputs": [],
   "source": [
    "INSERT INTO companies(company_name, company_tickers)\n",
    "VALUES ()"
   ]
  },
  {
   "cell_type": "code",
   "execution_count": 38,
   "metadata": {},
   "outputs": [],
   "source": [
    "with open('data/stocksTickers.json') as file:\n",
    "    data = json.loads(file.read())"
   ]
  },
  {
   "cell_type": "code",
   "execution_count": 74,
   "metadata": {},
   "outputs": [],
   "source": [
    "connector = SqlConnector('model_data')"
   ]
  },
  {
   "cell_type": "code",
   "execution_count": 56,
   "metadata": {},
   "outputs": [
    {
     "name": "stdout",
     "output_type": "stream",
     "text": [
      "\n",
      "    INSERT INTO companies(company_name, company_tickers)\n",
      "    VALUES (ATVI, BLIZZARD);\n",
      "    \n"
     ]
    },
    {
     "ename": "UndefinedTable",
     "evalue": "relation \"companies\" does not exist\nLINE 2:     INSERT INTO companies(company_name, company_tickers)\n                        ^\n",
     "output_type": "error",
     "traceback": [
      "\u001b[1;31m---------------------------------------------------------------------------\u001b[0m",
      "\u001b[1;31mUndefinedTable\u001b[0m                            Traceback (most recent call last)",
      "\u001b[1;32m~\\AppData\\Local\\Temp/ipykernel_27292/1182434354.py\u001b[0m in \u001b[0;36m<module>\u001b[1;34m\u001b[0m\n\u001b[0;32m      6\u001b[0m     \"\"\"\n\u001b[0;32m      7\u001b[0m     \u001b[0mprint\u001b[0m\u001b[1;33m(\u001b[0m\u001b[0mquery\u001b[0m\u001b[1;33m)\u001b[0m\u001b[1;33m\u001b[0m\u001b[1;33m\u001b[0m\u001b[0m\n\u001b[1;32m----> 8\u001b[1;33m     \u001b[0mconnector\u001b[0m\u001b[1;33m.\u001b[0m\u001b[0mcursor\u001b[0m\u001b[1;33m.\u001b[0m\u001b[0mexecute\u001b[0m\u001b[1;33m(\u001b[0m\u001b[0mquery\u001b[0m\u001b[1;33m)\u001b[0m\u001b[1;33m\u001b[0m\u001b[1;33m\u001b[0m\u001b[0m\n\u001b[0m",
      "\u001b[1;31mUndefinedTable\u001b[0m: relation \"companies\" does not exist\nLINE 2:     INSERT INTO companies(company_name, company_tickers)\n                        ^\n"
     ]
    }
   ],
   "source": [
    "query_part = ''\n",
    "for ticker, company in data.items():\n",
    "    query = f\"\"\"\n",
    "    INSERT INTO companies(company_name, company_tickers)\n",
    "    VALUES ({ticker}, {company});\n",
    "    \"\"\"\n",
    "    print(query)\n",
    "    connector.cursor.execute(query)"
   ]
  },
  {
   "cell_type": "code",
   "execution_count": 75,
   "metadata": {},
   "outputs": [],
   "source": [
    "connector.cursor.execute(\"\"\"\n",
    "SELECT table_name\n",
    "FROM information_schema.tables\n",
    "WHERE table_schema = 'public'\n",
    "ORDER BY table_name;\n",
    "\"\"\")"
   ]
  },
  {
   "cell_type": "code",
   "execution_count": 76,
   "metadata": {},
   "outputs": [
    {
     "data": {
      "text/plain": [
       "[]"
      ]
     },
     "execution_count": 76,
     "metadata": {},
     "output_type": "execute_result"
    }
   ],
   "source": [
    "connector.cursor.fetchall()"
   ]
  },
  {
   "cell_type": "code",
   "execution_count": 70,
   "metadata": {},
   "outputs": [
    {
     "data": {
      "text/plain": [
       "[]"
      ]
     },
     "execution_count": 70,
     "metadata": {},
     "output_type": "execute_result"
    }
   ],
   "source": [
    "connector.cursor.execute(\"SELECT * FROM companies\")\n",
    "connector.cursor.fetchall()"
   ]
  },
  {
   "cell_type": "code",
   "execution_count": 73,
   "metadata": {},
   "outputs": [
    {
     "ename": "UndefinedColumn",
     "evalue": "column \"atvi\" does not exist\nLINE 1: ... companies(company_name, company_tickers) VALUES (ATVI, BLIZ...\n                                                             ^\n",
     "output_type": "error",
     "traceback": [
      "\u001b[1;31m---------------------------------------------------------------------------\u001b[0m",
      "\u001b[1;31mUndefinedColumn\u001b[0m                           Traceback (most recent call last)",
      "\u001b[1;32m~\\AppData\\Local\\Temp/ipykernel_27292/4160723343.py\u001b[0m in \u001b[0;36m<module>\u001b[1;34m\u001b[0m\n\u001b[1;32m----> 1\u001b[1;33m \u001b[0mconnector\u001b[0m\u001b[1;33m.\u001b[0m\u001b[0mcursor\u001b[0m\u001b[1;33m.\u001b[0m\u001b[0mexecute\u001b[0m\u001b[1;33m(\u001b[0m\u001b[1;34m\"INSERT INTO companies(company_name, company_tickers) VALUES (ATVI, BLIZZARD);\"\u001b[0m\u001b[1;33m)\u001b[0m\u001b[1;33m\u001b[0m\u001b[1;33m\u001b[0m\u001b[0m\n\u001b[0m",
      "\u001b[1;31mUndefinedColumn\u001b[0m: column \"atvi\" does not exist\nLINE 1: ... companies(company_name, company_tickers) VALUES (ATVI, BLIZ...\n                                                             ^\n"
     ]
    }
   ],
   "source": [
    "connector.cursor.execute(\"INSERT INTO companies(company_name, company_tickers) VALUES (ATVI, BLIZZARD);\")"
   ]
  },
  {
   "cell_type": "code",
   "execution_count": 2,
   "metadata": {},
   "outputs": [
    {
     "name": "stderr",
     "output_type": "stream",
     "text": [
      "c:\\UW\\GAN-market-prediction\\venv\\lib\\site-packages\\psaw\\PushshiftAPI.py:252: UserWarning: Not all PushShift shards are active. Query results may be incomplete\n",
      "  warnings.warn(shards_down_message)\n"
     ]
    }
   ],
   "source": [
    "reddit = RedditApiConnector()\n",
    "df = reddit.search_comments('Ubisoft')"
   ]
  },
  {
   "cell_type": "code",
   "execution_count": 3,
   "metadata": {},
   "outputs": [
    {
     "data": {
      "text/html": [
       "<div>\n",
       "<style scoped>\n",
       "    .dataframe tbody tr th:only-of-type {\n",
       "        vertical-align: middle;\n",
       "    }\n",
       "\n",
       "    .dataframe tbody tr th {\n",
       "        vertical-align: top;\n",
       "    }\n",
       "\n",
       "    .dataframe thead th {\n",
       "        text-align: right;\n",
       "    }\n",
       "</style>\n",
       "<table border=\"1\" class=\"dataframe\">\n",
       "  <thead>\n",
       "    <tr style=\"text-align: right;\">\n",
       "      <th></th>\n",
       "      <th>author</th>\n",
       "      <th>body</th>\n",
       "      <th>created_utc</th>\n",
       "      <th>score</th>\n",
       "      <th>created</th>\n",
       "    </tr>\n",
       "  </thead>\n",
       "  <tbody>\n",
       "    <tr>\n",
       "      <th>0</th>\n",
       "      <td>politecreeper</td>\n",
       "      <td>Ubisoft is really bad for pushing their Uplay ...</td>\n",
       "      <td>1636801770</td>\n",
       "      <td>1</td>\n",
       "      <td>1.636798e+09</td>\n",
       "    </tr>\n",
       "    <tr>\n",
       "      <th>1</th>\n",
       "      <td>f-ingsteveglansberg</td>\n",
       "      <td>Nah, the problem is that after years of policy...</td>\n",
       "      <td>1636800834</td>\n",
       "      <td>1</td>\n",
       "      <td>1.636797e+09</td>\n",
       "    </tr>\n",
       "    <tr>\n",
       "      <th>2</th>\n",
       "      <td>TrickBox_</td>\n",
       "      <td>AFAIK leads have it good at Ubisoft</td>\n",
       "      <td>1636799946</td>\n",
       "      <td>1</td>\n",
       "      <td>1.636796e+09</td>\n",
       "    </tr>\n",
       "    <tr>\n",
       "      <th>3</th>\n",
       "      <td>JKCodeComplete</td>\n",
       "      <td>Ubisoft has that, too. Their series tend to ha...</td>\n",
       "      <td>1636792459</td>\n",
       "      <td>1</td>\n",
       "      <td>1.636789e+09</td>\n",
       "    </tr>\n",
       "    <tr>\n",
       "      <th>4</th>\n",
       "      <td>randloadable19</td>\n",
       "      <td>I mean, Ubisoft does it practically every year...</td>\n",
       "      <td>1636791371</td>\n",
       "      <td>1</td>\n",
       "      <td>1.636788e+09</td>\n",
       "    </tr>\n",
       "    <tr>\n",
       "      <th>...</th>\n",
       "      <td>...</td>\n",
       "      <td>...</td>\n",
       "      <td>...</td>\n",
       "      <td>...</td>\n",
       "      <td>...</td>\n",
       "    </tr>\n",
       "    <tr>\n",
       "      <th>995</th>\n",
       "      <td>mr_fucknoodle</td>\n",
       "      <td>How much of those who answered \"It depends\" ar...</td>\n",
       "      <td>1634046927</td>\n",
       "      <td>1</td>\n",
       "      <td>1.634043e+09</td>\n",
       "    </tr>\n",
       "    <tr>\n",
       "      <th>996</th>\n",
       "      <td>Mr_WeeWoo</td>\n",
       "      <td>Furthermore I'm pretty sure there's an agreeme...</td>\n",
       "      <td>1634034859</td>\n",
       "      <td>4</td>\n",
       "      <td>1.634031e+09</td>\n",
       "    </tr>\n",
       "    <tr>\n",
       "      <th>997</th>\n",
       "      <td>roneg</td>\n",
       "      <td>problem is that they are not looking to match ...</td>\n",
       "      <td>1634025046</td>\n",
       "      <td>3</td>\n",
       "      <td>1.634021e+09</td>\n",
       "    </tr>\n",
       "    <tr>\n",
       "      <th>998</th>\n",
       "      <td>x33storm</td>\n",
       "      <td>.. EA/DICE, Ubisoft, Rockstar, etc..\\n\\nIt's a...</td>\n",
       "      <td>1634017101</td>\n",
       "      <td>0</td>\n",
       "      <td>1.634014e+09</td>\n",
       "    </tr>\n",
       "    <tr>\n",
       "      <th>999</th>\n",
       "      <td>TroubledPCNoob</td>\n",
       "      <td>I mean, honestly, I don't really like where th...</td>\n",
       "      <td>1634007962</td>\n",
       "      <td>1</td>\n",
       "      <td>1.634004e+09</td>\n",
       "    </tr>\n",
       "  </tbody>\n",
       "</table>\n",
       "<p>1000 rows × 5 columns</p>\n",
       "</div>"
      ],
      "text/plain": [
       "                  author  ...       created\n",
       "0          politecreeper  ...  1.636798e+09\n",
       "1    f-ingsteveglansberg  ...  1.636797e+09\n",
       "2              TrickBox_  ...  1.636796e+09\n",
       "3         JKCodeComplete  ...  1.636789e+09\n",
       "4         randloadable19  ...  1.636788e+09\n",
       "..                   ...  ...           ...\n",
       "995        mr_fucknoodle  ...  1.634043e+09\n",
       "996            Mr_WeeWoo  ...  1.634031e+09\n",
       "997                roneg  ...  1.634021e+09\n",
       "998             x33storm  ...  1.634014e+09\n",
       "999       TroubledPCNoob  ...  1.634004e+09\n",
       "\n",
       "[1000 rows x 5 columns]"
      ]
     },
     "execution_count": 3,
     "metadata": {},
     "output_type": "execute_result"
    }
   ],
   "source": [
    "df"
   ]
  },
  {
   "cell_type": "code",
   "execution_count": null,
   "metadata": {},
   "outputs": [],
   "source": []
  }
 ],
 "metadata": {
  "interpreter": {
   "hash": "6dc7b14907cc4300682ab83f538e5d42d9fe3327511f5f8c9162485c00950949"
  },
  "kernelspec": {
   "display_name": "Python 3.9.5 64-bit ('venv': venv)",
   "name": "python3"
  },
  "language_info": {
   "codemirror_mode": {
    "name": "ipython",
    "version": 3
   },
   "file_extension": ".py",
   "mimetype": "text/x-python",
   "name": "python",
   "nbconvert_exporter": "python",
   "pygments_lexer": "ipython3",
   "version": "3.9.5"
  },
  "orig_nbformat": 4
 },
 "nbformat": 4,
 "nbformat_minor": 2
}
