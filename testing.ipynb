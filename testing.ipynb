{
 "cells": [
  {
   "cell_type": "code",
   "execution_count": 15,
   "metadata": {},
   "outputs": [
    {
     "name": "stdout",
     "output_type": "stream",
     "text": [
      "The autoreload extension is already loaded. To reload it, use:\n",
      "  %reload_ext autoreload\n"
     ]
    }
   ],
   "source": [
    "%load_ext autoreload\n",
    "%autoreload 2\n",
    "\n",
    "from utils.connectors.sql_connector import SqlConnector\n",
    "from utils.connectors.polygon_connector import PolygonConnector\n",
    "import os \n",
    "import pandas as pd\n",
    "\n",
    "API_KEY = 'uAbu9bSmDF6XkqOuBawYuvdBspoueBys'\n"
   ]
  },
  {
   "cell_type": "code",
   "execution_count": 13,
   "metadata": {},
   "outputs": [],
   "source": [
    "connector = SqlConnector('model_data')"
   ]
  },
  {
   "cell_type": "code",
   "execution_count": 16,
   "metadata": {},
   "outputs": [],
   "source": [
    "polygon = PolygonConnector(API_KEY)"
   ]
  },
  {
   "cell_type": "code",
   "execution_count": 17,
   "metadata": {},
   "outputs": [
    {
     "name": "stdout",
     "output_type": "stream",
     "text": [
      "https://api.polygon.io/v1/open-close/ATVI/2021-11-02?adjusted=true&apiKey=uAbu9bSmDF6XkqOuBawYuvdBspoueBys\n"
     ]
    }
   ],
   "source": [
    "data = polygon.get_one_day_data('ATVI', '2021-11-02')"
   ]
  },
  {
   "cell_type": "code",
   "execution_count": 18,
   "metadata": {},
   "outputs": [
    {
     "data": {
      "text/plain": [
       "{'status': 'OK',\n",
       " 'from': '2021-11-02',\n",
       " 'symbol': 'ATVI',\n",
       " 'open': 79.29,\n",
       " 'high': 79.37,\n",
       " 'low': 77.035,\n",
       " 'close': 77.67,\n",
       " 'volume': 10370411,\n",
       " 'afterHours': 69.2,\n",
       " 'preMarket': 79.45}"
      ]
     },
     "execution_count": 18,
     "metadata": {},
     "output_type": "execute_result"
    }
   ],
   "source": [
    "data"
   ]
  },
  {
   "cell_type": "code",
   "execution_count": null,
   "metadata": {},
   "outputs": [],
   "source": [
    "id SERIAL PRIMARY KEY, \n",
    "ticker VARCHAR(6), \n",
    "open NUMERIC()"
   ]
  }
 ],
 "metadata": {
  "interpreter": {
   "hash": "6dc7b14907cc4300682ab83f538e5d42d9fe3327511f5f8c9162485c00950949"
  },
  "kernelspec": {
   "display_name": "Python 3.9.5 64-bit ('venv': venv)",
   "name": "python3"
  },
  "language_info": {
   "codemirror_mode": {
    "name": "ipython",
    "version": 3
   },
   "file_extension": ".py",
   "mimetype": "text/x-python",
   "name": "python",
   "nbconvert_exporter": "python",
   "pygments_lexer": "ipython3",
   "version": "3.9.5"
  },
  "orig_nbformat": 4
 },
 "nbformat": 4,
 "nbformat_minor": 2
}
