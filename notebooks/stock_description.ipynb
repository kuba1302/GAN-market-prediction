{
 "cells": [
  {
   "cell_type": "code",
   "execution_count": 16,
   "metadata": {},
   "outputs": [],
   "source": [
    "import pandas as pd \n",
    "from pathlib import Path\n",
    "import os\n",
    "import numpy as np"
   ]
  },
  {
   "cell_type": "code",
   "execution_count": 2,
   "metadata": {},
   "outputs": [
    {
     "name": "stdout",
     "output_type": "stream",
     "text": [
      "c:\\Gan\\GAN-market-prediction\n"
     ]
    }
   ],
   "source": [
    "cd .."
   ]
  },
  {
   "cell_type": "code",
   "execution_count": 3,
   "metadata": {},
   "outputs": [],
   "source": [
    "stock_path = Path(os.path.abspath(\"\")) / \"data\" / \"stock_data\"\n",
    "save_path = Path(os.path.abspath(\"\")) / \"paper\"\n",
    "tickers = [\"EA\", \"UBSFY\", \"TTWO\", \"ATVI\"]"
   ]
  },
  {
   "cell_type": "code",
   "execution_count": 42,
   "metadata": {},
   "outputs": [
    {
     "name": "stderr",
     "output_type": "stream",
     "text": [
      "C:\\Users\\kuba1\\AppData\\Local\\Temp\\ipykernel_10816\\748348373.py:5: FutureWarning: The frame.append method is deprecated and will be removed from pandas in a future version. Use pandas.concat instead.\n",
      "  df = df.append(tmp)\n",
      "C:\\Users\\kuba1\\AppData\\Local\\Temp\\ipykernel_10816\\748348373.py:5: FutureWarning: The frame.append method is deprecated and will be removed from pandas in a future version. Use pandas.concat instead.\n",
      "  df = df.append(tmp)\n",
      "C:\\Users\\kuba1\\AppData\\Local\\Temp\\ipykernel_10816\\748348373.py:5: FutureWarning: The frame.append method is deprecated and will be removed from pandas in a future version. Use pandas.concat instead.\n",
      "  df = df.append(tmp)\n",
      "C:\\Users\\kuba1\\AppData\\Local\\Temp\\ipykernel_10816\\748348373.py:5: FutureWarning: The frame.append method is deprecated and will be removed from pandas in a future version. Use pandas.concat instead.\n",
      "  df = df.append(tmp)\n"
     ]
    }
   ],
   "source": [
    "df = pd.DataFrame()\n",
    "for ticker in tickers:\n",
    "    tmp = pd.read_csv(stock_path / f\"{ticker}.csv\").tail(178)\n",
    "    tmp[\"Company\"] = ticker\n",
    "    df = df.append(tmp)"
   ]
  },
  {
   "cell_type": "code",
   "execution_count": 52,
   "metadata": {},
   "outputs": [
    {
     "data": {
      "text/plain": [
       "Company\n",
       "ATVI      83.648342\n",
       "EA       139.189536\n",
       "TTWO     170.877192\n",
       "UBSFY     12.836576\n",
       "Name: Close, dtype: float64"
      ]
     },
     "execution_count": 52,
     "metadata": {},
     "output_type": "execute_result"
    }
   ],
   "source": [
    "df.groupby(by=\"Company\")['Close'].mean()"
   ]
  },
  {
   "cell_type": "code",
   "execution_count": null,
   "metadata": {},
   "outputs": [],
   "source": []
  },
  {
   "cell_type": "code",
   "execution_count": 44,
   "metadata": {},
   "outputs": [
    {
     "name": "stderr",
     "output_type": "stream",
     "text": [
      "C:\\Users\\kuba1\\AppData\\Local\\Temp\\ipykernel_10816\\838483005.py:3: FutureWarning: In future versions `DataFrame.to_latex` is expected to utilise the base implementation of `Styler.to_latex` for formatting and rendering. The arguments signature may therefore change. It is recommended instead to use `DataFrame.style.to_latex` which also contains additional functionality.\n",
      "  df.loc[\n"
     ]
    }
   ],
   "source": [
    "with open(save_path / \"desc_stock.tex\", \"w\") as f:\n",
    "    f.write(\n",
    "        df.loc[\n",
    "            :, [col for col in df.columns if col not in [\"Dividends\", \"Stock Splits\"]]\n",
    "        ]\n",
    "        .groupby(by=\"Company\")\n",
    "        .describe()\n",
    "        .T.to_latex(caption=\"Descriptive statistics for chosen companies\")\n",
    "    )\n"
   ]
  },
  {
   "cell_type": "markdown",
   "metadata": {},
   "source": []
  },
  {
   "cell_type": "code",
   "execution_count": 50,
   "metadata": {},
   "outputs": [],
   "source": [
    "results_dict = {\n",
    "    \"ATVI\": [1.3585, 1.8867],\n",
    "    \"EA\": [1.3427, 1.8956], \n",
    "    \"TTWO\": [3.5405, 4.5069],\n",
    "    \"UBSFY\": [0.2578, 0.3376]\n",
    "}"
   ]
  },
  {
   "cell_type": "code",
   "execution_count": 53,
   "metadata": {},
   "outputs": [
    {
     "name": "stderr",
     "output_type": "stream",
     "text": [
      "C:\\Users\\kuba1\\AppData\\Local\\Temp\\ipykernel_10816\\1653263745.py:3: FutureWarning: The frame.append method is deprecated and will be removed from pandas in a future version. Use pandas.concat instead.\n",
      "  pd.DataFrame(results_dict)\n",
      "C:\\Users\\kuba1\\AppData\\Local\\Temp\\ipykernel_10816\\1653263745.py:3: FutureWarning: In future versions `DataFrame.to_latex` is expected to utilise the base implementation of `Styler.to_latex` for formatting and rendering. The arguments signature may therefore change. It is recommended instead to use `DataFrame.style.to_latex` which also contains additional functionality.\n",
      "  pd.DataFrame(results_dict)\n"
     ]
    }
   ],
   "source": [
    "with open(save_path / \"metrics_err.tex\", \"w\") as f:\n",
    "    f.write(\n",
    "        pd.DataFrame(results_dict)\n",
    "        .append(df.groupby(by=\"Company\")[\"Close\"].mean())\n",
    "        .rename(index={0: \"MAE\", 1: \"RMSE\", \"Close\": \"Close Price Mean\"})\n",
    "        .to_latex(caption=\"Error metrics for chosen companies\")\n",
    "    )\n"
   ]
  },
  {
   "cell_type": "code",
   "execution_count": 47,
   "metadata": {},
   "outputs": [
    {
     "name": "stderr",
     "output_type": "stream",
     "text": [
      "C:\\Users\\kuba1\\AppData\\Local\\Temp\\ipykernel_10816\\3186659599.py:1: FutureWarning: The frame.append method is deprecated and will be removed from pandas in a future version. Use pandas.concat instead.\n",
      "  errs = pd.DataFrame(results_dict).append(df.groupby(by=\"Company\")['Close'].mean()).rename(index={0: \"MAE\", 1:\"RMSE\", \"Close\": \"Close Price Mean\"})\n"
     ]
    }
   ],
   "source": [
    "errs = pd.DataFrame(results_dict).append(df.groupby(by=\"Company\")['Close'].mean()).rename(index={0: \"MAE\", 1:\"RMSE\", \"Close\": \"Close Price Mean\"})"
   ]
  },
  {
   "cell_type": "code",
   "execution_count": 54,
   "metadata": {},
   "outputs": [
    {
     "data": {
      "text/html": [
       "<div>\n",
       "<style scoped>\n",
       "    .dataframe tbody tr th:only-of-type {\n",
       "        vertical-align: middle;\n",
       "    }\n",
       "\n",
       "    .dataframe tbody tr th {\n",
       "        vertical-align: top;\n",
       "    }\n",
       "\n",
       "    .dataframe thead th {\n",
       "        text-align: right;\n",
       "    }\n",
       "</style>\n",
       "<table border=\"1\" class=\"dataframe\">\n",
       "  <thead>\n",
       "    <tr style=\"text-align: right;\">\n",
       "      <th></th>\n",
       "      <th>MAE</th>\n",
       "      <th>RMSE</th>\n",
       "      <th>Close Price Mean</th>\n",
       "    </tr>\n",
       "  </thead>\n",
       "  <tbody>\n",
       "    <tr>\n",
       "      <th>ATVI</th>\n",
       "      <td>1.3585</td>\n",
       "      <td>1.8867</td>\n",
       "      <td>83.648342</td>\n",
       "    </tr>\n",
       "    <tr>\n",
       "      <th>EA</th>\n",
       "      <td>1.3427</td>\n",
       "      <td>1.8956</td>\n",
       "      <td>139.189536</td>\n",
       "    </tr>\n",
       "    <tr>\n",
       "      <th>TTWO</th>\n",
       "      <td>3.5405</td>\n",
       "      <td>4.5069</td>\n",
       "      <td>170.877192</td>\n",
       "    </tr>\n",
       "    <tr>\n",
       "      <th>UBSFY</th>\n",
       "      <td>0.2578</td>\n",
       "      <td>0.3376</td>\n",
       "      <td>12.836576</td>\n",
       "    </tr>\n",
       "  </tbody>\n",
       "</table>\n",
       "</div>"
      ],
      "text/plain": [
       "          MAE    RMSE  Close Price Mean\n",
       "ATVI   1.3585  1.8867         83.648342\n",
       "EA     1.3427  1.8956        139.189536\n",
       "TTWO   3.5405  4.5069        170.877192\n",
       "UBSFY  0.2578  0.3376         12.836576"
      ]
     },
     "execution_count": 54,
     "metadata": {},
     "output_type": "execute_result"
    }
   ],
   "source": [
    "errs.T"
   ]
  },
  {
   "cell_type": "code",
   "execution_count": 49,
   "metadata": {},
   "outputs": [
    {
     "data": {
      "text/plain": [
       "ATVI     1.624061\n",
       "EA       0.964656\n",
       "TTWO     2.071956\n",
       "UBSFY    2.008324\n",
       "dtype: float64"
      ]
     },
     "execution_count": 49,
     "metadata": {},
     "output_type": "execute_result"
    }
   ],
   "source": [
    "(errs.T['MAE'] / errs.T['Close Price Mean']) * 100"
   ]
  },
  {
   "cell_type": "code",
   "execution_count": 21,
   "metadata": {},
   "outputs": [],
   "source": [
    "hparams = {\n",
    "    \"top_cut_off\": np.arange(0, 4, 0.2),\n",
    "    \"down_cut_off\": np.arange(0, 4, 0.2),\n",
    "    \"if_short\": [True, False] + 18 * [None],\n",
    "}"
   ]
  },
  {
   "cell_type": "code",
   "execution_count": null,
   "metadata": {},
   "outputs": [],
   "source": []
  },
  {
   "cell_type": "code",
   "execution_count": 22,
   "metadata": {},
   "outputs": [],
   "source": [
    "hparams_df = pd.DataFrame(hparams)"
   ]
  },
  {
   "cell_type": "code",
   "execution_count": 24,
   "metadata": {},
   "outputs": [
    {
     "data": {
      "text/html": [
       "<div>\n",
       "<style scoped>\n",
       "    .dataframe tbody tr th:only-of-type {\n",
       "        vertical-align: middle;\n",
       "    }\n",
       "\n",
       "    .dataframe tbody tr th {\n",
       "        vertical-align: top;\n",
       "    }\n",
       "\n",
       "    .dataframe thead th {\n",
       "        text-align: right;\n",
       "    }\n",
       "</style>\n",
       "<table border=\"1\" class=\"dataframe\">\n",
       "  <thead>\n",
       "    <tr style=\"text-align: right;\">\n",
       "      <th></th>\n",
       "      <th>0</th>\n",
       "      <th>1</th>\n",
       "      <th>2</th>\n",
       "      <th>3</th>\n",
       "      <th>4</th>\n",
       "      <th>5</th>\n",
       "      <th>6</th>\n",
       "      <th>7</th>\n",
       "      <th>8</th>\n",
       "      <th>9</th>\n",
       "      <th>10</th>\n",
       "      <th>11</th>\n",
       "      <th>12</th>\n",
       "      <th>13</th>\n",
       "      <th>14</th>\n",
       "      <th>15</th>\n",
       "      <th>16</th>\n",
       "      <th>17</th>\n",
       "      <th>18</th>\n",
       "      <th>19</th>\n",
       "    </tr>\n",
       "  </thead>\n",
       "  <tbody>\n",
       "    <tr>\n",
       "      <th>top_cut_off</th>\n",
       "      <td>0.0</td>\n",
       "      <td>0.2</td>\n",
       "      <td>0.4</td>\n",
       "      <td>0.6</td>\n",
       "      <td>0.8</td>\n",
       "      <td>1.0</td>\n",
       "      <td>1.2</td>\n",
       "      <td>1.4</td>\n",
       "      <td>1.6</td>\n",
       "      <td>1.8</td>\n",
       "      <td>2.0</td>\n",
       "      <td>2.2</td>\n",
       "      <td>2.4</td>\n",
       "      <td>2.6</td>\n",
       "      <td>2.8</td>\n",
       "      <td>3.0</td>\n",
       "      <td>3.2</td>\n",
       "      <td>3.4</td>\n",
       "      <td>3.6</td>\n",
       "      <td>3.8</td>\n",
       "    </tr>\n",
       "    <tr>\n",
       "      <th>down_cut_off</th>\n",
       "      <td>0.0</td>\n",
       "      <td>0.2</td>\n",
       "      <td>0.4</td>\n",
       "      <td>0.6</td>\n",
       "      <td>0.8</td>\n",
       "      <td>1.0</td>\n",
       "      <td>1.2</td>\n",
       "      <td>1.4</td>\n",
       "      <td>1.6</td>\n",
       "      <td>1.8</td>\n",
       "      <td>2.0</td>\n",
       "      <td>2.2</td>\n",
       "      <td>2.4</td>\n",
       "      <td>2.6</td>\n",
       "      <td>2.8</td>\n",
       "      <td>3.0</td>\n",
       "      <td>3.2</td>\n",
       "      <td>3.4</td>\n",
       "      <td>3.6</td>\n",
       "      <td>3.8</td>\n",
       "    </tr>\n",
       "    <tr>\n",
       "      <th>if_short</th>\n",
       "      <td>True</td>\n",
       "      <td>False</td>\n",
       "      <td>None</td>\n",
       "      <td>None</td>\n",
       "      <td>None</td>\n",
       "      <td>None</td>\n",
       "      <td>None</td>\n",
       "      <td>None</td>\n",
       "      <td>None</td>\n",
       "      <td>None</td>\n",
       "      <td>None</td>\n",
       "      <td>None</td>\n",
       "      <td>None</td>\n",
       "      <td>None</td>\n",
       "      <td>None</td>\n",
       "      <td>None</td>\n",
       "      <td>None</td>\n",
       "      <td>None</td>\n",
       "      <td>None</td>\n",
       "      <td>None</td>\n",
       "    </tr>\n",
       "  </tbody>\n",
       "</table>\n",
       "</div>"
      ],
      "text/plain": [
       "                0      1     2     3     4     5     6     7     8     9   \\\n",
       "top_cut_off    0.0    0.2   0.4   0.6   0.8   1.0   1.2   1.4   1.6   1.8   \n",
       "down_cut_off   0.0    0.2   0.4   0.6   0.8   1.0   1.2   1.4   1.6   1.8   \n",
       "if_short      True  False  None  None  None  None  None  None  None  None   \n",
       "\n",
       "                10    11    12    13    14    15    16    17    18    19  \n",
       "top_cut_off    2.0   2.2   2.4   2.6   2.8   3.0   3.2   3.4   3.6   3.8  \n",
       "down_cut_off   2.0   2.2   2.4   2.6   2.8   3.0   3.2   3.4   3.6   3.8  \n",
       "if_short      None  None  None  None  None  None  None  None  None  None  "
      ]
     },
     "execution_count": 24,
     "metadata": {},
     "output_type": "execute_result"
    }
   ],
   "source": [
    "hparams_df.T"
   ]
  },
  {
   "cell_type": "code",
   "execution_count": 28,
   "metadata": {},
   "outputs": [
    {
     "name": "stderr",
     "output_type": "stream",
     "text": [
      "C:\\Users\\kuba1\\AppData\\Local\\Temp\\ipykernel_10816\\2764230600.py:3: FutureWarning: In future versions `DataFrame.to_latex` is expected to utilise the base implementation of `Styler.to_latex` for formatting and rendering. The arguments signature may therefore change. It is recommended instead to use `DataFrame.style.to_latex` which also contains additional functionality.\n",
      "  hparams_df\n"
     ]
    }
   ],
   "source": [
    "with open(save_path / \"signals_hpars.tex\", \"w\") as f:\n",
    "    f.write(\n",
    "        hparams_df\n",
    "        .to_latex(caption=\"Signal hyper parameters\")\n",
    "    )\n"
   ]
  },
  {
   "cell_type": "code",
   "execution_count": null,
   "metadata": {},
   "outputs": [],
   "source": []
  }
 ],
 "metadata": {
  "interpreter": {
   "hash": "d7843971dda3529082bc94d3d766c9401c3686db503a2276d5501a9b2d2363b6"
  },
  "kernelspec": {
   "display_name": "Python 3.9.10 ('venv_gan': venv)",
   "language": "python",
   "name": "python3"
  },
  "language_info": {
   "codemirror_mode": {
    "name": "ipython",
    "version": 3
   },
   "file_extension": ".py",
   "mimetype": "text/x-python",
   "name": "python",
   "nbconvert_exporter": "python",
   "pygments_lexer": "ipython3",
   "version": "3.9.12"
  },
  "orig_nbformat": 4
 },
 "nbformat": 4,
 "nbformat_minor": 2
}
