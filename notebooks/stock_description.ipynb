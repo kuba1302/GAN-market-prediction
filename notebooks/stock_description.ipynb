{
 "cells": [
  {
   "cell_type": "code",
   "execution_count": 1,
   "metadata": {},
   "outputs": [],
   "source": [
    "import pandas as pd \n",
    "from pathlib import Path\n",
    "import os\n",
    "import numpy as np"
   ]
  },
  {
   "cell_type": "code",
   "execution_count": 2,
   "metadata": {},
   "outputs": [
    {
     "name": "stdout",
     "output_type": "stream",
     "text": [
      "c:\\Gan\\GAN-market-prediction\n"
     ]
    }
   ],
   "source": [
    "cd .."
   ]
  },
  {
   "cell_type": "code",
   "execution_count": 3,
   "metadata": {},
   "outputs": [],
   "source": [
    "stock_path = Path(os.path.abspath(\"\")) / \"data\" / \"stock_data\"\n",
    "save_path = Path(os.path.abspath(\"\")) / \"paper\"\n",
    "tickers = [\"EA\", \"UBSFY\", \"TTWO\", \"ATVI\"]"
   ]
  },
  {
   "cell_type": "code",
   "execution_count": 4,
   "metadata": {},
   "outputs": [
    {
     "name": "stderr",
     "output_type": "stream",
     "text": [
      "C:\\Users\\kuba1\\AppData\\Local\\Temp\\ipykernel_9000\\748348373.py:5: FutureWarning: The frame.append method is deprecated and will be removed from pandas in a future version. Use pandas.concat instead.\n",
      "  df = df.append(tmp)\n",
      "C:\\Users\\kuba1\\AppData\\Local\\Temp\\ipykernel_9000\\748348373.py:5: FutureWarning: The frame.append method is deprecated and will be removed from pandas in a future version. Use pandas.concat instead.\n",
      "  df = df.append(tmp)\n",
      "C:\\Users\\kuba1\\AppData\\Local\\Temp\\ipykernel_9000\\748348373.py:5: FutureWarning: The frame.append method is deprecated and will be removed from pandas in a future version. Use pandas.concat instead.\n",
      "  df = df.append(tmp)\n",
      "C:\\Users\\kuba1\\AppData\\Local\\Temp\\ipykernel_9000\\748348373.py:5: FutureWarning: The frame.append method is deprecated and will be removed from pandas in a future version. Use pandas.concat instead.\n",
      "  df = df.append(tmp)\n"
     ]
    }
   ],
   "source": [
    "df = pd.DataFrame()\n",
    "for ticker in tickers:\n",
    "    tmp = pd.read_csv(stock_path / f\"{ticker}.csv\").tail(178)\n",
    "    tmp[\"Company\"] = ticker\n",
    "    df = df.append(tmp)"
   ]
  },
  {
   "cell_type": "code",
   "execution_count": 5,
   "metadata": {},
   "outputs": [
    {
     "data": {
      "text/plain": [
       "<pandas.core.groupby.generic.DataFrameGroupBy object at 0x000001BECCD3D7C0>"
      ]
     },
     "execution_count": 5,
     "metadata": {},
     "output_type": "execute_result"
    }
   ],
   "source": [
    "df.groupby(by=\"Company\")"
   ]
  },
  {
   "cell_type": "code",
   "execution_count": 6,
   "metadata": {},
   "outputs": [],
   "source": [
    "pd.options.display.float_format = '{:.5f}'.format"
   ]
  },
  {
   "cell_type": "code",
   "execution_count": 7,
   "metadata": {},
   "outputs": [
    {
     "data": {
      "text/html": [
       "<div>\n",
       "<style scoped>\n",
       "    .dataframe tbody tr th:only-of-type {\n",
       "        vertical-align: middle;\n",
       "    }\n",
       "\n",
       "    .dataframe tbody tr th {\n",
       "        vertical-align: top;\n",
       "    }\n",
       "\n",
       "    .dataframe thead th {\n",
       "        text-align: right;\n",
       "    }\n",
       "</style>\n",
       "<table border=\"1\" class=\"dataframe\">\n",
       "  <thead>\n",
       "    <tr style=\"text-align: right;\">\n",
       "      <th></th>\n",
       "      <th>Company</th>\n",
       "      <th>ATVI</th>\n",
       "      <th>EA</th>\n",
       "      <th>TTWO</th>\n",
       "      <th>UBSFY</th>\n",
       "    </tr>\n",
       "  </thead>\n",
       "  <tbody>\n",
       "    <tr>\n",
       "      <th rowspan=\"8\" valign=\"top\">Open</th>\n",
       "      <th>count</th>\n",
       "      <td>178.00000</td>\n",
       "      <td>178.00000</td>\n",
       "      <td>178.00000</td>\n",
       "      <td>178.00000</td>\n",
       "    </tr>\n",
       "    <tr>\n",
       "      <th>mean</th>\n",
       "      <td>83.88748</td>\n",
       "      <td>139.35839</td>\n",
       "      <td>170.97678</td>\n",
       "      <td>12.85488</td>\n",
       "    </tr>\n",
       "    <tr>\n",
       "      <th>std</th>\n",
       "      <td>11.44004</td>\n",
       "      <td>5.31964</td>\n",
       "      <td>10.63068</td>\n",
       "      <td>1.80794</td>\n",
       "    </tr>\n",
       "    <tr>\n",
       "      <th>min</th>\n",
       "      <td>56.97780</td>\n",
       "      <td>120.48962</td>\n",
       "      <td>145.91000</td>\n",
       "      <td>9.05000</td>\n",
       "    </tr>\n",
       "    <tr>\n",
       "      <th>25%</th>\n",
       "      <td>77.60000</td>\n",
       "      <td>137.52875</td>\n",
       "      <td>163.15500</td>\n",
       "      <td>11.16750</td>\n",
       "    </tr>\n",
       "    <tr>\n",
       "      <th>50%</th>\n",
       "      <td>83.51000</td>\n",
       "      <td>140.79250</td>\n",
       "      <td>171.31500</td>\n",
       "      <td>12.96005</td>\n",
       "    </tr>\n",
       "    <tr>\n",
       "      <th>75%</th>\n",
       "      <td>93.58500</td>\n",
       "      <td>142.89994</td>\n",
       "      <td>178.88501</td>\n",
       "      <td>14.21000</td>\n",
       "    </tr>\n",
       "    <tr>\n",
       "      <th>max</th>\n",
       "      <td>98.86000</td>\n",
       "      <td>148.54312</td>\n",
       "      <td>192.25999</td>\n",
       "      <td>16.09960</td>\n",
       "    </tr>\n",
       "    <tr>\n",
       "      <th rowspan=\"8\" valign=\"top\">High</th>\n",
       "      <th>count</th>\n",
       "      <td>178.00000</td>\n",
       "      <td>178.00000</td>\n",
       "      <td>178.00000</td>\n",
       "      <td>178.00000</td>\n",
       "    </tr>\n",
       "    <tr>\n",
       "      <th>mean</th>\n",
       "      <td>84.71179</td>\n",
       "      <td>140.86301</td>\n",
       "      <td>172.94974</td>\n",
       "      <td>12.92609</td>\n",
       "    </tr>\n",
       "    <tr>\n",
       "      <th>std</th>\n",
       "      <td>11.44898</td>\n",
       "      <td>5.27167</td>\n",
       "      <td>10.66488</td>\n",
       "      <td>1.80453</td>\n",
       "    </tr>\n",
       "    <tr>\n",
       "      <th>min</th>\n",
       "      <td>57.44000</td>\n",
       "      <td>123.59343</td>\n",
       "      <td>147.10001</td>\n",
       "      <td>9.27000</td>\n",
       "    </tr>\n",
       "    <tr>\n",
       "      <th>25%</th>\n",
       "      <td>78.37250</td>\n",
       "      <td>139.54444</td>\n",
       "      <td>164.68250</td>\n",
       "      <td>11.25895</td>\n",
       "    </tr>\n",
       "    <tr>\n",
       "      <th>50%</th>\n",
       "      <td>84.46250</td>\n",
       "      <td>142.18925</td>\n",
       "      <td>173.34635</td>\n",
       "      <td>13.10500</td>\n",
       "    </tr>\n",
       "    <tr>\n",
       "      <th>75%</th>\n",
       "      <td>94.79250</td>\n",
       "      <td>144.03059</td>\n",
       "      <td>182.23750</td>\n",
       "      <td>14.28000</td>\n",
       "    </tr>\n",
       "    <tr>\n",
       "      <th>max</th>\n",
       "      <td>99.45900</td>\n",
       "      <td>148.55309</td>\n",
       "      <td>195.82500</td>\n",
       "      <td>16.18000</td>\n",
       "    </tr>\n",
       "    <tr>\n",
       "      <th rowspan=\"8\" valign=\"top\">Low</th>\n",
       "      <th>count</th>\n",
       "      <td>178.00000</td>\n",
       "      <td>178.00000</td>\n",
       "      <td>178.00000</td>\n",
       "      <td>178.00000</td>\n",
       "    </tr>\n",
       "    <tr>\n",
       "      <th>mean</th>\n",
       "      <td>82.76441</td>\n",
       "      <td>137.73099</td>\n",
       "      <td>168.86979</td>\n",
       "      <td>12.75559</td>\n",
       "    </tr>\n",
       "    <tr>\n",
       "      <th>std</th>\n",
       "      <td>11.48914</td>\n",
       "      <td>5.47203</td>\n",
       "      <td>10.36375</td>\n",
       "      <td>1.80319</td>\n",
       "    </tr>\n",
       "    <tr>\n",
       "      <th>min</th>\n",
       "      <td>56.40000</td>\n",
       "      <td>119.91839</td>\n",
       "      <td>144.58099</td>\n",
       "      <td>9.05000</td>\n",
       "    </tr>\n",
       "    <tr>\n",
       "      <th>25%</th>\n",
       "      <td>76.66753</td>\n",
       "      <td>136.24021</td>\n",
       "      <td>160.56500</td>\n",
       "      <td>11.04758</td>\n",
       "    </tr>\n",
       "    <tr>\n",
       "      <th>50%</th>\n",
       "      <td>82.65500</td>\n",
       "      <td>139.20772</td>\n",
       "      <td>169.41000</td>\n",
       "      <td>12.84000</td>\n",
       "    </tr>\n",
       "    <tr>\n",
       "      <th>75%</th>\n",
       "      <td>92.75750</td>\n",
       "      <td>141.24267</td>\n",
       "      <td>176.59000</td>\n",
       "      <td>14.12750</td>\n",
       "    </tr>\n",
       "    <tr>\n",
       "      <th>max</th>\n",
       "      <td>97.61000</td>\n",
       "      <td>145.78012</td>\n",
       "      <td>186.42000</td>\n",
       "      <td>16.05000</td>\n",
       "    </tr>\n",
       "    <tr>\n",
       "      <th rowspan=\"8\" valign=\"top\">Close</th>\n",
       "      <th>count</th>\n",
       "      <td>178.00000</td>\n",
       "      <td>178.00000</td>\n",
       "      <td>178.00000</td>\n",
       "      <td>178.00000</td>\n",
       "    </tr>\n",
       "    <tr>\n",
       "      <th>mean</th>\n",
       "      <td>83.64834</td>\n",
       "      <td>139.18954</td>\n",
       "      <td>170.87719</td>\n",
       "      <td>12.83658</td>\n",
       "    </tr>\n",
       "    <tr>\n",
       "      <th>std</th>\n",
       "      <td>11.46632</td>\n",
       "      <td>5.47264</td>\n",
       "      <td>10.50990</td>\n",
       "      <td>1.80542</td>\n",
       "    </tr>\n",
       "    <tr>\n",
       "      <th>min</th>\n",
       "      <td>57.28000</td>\n",
       "      <td>120.06819</td>\n",
       "      <td>145.25000</td>\n",
       "      <td>9.14000</td>\n",
       "    </tr>\n",
       "    <tr>\n",
       "      <th>25%</th>\n",
       "      <td>77.36500</td>\n",
       "      <td>137.80326</td>\n",
       "      <td>162.89500</td>\n",
       "      <td>11.16250</td>\n",
       "    </tr>\n",
       "    <tr>\n",
       "      <th>50%</th>\n",
       "      <td>83.47000</td>\n",
       "      <td>140.66914</td>\n",
       "      <td>171.28000</td>\n",
       "      <td>12.97500</td>\n",
       "    </tr>\n",
       "    <tr>\n",
       "      <th>75%</th>\n",
       "      <td>93.40250</td>\n",
       "      <td>142.60301</td>\n",
       "      <td>178.92750</td>\n",
       "      <td>14.21743</td>\n",
       "    </tr>\n",
       "    <tr>\n",
       "      <th>max</th>\n",
       "      <td>99.18000</td>\n",
       "      <td>148.17406</td>\n",
       "      <td>192.91000</td>\n",
       "      <td>16.13000</td>\n",
       "    </tr>\n",
       "    <tr>\n",
       "      <th rowspan=\"8\" valign=\"top\">Volume</th>\n",
       "      <th>count</th>\n",
       "      <td>178.00000</td>\n",
       "      <td>178.00000</td>\n",
       "      <td>178.00000</td>\n",
       "      <td>178.00000</td>\n",
       "    </tr>\n",
       "    <tr>\n",
       "      <th>mean</th>\n",
       "      <td>8236266.19663</td>\n",
       "      <td>2473996.98315</td>\n",
       "      <td>1276613.75281</td>\n",
       "      <td>169367.50562</td>\n",
       "    </tr>\n",
       "    <tr>\n",
       "      <th>std</th>\n",
       "      <td>5413813.44292</td>\n",
       "      <td>1073436.84836</td>\n",
       "      <td>669500.10641</td>\n",
       "      <td>278989.77157</td>\n",
       "    </tr>\n",
       "    <tr>\n",
       "      <th>min</th>\n",
       "      <td>2596873.00000</td>\n",
       "      <td>1016396.00000</td>\n",
       "      <td>559480.00000</td>\n",
       "      <td>16495.00000</td>\n",
       "    </tr>\n",
       "    <tr>\n",
       "      <th>25%</th>\n",
       "      <td>5105944.50000</td>\n",
       "      <td>1766566.25000</td>\n",
       "      <td>876545.75000</td>\n",
       "      <td>46863.25000</td>\n",
       "    </tr>\n",
       "    <tr>\n",
       "      <th>50%</th>\n",
       "      <td>6667305.00000</td>\n",
       "      <td>2181122.50000</td>\n",
       "      <td>1095232.00000</td>\n",
       "      <td>69654.50000</td>\n",
       "    </tr>\n",
       "    <tr>\n",
       "      <th>75%</th>\n",
       "      <td>9477788.50000</td>\n",
       "      <td>2854991.50000</td>\n",
       "      <td>1422011.25000</td>\n",
       "      <td>148630.00000</td>\n",
       "    </tr>\n",
       "    <tr>\n",
       "      <th>max</th>\n",
       "      <td>43753567.00000</td>\n",
       "      <td>8344344.00000</td>\n",
       "      <td>5935523.00000</td>\n",
       "      <td>1833827.00000</td>\n",
       "    </tr>\n",
       "  </tbody>\n",
       "</table>\n",
       "</div>"
      ],
      "text/plain": [
       "Company                ATVI            EA          TTWO         UBSFY\n",
       "Open   count      178.00000     178.00000     178.00000     178.00000\n",
       "       mean        83.88748     139.35839     170.97678      12.85488\n",
       "       std         11.44004       5.31964      10.63068       1.80794\n",
       "       min         56.97780     120.48962     145.91000       9.05000\n",
       "       25%         77.60000     137.52875     163.15500      11.16750\n",
       "       50%         83.51000     140.79250     171.31500      12.96005\n",
       "       75%         93.58500     142.89994     178.88501      14.21000\n",
       "       max         98.86000     148.54312     192.25999      16.09960\n",
       "High   count      178.00000     178.00000     178.00000     178.00000\n",
       "       mean        84.71179     140.86301     172.94974      12.92609\n",
       "       std         11.44898       5.27167      10.66488       1.80453\n",
       "       min         57.44000     123.59343     147.10001       9.27000\n",
       "       25%         78.37250     139.54444     164.68250      11.25895\n",
       "       50%         84.46250     142.18925     173.34635      13.10500\n",
       "       75%         94.79250     144.03059     182.23750      14.28000\n",
       "       max         99.45900     148.55309     195.82500      16.18000\n",
       "Low    count      178.00000     178.00000     178.00000     178.00000\n",
       "       mean        82.76441     137.73099     168.86979      12.75559\n",
       "       std         11.48914       5.47203      10.36375       1.80319\n",
       "       min         56.40000     119.91839     144.58099       9.05000\n",
       "       25%         76.66753     136.24021     160.56500      11.04758\n",
       "       50%         82.65500     139.20772     169.41000      12.84000\n",
       "       75%         92.75750     141.24267     176.59000      14.12750\n",
       "       max         97.61000     145.78012     186.42000      16.05000\n",
       "Close  count      178.00000     178.00000     178.00000     178.00000\n",
       "       mean        83.64834     139.18954     170.87719      12.83658\n",
       "       std         11.46632       5.47264      10.50990       1.80542\n",
       "       min         57.28000     120.06819     145.25000       9.14000\n",
       "       25%         77.36500     137.80326     162.89500      11.16250\n",
       "       50%         83.47000     140.66914     171.28000      12.97500\n",
       "       75%         93.40250     142.60301     178.92750      14.21743\n",
       "       max         99.18000     148.17406     192.91000      16.13000\n",
       "Volume count      178.00000     178.00000     178.00000     178.00000\n",
       "       mean   8236266.19663 2473996.98315 1276613.75281  169367.50562\n",
       "       std    5413813.44292 1073436.84836  669500.10641  278989.77157\n",
       "       min    2596873.00000 1016396.00000  559480.00000   16495.00000\n",
       "       25%    5105944.50000 1766566.25000  876545.75000   46863.25000\n",
       "       50%    6667305.00000 2181122.50000 1095232.00000   69654.50000\n",
       "       75%    9477788.50000 2854991.50000 1422011.25000  148630.00000\n",
       "       max   43753567.00000 8344344.00000 5935523.00000 1833827.00000"
      ]
     },
     "execution_count": 7,
     "metadata": {},
     "output_type": "execute_result"
    }
   ],
   "source": [
    "(\n",
    "    df.loc[:, [col for col in df.columns if col not in [\"Dividends\", \"Stock Splits\"]]]\n",
    "    .groupby(by=\"Company\")\n",
    "    .describe()\n",
    "    .T\n",
    ")\n"
   ]
  },
  {
   "cell_type": "code",
   "execution_count": 44,
   "metadata": {},
   "outputs": [
    {
     "name": "stderr",
     "output_type": "stream",
     "text": [
      "C:\\Users\\kuba1\\AppData\\Local\\Temp\\ipykernel_10816\\838483005.py:3: FutureWarning: In future versions `DataFrame.to_latex` is expected to utilise the base implementation of `Styler.to_latex` for formatting and rendering. The arguments signature may therefore change. It is recommended instead to use `DataFrame.style.to_latex` which also contains additional functionality.\n",
      "  df.loc[\n"
     ]
    }
   ],
   "source": [
    "with open(save_path / \"desc_stock.tex\", \"w\") as f:\n",
    "    f.write(\n",
    "        df.loc[\n",
    "            :, [col for col in df.columns if col not in [\"Dividends\", \"Stock Splits\"]]\n",
    "        ]\n",
    "        .groupby(by=\"Company\")\n",
    "        .describe()\n",
    "        .T.to_latex(caption=\"Descriptive statistics for chosen companies\")\n",
    "    )\n"
   ]
  },
  {
   "cell_type": "markdown",
   "metadata": {},
   "source": []
  },
  {
   "cell_type": "code",
   "execution_count": 8,
   "metadata": {},
   "outputs": [],
   "source": [
    "results_dict = {\n",
    "    \"ATVI\": [1.3585, 1.8867],\n",
    "    \"EA\": [1.3427, 1.8956], \n",
    "    \"TTWO\": [3.5405, 4.5069],\n",
    "    \"UBSFY\": [0.2578, 0.3376]\n",
    "}"
   ]
  },
  {
   "cell_type": "code",
   "execution_count": 9,
   "metadata": {},
   "outputs": [
    {
     "name": "stderr",
     "output_type": "stream",
     "text": [
      "C:\\Users\\kuba1\\AppData\\Local\\Temp\\ipykernel_9000\\3186659599.py:1: FutureWarning: The frame.append method is deprecated and will be removed from pandas in a future version. Use pandas.concat instead.\n",
      "  errs = pd.DataFrame(results_dict).append(df.groupby(by=\"Company\")['Close'].mean()).rename(index={0: \"MAE\", 1:\"RMSE\", \"Close\": \"Close Price Mean\"})\n"
     ]
    }
   ],
   "source": [
    "errs = pd.DataFrame(results_dict).append(df.groupby(by=\"Company\")['Close'].mean()).rename(index={0: \"MAE\", 1:\"RMSE\", \"Close\": \"Close Price Mean\"})"
   ]
  },
  {
   "cell_type": "code",
   "execution_count": 18,
   "metadata": {},
   "outputs": [
    {
     "data": {
      "text/plain": [
       "Index(['MAE', 'RMSE', 'Close Price Mean'], dtype='object')"
      ]
     },
     "execution_count": 18,
     "metadata": {},
     "output_type": "execute_result"
    }
   ],
   "source": [
    "errs.index"
   ]
  },
  {
   "cell_type": "code",
   "execution_count": 20,
   "metadata": {},
   "outputs": [],
   "source": [
    "errs.index = [np.array(['test', 'test', 'test1']), errs.index]"
   ]
  },
  {
   "cell_type": "code",
   "execution_count": 21,
   "metadata": {},
   "outputs": [
    {
     "data": {
      "text/html": [
       "<div>\n",
       "<style scoped>\n",
       "    .dataframe tbody tr th:only-of-type {\n",
       "        vertical-align: middle;\n",
       "    }\n",
       "\n",
       "    .dataframe tbody tr th {\n",
       "        vertical-align: top;\n",
       "    }\n",
       "\n",
       "    .dataframe thead th {\n",
       "        text-align: right;\n",
       "    }\n",
       "</style>\n",
       "<table border=\"1\" class=\"dataframe\">\n",
       "  <thead>\n",
       "    <tr style=\"text-align: right;\">\n",
       "      <th></th>\n",
       "      <th></th>\n",
       "      <th>ATVI</th>\n",
       "      <th>EA</th>\n",
       "      <th>TTWO</th>\n",
       "      <th>UBSFY</th>\n",
       "    </tr>\n",
       "  </thead>\n",
       "  <tbody>\n",
       "    <tr>\n",
       "      <th rowspan=\"2\" valign=\"top\">test</th>\n",
       "      <th>MAE</th>\n",
       "      <td>1.35850</td>\n",
       "      <td>1.34270</td>\n",
       "      <td>3.54050</td>\n",
       "      <td>0.25780</td>\n",
       "    </tr>\n",
       "    <tr>\n",
       "      <th>RMSE</th>\n",
       "      <td>1.88670</td>\n",
       "      <td>1.89560</td>\n",
       "      <td>4.50690</td>\n",
       "      <td>0.33760</td>\n",
       "    </tr>\n",
       "    <tr>\n",
       "      <th>test1</th>\n",
       "      <th>Close Price Mean</th>\n",
       "      <td>83.64834</td>\n",
       "      <td>139.18954</td>\n",
       "      <td>170.87719</td>\n",
       "      <td>12.83658</td>\n",
       "    </tr>\n",
       "  </tbody>\n",
       "</table>\n",
       "</div>"
      ],
      "text/plain": [
       "                           ATVI        EA      TTWO    UBSFY\n",
       "test  MAE               1.35850   1.34270   3.54050  0.25780\n",
       "      RMSE              1.88670   1.89560   4.50690  0.33760\n",
       "test1 Close Price Mean 83.64834 139.18954 170.87719 12.83658"
      ]
     },
     "execution_count": 21,
     "metadata": {},
     "output_type": "execute_result"
    }
   ],
   "source": [
    "errs"
   ]
  },
  {
   "cell_type": "code",
   "execution_count": 22,
   "metadata": {},
   "outputs": [
    {
     "name": "stderr",
     "output_type": "stream",
     "text": [
      "C:\\Users\\kuba1\\AppData\\Local\\Temp\\ipykernel_9000\\2401312644.py:3: FutureWarning: In future versions `DataFrame.to_latex` is expected to utilise the base implementation of `Styler.to_latex` for formatting and rendering. The arguments signature may therefore change. It is recommended instead to use `DataFrame.style.to_latex` which also contains additional functionality.\n",
      "  errs\n"
     ]
    }
   ],
   "source": [
    "with open(save_path / \"metrics_err.tex\", \"w\") as f:\n",
    "    f.write(\n",
    "        errs\n",
    "        .to_latex(caption=\"Error metrics for chosen companies\")\n",
    "    )\n"
   ]
  },
  {
   "cell_type": "code",
   "execution_count": 10,
   "metadata": {},
   "outputs": [
    {
     "data": {
      "text/html": [
       "<div>\n",
       "<style scoped>\n",
       "    .dataframe tbody tr th:only-of-type {\n",
       "        vertical-align: middle;\n",
       "    }\n",
       "\n",
       "    .dataframe tbody tr th {\n",
       "        vertical-align: top;\n",
       "    }\n",
       "\n",
       "    .dataframe thead th {\n",
       "        text-align: right;\n",
       "    }\n",
       "</style>\n",
       "<table border=\"1\" class=\"dataframe\">\n",
       "  <thead>\n",
       "    <tr style=\"text-align: right;\">\n",
       "      <th></th>\n",
       "      <th>MAE</th>\n",
       "      <th>RMSE</th>\n",
       "      <th>Close Price Mean</th>\n",
       "    </tr>\n",
       "  </thead>\n",
       "  <tbody>\n",
       "    <tr>\n",
       "      <th>ATVI</th>\n",
       "      <td>1.35850</td>\n",
       "      <td>1.88670</td>\n",
       "      <td>83.64834</td>\n",
       "    </tr>\n",
       "    <tr>\n",
       "      <th>EA</th>\n",
       "      <td>1.34270</td>\n",
       "      <td>1.89560</td>\n",
       "      <td>139.18954</td>\n",
       "    </tr>\n",
       "    <tr>\n",
       "      <th>TTWO</th>\n",
       "      <td>3.54050</td>\n",
       "      <td>4.50690</td>\n",
       "      <td>170.87719</td>\n",
       "    </tr>\n",
       "    <tr>\n",
       "      <th>UBSFY</th>\n",
       "      <td>0.25780</td>\n",
       "      <td>0.33760</td>\n",
       "      <td>12.83658</td>\n",
       "    </tr>\n",
       "  </tbody>\n",
       "</table>\n",
       "</div>"
      ],
      "text/plain": [
       "          MAE    RMSE  Close Price Mean\n",
       "ATVI  1.35850 1.88670          83.64834\n",
       "EA    1.34270 1.89560         139.18954\n",
       "TTWO  3.54050 4.50690         170.87719\n",
       "UBSFY 0.25780 0.33760          12.83658"
      ]
     },
     "execution_count": 10,
     "metadata": {},
     "output_type": "execute_result"
    }
   ],
   "source": [
    "errs.T"
   ]
  },
  {
   "cell_type": "code",
   "execution_count": 49,
   "metadata": {},
   "outputs": [
    {
     "data": {
      "text/plain": [
       "ATVI     1.624061\n",
       "EA       0.964656\n",
       "TTWO     2.071956\n",
       "UBSFY    2.008324\n",
       "dtype: float64"
      ]
     },
     "execution_count": 49,
     "metadata": {},
     "output_type": "execute_result"
    }
   ],
   "source": [
    "(errs.T['MAE'] / errs.T['Close Price Mean']) * 100"
   ]
  },
  {
   "cell_type": "code",
   "execution_count": 21,
   "metadata": {},
   "outputs": [],
   "source": [
    "hparams = {\n",
    "    \"top_cut_off\": np.arange(0, 4, 0.2),\n",
    "    \"down_cut_off\": np.arange(0, 4, 0.2),\n",
    "    \"if_short\": [True, False] + 18 * [None],\n",
    "}"
   ]
  },
  {
   "cell_type": "code",
   "execution_count": null,
   "metadata": {},
   "outputs": [],
   "source": []
  },
  {
   "cell_type": "code",
   "execution_count": 22,
   "metadata": {},
   "outputs": [],
   "source": [
    "hparams_df = pd.DataFrame(hparams)"
   ]
  },
  {
   "cell_type": "code",
   "execution_count": 24,
   "metadata": {},
   "outputs": [
    {
     "data": {
      "text/html": [
       "<div>\n",
       "<style scoped>\n",
       "    .dataframe tbody tr th:only-of-type {\n",
       "        vertical-align: middle;\n",
       "    }\n",
       "\n",
       "    .dataframe tbody tr th {\n",
       "        vertical-align: top;\n",
       "    }\n",
       "\n",
       "    .dataframe thead th {\n",
       "        text-align: right;\n",
       "    }\n",
       "</style>\n",
       "<table border=\"1\" class=\"dataframe\">\n",
       "  <thead>\n",
       "    <tr style=\"text-align: right;\">\n",
       "      <th></th>\n",
       "      <th>0</th>\n",
       "      <th>1</th>\n",
       "      <th>2</th>\n",
       "      <th>3</th>\n",
       "      <th>4</th>\n",
       "      <th>5</th>\n",
       "      <th>6</th>\n",
       "      <th>7</th>\n",
       "      <th>8</th>\n",
       "      <th>9</th>\n",
       "      <th>10</th>\n",
       "      <th>11</th>\n",
       "      <th>12</th>\n",
       "      <th>13</th>\n",
       "      <th>14</th>\n",
       "      <th>15</th>\n",
       "      <th>16</th>\n",
       "      <th>17</th>\n",
       "      <th>18</th>\n",
       "      <th>19</th>\n",
       "    </tr>\n",
       "  </thead>\n",
       "  <tbody>\n",
       "    <tr>\n",
       "      <th>top_cut_off</th>\n",
       "      <td>0.0</td>\n",
       "      <td>0.2</td>\n",
       "      <td>0.4</td>\n",
       "      <td>0.6</td>\n",
       "      <td>0.8</td>\n",
       "      <td>1.0</td>\n",
       "      <td>1.2</td>\n",
       "      <td>1.4</td>\n",
       "      <td>1.6</td>\n",
       "      <td>1.8</td>\n",
       "      <td>2.0</td>\n",
       "      <td>2.2</td>\n",
       "      <td>2.4</td>\n",
       "      <td>2.6</td>\n",
       "      <td>2.8</td>\n",
       "      <td>3.0</td>\n",
       "      <td>3.2</td>\n",
       "      <td>3.4</td>\n",
       "      <td>3.6</td>\n",
       "      <td>3.8</td>\n",
       "    </tr>\n",
       "    <tr>\n",
       "      <th>down_cut_off</th>\n",
       "      <td>0.0</td>\n",
       "      <td>0.2</td>\n",
       "      <td>0.4</td>\n",
       "      <td>0.6</td>\n",
       "      <td>0.8</td>\n",
       "      <td>1.0</td>\n",
       "      <td>1.2</td>\n",
       "      <td>1.4</td>\n",
       "      <td>1.6</td>\n",
       "      <td>1.8</td>\n",
       "      <td>2.0</td>\n",
       "      <td>2.2</td>\n",
       "      <td>2.4</td>\n",
       "      <td>2.6</td>\n",
       "      <td>2.8</td>\n",
       "      <td>3.0</td>\n",
       "      <td>3.2</td>\n",
       "      <td>3.4</td>\n",
       "      <td>3.6</td>\n",
       "      <td>3.8</td>\n",
       "    </tr>\n",
       "    <tr>\n",
       "      <th>if_short</th>\n",
       "      <td>True</td>\n",
       "      <td>False</td>\n",
       "      <td>None</td>\n",
       "      <td>None</td>\n",
       "      <td>None</td>\n",
       "      <td>None</td>\n",
       "      <td>None</td>\n",
       "      <td>None</td>\n",
       "      <td>None</td>\n",
       "      <td>None</td>\n",
       "      <td>None</td>\n",
       "      <td>None</td>\n",
       "      <td>None</td>\n",
       "      <td>None</td>\n",
       "      <td>None</td>\n",
       "      <td>None</td>\n",
       "      <td>None</td>\n",
       "      <td>None</td>\n",
       "      <td>None</td>\n",
       "      <td>None</td>\n",
       "    </tr>\n",
       "  </tbody>\n",
       "</table>\n",
       "</div>"
      ],
      "text/plain": [
       "                0      1     2     3     4     5     6     7     8     9   \\\n",
       "top_cut_off    0.0    0.2   0.4   0.6   0.8   1.0   1.2   1.4   1.6   1.8   \n",
       "down_cut_off   0.0    0.2   0.4   0.6   0.8   1.0   1.2   1.4   1.6   1.8   \n",
       "if_short      True  False  None  None  None  None  None  None  None  None   \n",
       "\n",
       "                10    11    12    13    14    15    16    17    18    19  \n",
       "top_cut_off    2.0   2.2   2.4   2.6   2.8   3.0   3.2   3.4   3.6   3.8  \n",
       "down_cut_off   2.0   2.2   2.4   2.6   2.8   3.0   3.2   3.4   3.6   3.8  \n",
       "if_short      None  None  None  None  None  None  None  None  None  None  "
      ]
     },
     "execution_count": 24,
     "metadata": {},
     "output_type": "execute_result"
    }
   ],
   "source": [
    "hparams_df.T"
   ]
  },
  {
   "cell_type": "code",
   "execution_count": 28,
   "metadata": {},
   "outputs": [
    {
     "name": "stderr",
     "output_type": "stream",
     "text": [
      "C:\\Users\\kuba1\\AppData\\Local\\Temp\\ipykernel_10816\\2764230600.py:3: FutureWarning: In future versions `DataFrame.to_latex` is expected to utilise the base implementation of `Styler.to_latex` for formatting and rendering. The arguments signature may therefore change. It is recommended instead to use `DataFrame.style.to_latex` which also contains additional functionality.\n",
      "  hparams_df\n"
     ]
    }
   ],
   "source": [
    "with open(save_path / \"signals_hpars.tex\", \"w\") as f:\n",
    "    f.write(\n",
    "        hparams_df\n",
    "        .to_latex(caption=\"Signal hyper parameters\")\n",
    "    )\n"
   ]
  },
  {
   "cell_type": "code",
   "execution_count": null,
   "metadata": {},
   "outputs": [],
   "source": []
  }
 ],
 "metadata": {
  "interpreter": {
   "hash": "45d488aa71120c0be7c899fcd6262110eedf6bbcdf6e4639be16ae835917e1e4"
  },
  "kernelspec": {
   "display_name": "Python 3.9.10 ('venv_gan': venv)",
   "language": "python",
   "name": "python3"
  },
  "language_info": {
   "codemirror_mode": {
    "name": "ipython",
    "version": 3
   },
   "file_extension": ".py",
   "mimetype": "text/x-python",
   "name": "python",
   "nbconvert_exporter": "python",
   "pygments_lexer": "ipython3",
   "version": "3.9.13"
  },
  "orig_nbformat": 4
 },
 "nbformat": 4,
 "nbformat_minor": 2
}
