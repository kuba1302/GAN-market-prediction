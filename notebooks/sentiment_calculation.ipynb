{
 "cells": [
  {
   "cell_type": "code",
   "execution_count": 1,
   "metadata": {},
   "outputs": [],
   "source": [
    "\n",
    "import os\n",
    "from pathlib import Path\n",
    "\n",
    "import numpy as np\n",
    "import pandas as pd\n",
    "\n",
    "from tqdm import tqdm\n",
    "from models.bert.model_base import BertBase\n",
    "\n",
    "%load_ext autoreload\n",
    "%autoreload 2"
   ]
  },
  {
   "cell_type": "code",
   "execution_count": 2,
   "metadata": {},
   "outputs": [
    {
     "name": "stdout",
     "output_type": "stream",
     "text": [
      "c:\\Gan\\GAN-market-prediction\n"
     ]
    }
   ],
   "source": [
    "cd .."
   ]
  },
  {
   "cell_type": "code",
   "execution_count": 1,
   "metadata": {},
   "outputs": [
    {
     "ename": "NameError",
     "evalue": "name 'Path' is not defined",
     "output_type": "error",
     "traceback": [
      "\u001b[1;31m---------------------------------------------------------------------------\u001b[0m",
      "\u001b[1;31mNameError\u001b[0m                                 Traceback (most recent call last)",
      "\u001b[1;32mc:\\Gan\\GAN-market-prediction\\notebooks\\sentiment_calculation.ipynb Cell 3'\u001b[0m in \u001b[0;36m<cell line: 1>\u001b[1;34m()\u001b[0m\n\u001b[1;32m----> <a href='vscode-notebook-cell:/c%3A/Gan/GAN-market-prediction/notebooks/sentiment_calculation.ipynb#ch0000001?line=0'>1</a>\u001b[0m reddit_path \u001b[39m=\u001b[39m \u001b[39mstr\u001b[39m(Path(os\u001b[39m.\u001b[39mpath\u001b[39m.\u001b[39mabspath(\u001b[39m'\u001b[39m\u001b[39m'\u001b[39m)) \u001b[39m/\u001b[39m \u001b[39m'\u001b[39m\u001b[39mdata/reddit_data/\u001b[39m\u001b[39m'\u001b[39m)\n\u001b[0;32m      <a href='vscode-notebook-cell:/c%3A/Gan/GAN-market-prediction/notebooks/sentiment_calculation.ipynb#ch0000001?line=1'>2</a>\u001b[0m sentiment_path \u001b[39m=\u001b[39m \u001b[39mstr\u001b[39m(Path(os\u001b[39m.\u001b[39mpath\u001b[39m.\u001b[39mabspath(\u001b[39m'\u001b[39m\u001b[39m'\u001b[39m)) \u001b[39m/\u001b[39m \u001b[39m'\u001b[39m\u001b[39mdata/sentiment/\u001b[39m\u001b[39m'\u001b[39m)\n\u001b[0;32m      <a href='vscode-notebook-cell:/c%3A/Gan/GAN-market-prediction/notebooks/sentiment_calculation.ipynb#ch0000001?line=2'>3</a>\u001b[0m ea \u001b[39m=\u001b[39m pd\u001b[39m.\u001b[39mread_csv(\u001b[39mstr\u001b[39m(Path(reddit_path) \u001b[39m/\u001b[39m \u001b[39m'\u001b[39m\u001b[39mEA.csv\u001b[39m\u001b[39m'\u001b[39m))\n",
      "\u001b[1;31mNameError\u001b[0m: name 'Path' is not defined"
     ]
    }
   ],
   "source": [
    "reddit_path = str(Path(os.path.abspath('')) / 'data/reddit_data/')\n",
    "sentiment_path = str(Path(os.path.abspath('')) / 'data/sentiment/')\n",
    "ea = pd.read_csv(str(Path(reddit_path) / 'EA.csv'))\n",
    "ttwo = pd.read_csv(Path(reddit_path) / \"TTWO.csv\")\n",
    "ubsfy = pd.read_csv(Path(reddit_path) / \"UBSFY.csv\")\n",
    "atvi = pd.read_csv(Path(reddit_path) / \"ATVI.csv\")"
   ]
  },
  {
   "cell_type": "code",
   "execution_count": 4,
   "metadata": {},
   "outputs": [],
   "source": [
    "def batch_sentiment(df, ticker, n_splits=100): \n",
    "    bert = BertBase()\n",
    "    n_splits = n_splits\n",
    "    n_samples = len(df)\n",
    "    fold_sizes = np.full(n_splits, n_samples // n_splits, dtype=int)\n",
    "    fold_sizes[: n_samples % n_splits] += 1\n",
    "    current = 0\n",
    "    for fold_size in tqdm(fold_sizes): \n",
    "        start, stop = current, current + fold_size\n",
    "        slice_df = df.loc[start: stop, :]\n",
    "        slice_df['sentiment'] = slice_df['body'].apply(lambda x: bert.tokenize_and_predict(x))\n",
    "        slice_df.to_csv(str(Path(sentiment_path) / f'{ticker}.csv'), mode='a')\n",
    "        current = stop"
   ]
  },
  {
   "cell_type": "code",
   "execution_count": 5,
   "metadata": {},
   "outputs": [
    {
     "name": "stderr",
     "output_type": "stream",
     "text": [
      "Downloading: 100%|██████████| 255M/255M [00:03<00:00, 71.6MB/s] \n",
      "  0%|          | 0/100 [00:00<?, ?it/s]C:\\Users\\kuba1\\AppData\\Local\\Temp\\ipykernel_6848\\1780865269.py:11: SettingWithCopyWarning: \n",
      "A value is trying to be set on a copy of a slice from a DataFrame.\n",
      "Try using .loc[row_indexer,col_indexer] = value instead\n",
      "\n",
      "See the caveats in the documentation: https://pandas.pydata.org/pandas-docs/stable/user_guide/indexing.html#returning-a-view-versus-a-copy\n",
      "  slice_df['sentiment'] = slice_df['body'].apply(lambda x: bert.tokenize_and_predict(x))\n",
      "  1%|          | 1/100 [00:49<1:21:12, 49.22s/it]"
     ]
    }
   ],
   "source": [
    "for ticker, df in zip([\"ATVI\", \"TTWO\", \"UBSFY\"], [atvi, ttwo, ubsfy]):\n",
    "    batch_sentiment(df=df, ticker=ticker)"
   ]
  },
  {
   "cell_type": "code",
   "execution_count": null,
   "metadata": {},
   "outputs": [],
   "source": []
  }
 ],
 "metadata": {
  "interpreter": {
   "hash": "3cbb7ffa4e60e91679957dcaeabb0476dfe0c787e004763198b12aa4ffe037bd"
  },
  "kernelspec": {
   "display_name": "venv_gan",
   "language": "python",
   "name": "venv_gan"
  },
  "language_info": {
   "codemirror_mode": {
    "name": "ipython",
    "version": 3
   },
   "file_extension": ".py",
   "mimetype": "text/x-python",
   "name": "python",
   "nbconvert_exporter": "python",
   "pygments_lexer": "ipython3",
   "version": "3.9.12"
  },
  "orig_nbformat": 4
 },
 "nbformat": 4,
 "nbformat_minor": 2
}
