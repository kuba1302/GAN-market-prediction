{
 "cells": [
  {
   "cell_type": "code",
   "execution_count": 4,
   "metadata": {},
   "outputs": [],
   "source": [
    "import pandas as pd \n",
    "import numpy as np \n",
    "from pathlib import Path \n",
    "import os "
   ]
  },
  {
   "cell_type": "code",
   "execution_count": 2,
   "metadata": {},
   "outputs": [],
   "source": [
    "companies_dict = {\n",
    "    \"UBSFY\": 0.1, \n",
    "    \"EA\": 0.6, \n",
    "    \"TTWO\": 0.1,\n",
    "    \"ATVI\": 0.1\n",
    "}"
   ]
  },
  {
   "cell_type": "code",
   "execution_count": 19,
   "metadata": {},
   "outputs": [],
   "source": [
    "bot_path = Path(os.path.abspath(\"\")).parents[0] / \"trading_bots\"\n",
    "save_path = Path(os.path.abspath(\"\")).parents[0] / \"paper\""
   ]
  },
  {
   "cell_type": "code",
   "execution_count": 6,
   "metadata": {},
   "outputs": [],
   "source": [
    "data = {}\n",
    "for ticker, model_version in companies_dict.items():\n",
    "    data[ticker] = pd.read_csv(bot_path / f\"{ticker}_{model_version}_hyperopt.csv\")"
   ]
  },
  {
   "cell_type": "code",
   "execution_count": 8,
   "metadata": {},
   "outputs": [],
   "source": [
    "df = pd.DataFrame()\n",
    "for ticker, ticker_df in data.items(): \n",
    "    tmp = ticker_df\n",
    "    tmp['ticker'] = ticker\n",
    "    df = df.append(tmp)"
   ]
  },
  {
   "cell_type": "code",
   "execution_count": 12,
   "metadata": {},
   "outputs": [
    {
     "data": {
      "text/plain": [
       "ticker\n",
       "ATVI       5158.735721\n",
       "EA         2087.396933\n",
       "TTWO     143115.038074\n",
       "UBSFY      1725.066076\n",
       "Name: end_balance, dtype: float64"
      ]
     },
     "execution_count": 12,
     "metadata": {},
     "output_type": "execute_result"
    }
   ],
   "source": [
    "df.groupby('ticker')['end_balance'].max()"
   ]
  },
  {
   "cell_type": "code",
   "execution_count": 11,
   "metadata": {},
   "outputs": [
    {
     "data": {
      "text/html": [
       "<div>\n",
       "<style scoped>\n",
       "    .dataframe tbody tr th:only-of-type {\n",
       "        vertical-align: middle;\n",
       "    }\n",
       "\n",
       "    .dataframe tbody tr th {\n",
       "        vertical-align: top;\n",
       "    }\n",
       "\n",
       "    .dataframe thead th {\n",
       "        text-align: right;\n",
       "    }\n",
       "</style>\n",
       "<table border=\"1\" class=\"dataframe\">\n",
       "  <thead>\n",
       "    <tr style=\"text-align: right;\">\n",
       "      <th></th>\n",
       "      <th>end_balance</th>\n",
       "      <th>top_cut_off</th>\n",
       "      <th>down_cut_off</th>\n",
       "      <th>if_short</th>\n",
       "      <th>ticker</th>\n",
       "    </tr>\n",
       "  </thead>\n",
       "  <tbody>\n",
       "    <tr>\n",
       "      <th>0</th>\n",
       "      <td>1201.921776</td>\n",
       "      <td>0.0</td>\n",
       "      <td>0.0</td>\n",
       "      <td>True</td>\n",
       "      <td>UBSFY</td>\n",
       "    </tr>\n",
       "    <tr>\n",
       "      <th>1</th>\n",
       "      <td>1213.136911</td>\n",
       "      <td>0.0</td>\n",
       "      <td>0.0</td>\n",
       "      <td>False</td>\n",
       "      <td>UBSFY</td>\n",
       "    </tr>\n",
       "    <tr>\n",
       "      <th>2</th>\n",
       "      <td>1261.300968</td>\n",
       "      <td>0.0</td>\n",
       "      <td>0.2</td>\n",
       "      <td>True</td>\n",
       "      <td>UBSFY</td>\n",
       "    </tr>\n",
       "    <tr>\n",
       "      <th>3</th>\n",
       "      <td>1220.728518</td>\n",
       "      <td>0.0</td>\n",
       "      <td>0.2</td>\n",
       "      <td>False</td>\n",
       "      <td>UBSFY</td>\n",
       "    </tr>\n",
       "    <tr>\n",
       "      <th>4</th>\n",
       "      <td>1175.654551</td>\n",
       "      <td>0.0</td>\n",
       "      <td>0.4</td>\n",
       "      <td>True</td>\n",
       "      <td>UBSFY</td>\n",
       "    </tr>\n",
       "    <tr>\n",
       "      <th>...</th>\n",
       "      <td>...</td>\n",
       "      <td>...</td>\n",
       "      <td>...</td>\n",
       "      <td>...</td>\n",
       "      <td>...</td>\n",
       "    </tr>\n",
       "    <tr>\n",
       "      <th>795</th>\n",
       "      <td>1000.000000</td>\n",
       "      <td>3.8</td>\n",
       "      <td>3.4</td>\n",
       "      <td>False</td>\n",
       "      <td>ATVI</td>\n",
       "    </tr>\n",
       "    <tr>\n",
       "      <th>796</th>\n",
       "      <td>1051.744802</td>\n",
       "      <td>3.8</td>\n",
       "      <td>3.6</td>\n",
       "      <td>True</td>\n",
       "      <td>ATVI</td>\n",
       "    </tr>\n",
       "    <tr>\n",
       "      <th>797</th>\n",
       "      <td>1000.000000</td>\n",
       "      <td>3.8</td>\n",
       "      <td>3.6</td>\n",
       "      <td>False</td>\n",
       "      <td>ATVI</td>\n",
       "    </tr>\n",
       "    <tr>\n",
       "      <th>798</th>\n",
       "      <td>1047.459431</td>\n",
       "      <td>3.8</td>\n",
       "      <td>3.8</td>\n",
       "      <td>True</td>\n",
       "      <td>ATVI</td>\n",
       "    </tr>\n",
       "    <tr>\n",
       "      <th>799</th>\n",
       "      <td>1000.000000</td>\n",
       "      <td>3.8</td>\n",
       "      <td>3.8</td>\n",
       "      <td>False</td>\n",
       "      <td>ATVI</td>\n",
       "    </tr>\n",
       "  </tbody>\n",
       "</table>\n",
       "<p>3200 rows × 5 columns</p>\n",
       "</div>"
      ],
      "text/plain": [
       "     end_balance  top_cut_off  down_cut_off  if_short ticker\n",
       "0    1201.921776          0.0           0.0      True  UBSFY\n",
       "1    1213.136911          0.0           0.0     False  UBSFY\n",
       "2    1261.300968          0.0           0.2      True  UBSFY\n",
       "3    1220.728518          0.0           0.2     False  UBSFY\n",
       "4    1175.654551          0.0           0.4      True  UBSFY\n",
       "..           ...          ...           ...       ...    ...\n",
       "795  1000.000000          3.8           3.4     False   ATVI\n",
       "796  1051.744802          3.8           3.6      True   ATVI\n",
       "797  1000.000000          3.8           3.6     False   ATVI\n",
       "798  1047.459431          3.8           3.8      True   ATVI\n",
       "799  1000.000000          3.8           3.8     False   ATVI\n",
       "\n",
       "[3200 rows x 5 columns]"
      ]
     },
     "execution_count": 11,
     "metadata": {},
     "output_type": "execute_result"
    }
   ],
   "source": [
    "df"
   ]
  },
  {
   "cell_type": "code",
   "execution_count": 14,
   "metadata": {},
   "outputs": [],
   "source": [
    "idx = df.groupby(['ticker'])['end_balance'].transform(max) == df['end_balance']"
   ]
  },
  {
   "cell_type": "code",
   "execution_count": 17,
   "metadata": {},
   "outputs": [
    {
     "data": {
      "text/html": [
       "<div>\n",
       "<style scoped>\n",
       "    .dataframe tbody tr th:only-of-type {\n",
       "        vertical-align: middle;\n",
       "    }\n",
       "\n",
       "    .dataframe tbody tr th {\n",
       "        vertical-align: top;\n",
       "    }\n",
       "\n",
       "    .dataframe thead th {\n",
       "        text-align: right;\n",
       "    }\n",
       "</style>\n",
       "<table border=\"1\" class=\"dataframe\">\n",
       "  <thead>\n",
       "    <tr style=\"text-align: right;\">\n",
       "      <th></th>\n",
       "      <th>ticker</th>\n",
       "      <th>top_cut_off</th>\n",
       "      <th>down_cut_off</th>\n",
       "      <th>if_short</th>\n",
       "    </tr>\n",
       "  </thead>\n",
       "  <tbody>\n",
       "    <tr>\n",
       "      <th>374</th>\n",
       "      <td>UBSFY</td>\n",
       "      <td>1.8</td>\n",
       "      <td>1.4</td>\n",
       "      <td>True</td>\n",
       "    </tr>\n",
       "    <tr>\n",
       "      <th>526</th>\n",
       "      <td>EA</td>\n",
       "      <td>2.6</td>\n",
       "      <td>0.6</td>\n",
       "      <td>True</td>\n",
       "    </tr>\n",
       "    <tr>\n",
       "      <th>324</th>\n",
       "      <td>TTWO</td>\n",
       "      <td>1.6</td>\n",
       "      <td>0.4</td>\n",
       "      <td>True</td>\n",
       "    </tr>\n",
       "    <tr>\n",
       "      <th>22</th>\n",
       "      <td>ATVI</td>\n",
       "      <td>0.0</td>\n",
       "      <td>2.2</td>\n",
       "      <td>True</td>\n",
       "    </tr>\n",
       "  </tbody>\n",
       "</table>\n",
       "</div>"
      ],
      "text/plain": [
       "    ticker  top_cut_off  down_cut_off  if_short\n",
       "374  UBSFY          1.8           1.4      True\n",
       "526     EA          2.6           0.6      True\n",
       "324   TTWO          1.6           0.4      True\n",
       "22    ATVI          0.0           2.2      True"
      ]
     },
     "execution_count": 17,
     "metadata": {},
     "output_type": "execute_result"
    }
   ],
   "source": [
    "df[idx][['ticker', \"top_cut_off\", \"down_cut_off\", \"if_short\"]]"
   ]
  },
  {
   "cell_type": "code",
   "execution_count": null,
   "metadata": {},
   "outputs": [],
   "source": []
  },
  {
   "cell_type": "code",
   "execution_count": 20,
   "metadata": {},
   "outputs": [],
   "source": [
    "with open(save_path / \"signals_hpars_results.tex\", \"w\") as f:\n",
    "    f.write(\n",
    "         df[idx][['ticker', \"top_cut_off\", \"down_cut_off\", \"if_short\"]]\n",
    "        .to_latex(caption=\"Best strategy hyper parameters\")\n",
    "    )"
   ]
  },
  {
   "cell_type": "code",
   "execution_count": 26,
   "metadata": {},
   "outputs": [],
   "source": [
    "tickers = ['UBSFY', 'EA', 'TTWO', 'ATVI']\n",
    "buy_and_hold = [631.839, 935.412, 944.500, 660.481]\n",
    "results1 = [878.008, 1006.768, 876.744, 631.715]\n",
    "results2 = [1258.925, 1079.715, 870.907, 1110.533]"
   ]
  },
  {
   "cell_type": "code",
   "execution_count": 27,
   "metadata": {},
   "outputs": [],
   "source": [
    "results = pd.DataFrame(\n",
    "    {\n",
    "        \"ticker\": tickers, \n",
    "        \"Buy and Hold\": buy_and_hold, \n",
    "        \"Proposed strategy with parameters found in training set hyperparameter optymalization\": results1, \n",
    "        \"Proposed strategy with arbitrary chosen parameters\": results2\n",
    "    }\n",
    ")"
   ]
  },
  {
   "cell_type": "code",
   "execution_count": 28,
   "metadata": {},
   "outputs": [
    {
     "data": {
      "text/html": [
       "<div>\n",
       "<style scoped>\n",
       "    .dataframe tbody tr th:only-of-type {\n",
       "        vertical-align: middle;\n",
       "    }\n",
       "\n",
       "    .dataframe tbody tr th {\n",
       "        vertical-align: top;\n",
       "    }\n",
       "\n",
       "    .dataframe thead th {\n",
       "        text-align: right;\n",
       "    }\n",
       "</style>\n",
       "<table border=\"1\" class=\"dataframe\">\n",
       "  <thead>\n",
       "    <tr style=\"text-align: right;\">\n",
       "      <th></th>\n",
       "      <th>ticker</th>\n",
       "      <th>Buy and Hold</th>\n",
       "      <th>Proposed strategy with parameters found in training set hyperparameter optymalization</th>\n",
       "      <th>Proposed strategy with arbitrary chosen parameters</th>\n",
       "    </tr>\n",
       "  </thead>\n",
       "  <tbody>\n",
       "    <tr>\n",
       "      <th>0</th>\n",
       "      <td>UBSFY</td>\n",
       "      <td>631.839</td>\n",
       "      <td>878.008</td>\n",
       "      <td>1258.925</td>\n",
       "    </tr>\n",
       "    <tr>\n",
       "      <th>1</th>\n",
       "      <td>EA</td>\n",
       "      <td>935.412</td>\n",
       "      <td>1006.768</td>\n",
       "      <td>1079.715</td>\n",
       "    </tr>\n",
       "    <tr>\n",
       "      <th>2</th>\n",
       "      <td>TTWO</td>\n",
       "      <td>944.500</td>\n",
       "      <td>876.744</td>\n",
       "      <td>870.907</td>\n",
       "    </tr>\n",
       "    <tr>\n",
       "      <th>3</th>\n",
       "      <td>ATVI</td>\n",
       "      <td>660.481</td>\n",
       "      <td>631.715</td>\n",
       "      <td>1110.533</td>\n",
       "    </tr>\n",
       "  </tbody>\n",
       "</table>\n",
       "</div>"
      ],
      "text/plain": [
       "  ticker  Buy and Hold  \\\n",
       "0  UBSFY       631.839   \n",
       "1     EA       935.412   \n",
       "2   TTWO       944.500   \n",
       "3   ATVI       660.481   \n",
       "\n",
       "   Proposed strategy with parameters found in training set hyperparameter optymalization  \\\n",
       "0                                            878.008                                       \n",
       "1                                           1006.768                                       \n",
       "2                                            876.744                                       \n",
       "3                                            631.715                                       \n",
       "\n",
       "   Proposed strategy with arbitrary chosen parameters  \n",
       "0                                           1258.925   \n",
       "1                                           1079.715   \n",
       "2                                            870.907   \n",
       "3                                           1110.533   "
      ]
     },
     "execution_count": 28,
     "metadata": {},
     "output_type": "execute_result"
    }
   ],
   "source": [
    "results"
   ]
  },
  {
   "cell_type": "code",
   "execution_count": null,
   "metadata": {},
   "outputs": [],
   "source": [
    "with open(save_path / \"strategy_results.tex\", \"w\") as f:\n",
    "    f.write(\n",
    "         results\n",
    "        .to_latex(caption=\"Diffrent strategies results\")\n",
    "    )"
   ]
  }
 ],
 "metadata": {
  "interpreter": {
   "hash": "15d6363696a65cc38874fd2e92a4e68e217c6e3e50d492ea631d79243842d5c6"
  },
  "kernelspec": {
   "display_name": "Python 3.9.12 64-bit (windows store)",
   "language": "python",
   "name": "python3"
  },
  "language_info": {
   "codemirror_mode": {
    "name": "ipython",
    "version": 3
   },
   "file_extension": ".py",
   "mimetype": "text/x-python",
   "name": "python",
   "nbconvert_exporter": "python",
   "pygments_lexer": "ipython3",
   "version": "3.9.12"
  },
  "orig_nbformat": 4
 },
 "nbformat": 4,
 "nbformat_minor": 2
}
